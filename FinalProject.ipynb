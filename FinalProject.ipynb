{
  "nbformat": 4,
  "nbformat_minor": 0,
  "metadata": {
    "colab": {
      "name": "FinalProject.ipynb",
      "version": "0.3.2",
      "provenance": [],
      "collapsed_sections": [],
      "toc_visible": true,
      "include_colab_link": true
    },
    "kernelspec": {
      "name": "python3",
      "display_name": "Python 3"
    },
    "accelerator": "GPU"
  },
  "cells": [
    {
      "cell_type": "markdown",
      "metadata": {
        "id": "view-in-github",
        "colab_type": "text"
      },
      "source": [
        "<a href=\"https://colab.research.google.com/github/rofranklin/dataminingfinalproject/blob/master/FinalProject.ipynb\" target=\"_parent\"><img src=\"https://colab.research.google.com/assets/colab-badge.svg\" alt=\"Open In Colab\"/></a>"
      ]
    },
    {
      "metadata": {
        "id": "a8pAycAtndS9",
        "colab_type": "text"
      },
      "cell_type": "markdown",
      "source": [
        "# Final Project\n",
        "\n",
        "For my final project, I used the Microsoft Malware Prediction Dataset and worked on trying to get a better score on the private leaderboard. \n",
        "The things I struggled with were:\n",
        "- The data!\n",
        "  - The quantity of data\n",
        "  - The sampling of the data - the train and test data were separated by time and how that affects the sampling for malware\n",
        "  - the quality of data - many columns were mostly empty\n",
        "  \n",
        "  Processing the data - lots of feature exploration! but SO many rows! 4gb worth of train/test data\n",
        "  \n",
        "  keys to managing that - the sample set was determined to be random as stated in the project details so we needed to take a representative sampling\n",
        "  \n",
        "  utilized light gbm\n",
        "  - this is in essence a binary classifcation problem so gbm is a little bit of overkill, however effective\n",
        "  - utilized all features at first but accuracy was limited and resource constraints are an issue!\n",
        "  \n",
        "  - now utlizing an even smaller set of features\n",
        "  \n",
        "  \n",
        " So the data in itself is interesting, but also the application of finding the probablility that a machine is infected with malware! The most pertinent real life appliation relates to a project that is actively being worked on in security where, given company data and a google data set"
      ]
    },
    {
      "metadata": {
        "id": "xlhJ_L7QpUik",
        "colab_type": "code",
        "outputId": "ce9f0e25-62e2-468b-b3de-01fb33b5b068",
        "colab": {
          "base_uri": "https://localhost:8080/",
          "height": 34
        }
      },
      "cell_type": "code",
      "source": [
        "from googleapiclient.discovery import build\n",
        "import io, os\n",
        "from googleapiclient.http import MediaIoBaseDownload\n",
        "from google.colab import auth\n",
        "\n",
        "auth.authenticate_user()\n",
        "\n",
        "drive_service = build('drive', 'v3')\n",
        "results = drive_service.files().list(\n",
        "        q=\"name = 'kaggle.json'\", fields=\"files(id)\").execute()\n",
        "kaggle_api_key = results.get('files', [])\n",
        "\n",
        "filename = \"/root/.kaggle/kaggle.json\"\n",
        "os.makedirs(os.path.dirname(filename), exist_ok=True)\n",
        "\n",
        "request = drive_service.files().get_media(fileId=kaggle_api_key[0]['id'])\n",
        "fh = io.FileIO(filename, 'wb')\n",
        "downloader = MediaIoBaseDownload(fh, request)\n",
        "done = False\n",
        "while done is False:\n",
        "    status, done = downloader.next_chunk()\n",
        "    print(\"Download %d%%.\" % int(status.progress() * 100))\n",
        "os.chmod(filename, 600)\n",
        "\n",
        "\n",
        "import kaggle"
      ],
      "execution_count": 0,
      "outputs": [
        {
          "output_type": "stream",
          "text": [
            "Download 100%.\n"
          ],
          "name": "stdout"
        }
      ]
    },
    {
      "metadata": {
        "id": "YRpXU4gHncT4",
        "colab_type": "code",
        "outputId": "c505a9eb-7fea-4e65-db15-918b587fdbbe",
        "colab": {
          "base_uri": "https://localhost:8080/",
          "height": 170
        }
      },
      "cell_type": "code",
      "source": [
        "!kaggle competitions download -c microsoft-malware-prediction --force"
      ],
      "execution_count": 0,
      "outputs": [
        {
          "output_type": "stream",
          "text": [
            "Downloading sample_submission.csv.zip to /content\n",
            " 93% 125M/134M [00:02<00:00, 58.6MB/s]\n",
            "100% 134M/134M [00:02<00:00, 64.9MB/s]\n",
            "Downloading test.csv.zip to /content\n",
            "100% 643M/643M [00:14<00:00, 44.3MB/s]\n",
            "100% 643M/643M [00:14<00:00, 46.6MB/s]\n",
            "Downloading train.csv.zip to /content\n",
            " 98% 721M/735M [00:13<00:00, 45.2MB/s]\n",
            "100% 735M/735M [00:13<00:00, 55.6MB/s]\n"
          ],
          "name": "stdout"
        }
      ]
    },
    {
      "metadata": {
        "id": "x6k4bash3oG0",
        "colab_type": "text"
      },
      "cell_type": "markdown",
      "source": [
        "First attempt based on https://www.kaggle.com/cdeotte/private-leaderboard-0-750/data\n",
        "\n",
        "and uses stuff from \n",
        "https://www.kaggle.com/cdeotte/time-series-eda-malware-0-64"
      ]
    },
    {
      "metadata": {
        "id": "ICq2CkIIse4A",
        "colab_type": "code",
        "colab": {}
      },
      "cell_type": "code",
      "source": [
        "import pandas as pd, numpy as np, os, gc\n",
        "import matplotlib.pyplot as plt\n",
        "from datetime import datetime\n",
        "from datetime import timedelta\n",
        "import calendar, math\n",
        "import matplotlib.pyplot as plt\n"
      ],
      "execution_count": 0,
      "outputs": []
    },
    {
      "metadata": {
        "id": "WNLEVsqwsYiE",
        "colab_type": "code",
        "colab": {}
      },
      "cell_type": "code",
      "source": [
        "# Lower detection rate for August and September computers\n",
        "AdjustPublicScore = True\n",
        "# 0=No, 1=Remove Nov 20,21,22,23,24,25, 2=Downward trend Nov 20,21,22,23,24,25\n",
        "AdjustPrivateScore = 2\n",
        "\n",
        "dtypes = {}\n",
        "dtypes['MachineIdentifier'] = 'str'\n",
        "dtypes['AvSigVersion'] = 'category'\n",
        "dtypes['HasDetections'] = 'int8'\n"
      ],
      "execution_count": 0,
      "outputs": []
    },
    {
      "metadata": {
        "id": "4Vl4A5CitbUt",
        "colab_type": "code",
        "outputId": "b0726d6c-d7d8-498d-af40-606e70e12398",
        "colab": {
          "base_uri": "https://localhost:8080/",
          "height": 34
        }
      },
      "cell_type": "code",
      "source": [
        "# LOAD TRAIN DATA\n",
        "df_train = pd.read_csv('/content/train.csv.zip', usecols=list(dtypes.keys()), dtype=dtypes)\n",
        "print ('Loaded',len(df_train),'rows of train.CSV!')"
      ],
      "execution_count": 0,
      "outputs": [
        {
          "output_type": "stream",
          "text": [
            "Loaded 8921483 rows of train.CSV!\n"
          ],
          "name": "stdout"
        }
      ]
    },
    {
      "metadata": {
        "id": "4tKs_AMnt2T_",
        "colab_type": "code",
        "outputId": "b915d090-b0ab-452a-b636-9b3a05b2d7e3",
        "colab": {
          "base_uri": "https://localhost:8080/",
          "height": 34
        }
      },
      "cell_type": "code",
      "source": [
        "df_test = pd.read_csv('/content/test.csv.zip', usecols=list(dtypes.keys())[0:-1], dtype=dtypes)\n",
        "print ('Loaded',len(df_test),'rows of test.CSV!')"
      ],
      "execution_count": 0,
      "outputs": [
        {
          "output_type": "stream",
          "text": [
            "Loaded 7853253 rows of test.CSV!\n"
          ],
          "name": "stdout"
        }
      ]
    },
    {
      "metadata": {
        "id": "hpHQaT4awQRx",
        "colab_type": "code",
        "outputId": "e2c44ed8-7870-4fae-9480-bc5cec42eb2e",
        "colab": {
          "base_uri": "https://localhost:8080/",
          "height": 34
        }
      },
      "cell_type": "code",
      "source": [
        "from google.colab import drive\n",
        "drive.mount('/content/drive')"
      ],
      "execution_count": 0,
      "outputs": [
        {
          "output_type": "stream",
          "text": [
            "Drive already mounted at /content/drive; to attempt to forcibly remount, call drive.mount(\"/content/drive\", force_remount=True).\n"
          ],
          "name": "stdout"
        }
      ]
    },
    {
      "metadata": {
        "id": "VApopknzvt7M",
        "colab_type": "code",
        "outputId": "9bee9376-7c2c-4b10-c1a4-91f1227a1662",
        "colab": {
          "base_uri": "https://localhost:8080/",
          "height": 34
        }
      },
      "cell_type": "code",
      "source": [
        "df_test2 = pd.read_csv('/content/drive/My Drive/super_blend.csv')\n",
        "print ('Loaded',len(df_test),'rows of super_blend.csv!')"
      ],
      "execution_count": 0,
      "outputs": [
        {
          "output_type": "stream",
          "text": [
            "Loaded 7853253 rows of super_blend.csv!\n"
          ],
          "name": "stdout"
        }
      ]
    },
    {
      "metadata": {
        "id": "pgGBNvmyyJhq",
        "colab_type": "code",
        "colab": {}
      },
      "cell_type": "code",
      "source": [
        "datedictAS = np.load('/content/drive/My Drive/AvSigVersionTimestamps.npy')[()]\n",
        "df_test['Date'] = df_test['AvSigVersion'].map(datedictAS)\n",
        "df_train['Date'] = df_train['AvSigVersion'].map(datedictAS)\n",
        "df_test2 = pd.merge(df_test2, df_test, on='MachineIdentifier', how='left')\n",
        "df_test2['AvSigVersion2'] = df_test2['AvSigVersion'].map(lambda x: np.int(x.split('.')[1]) )"
      ],
      "execution_count": 0,
      "outputs": []
    },
    {
      "metadata": {
        "id": "iDXB5C8j1IrQ",
        "colab_type": "code",
        "colab": {}
      },
      "cell_type": "code",
      "source": [
        "def dynamicPlot(data,col, target='HasDetections', start=datetime(2018,4,1), end=datetime(2018,12,1)\n",
        "                ,inc_hr=0,inc_dy=7,inc_mn=0,show=0.99,top=5,top2=4,title='',legend=1, dropna=False):\n",
        "    # check for timestamps\n",
        "    if 'Date' not in data:\n",
        "        print('Error dynamicPlot: DataFrame needs column Date of datetimes')\n",
        "        return\n",
        "    \n",
        "    # remove detection line if category density is too small\n",
        "    cv = data[col].value_counts(dropna=dropna)\n",
        "    cvd = cv.to_dict()\n",
        "    nm = cv.index.values\n",
        "    th = show * len(data)\n",
        "    sum = 0; lnn2 = 0\n",
        "    for x in nm:\n",
        "        lnn2 += 1\n",
        "        try: sum += cvd[x]\n",
        "        except: sum += cv[x]\n",
        "        if sum>th:\n",
        "            break\n",
        "    top = min(top,len(nm))\n",
        "    top2 = min(top2,len(nm),lnn2,top)\n",
        "\n",
        "    # calculate rate within each time interval\n",
        "    diff = (end-start).days*24*3600 + (end-start).seconds\n",
        "    size = diff//(3600*((inc_mn * 28 + inc_dy) * 24 + inc_hr)) + 5\n",
        "    data_counts = np.zeros([size,2*top+1],dtype=float)\n",
        "    idx=0; idx2 = {}\n",
        "    for i in range(top):\n",
        "        idx2[nm[i]] = i+1\n",
        "    low = start\n",
        "    high = add_time(start,inc_mn,inc_dy,inc_hr)\n",
        "    data_times = [low+(high-low)/2]\n",
        "    while low<end:\n",
        "        slice = data[ (data['Date']<high) & (data['Date']>=low) ]\n",
        "        data_counts[idx,0] = len(slice)\n",
        "        for key in idx2:\n",
        "            if nan_check(key): slice2 = slice[slice[col].isna()]\n",
        "            else: slice2 = slice[slice[col]==key]\n",
        "            data_counts[idx,idx2[key]] = len(slice2)\n",
        "            if target in data:\n",
        "                data_counts[idx,top+idx2[key]] = slice2['HasDetections'].mean()\n",
        "        low = high\n",
        "        high = add_time(high,inc_mn,inc_dy,inc_hr)\n",
        "        data_times.append(low+(high-low)/2)\n",
        "        idx += 1\n",
        "\n",
        "    # plot lines\n",
        "    fig = plt.figure(1,figsize=(15,3))\n",
        "    cl = ['r','g','b','y','m']\n",
        "    ax3 = fig.add_subplot(1,1,1)\n",
        "    lines = []; labels = []\n",
        "    for i in range(top):\n",
        "        tmp, = ax3.plot(data_times,data_counts[0:idx+1,i+1],cl[i%5])\n",
        "        lines.append(tmp)\n",
        "        labels.append(str(nm[i]))\n",
        "    ax3.spines['left'].set_color('red')\n",
        "    ax3.yaxis.label.set_color('red')\n",
        "    ax3.tick_params(axis='y', colors='red')\n",
        "    if col!='ones': ax3.set_ylabel('Category Density', color='r')\n",
        "    else: ax3.set_ylabel('Data Density', color='r')\n",
        "    ax3.set_yticklabels([])\n",
        "    if target in data:\n",
        "        ax4 = ax3.twinx()\n",
        "        for i in range(top2):\n",
        "            ax4.plot(data_times,data_counts[0:idx+1,i+1+top],cl[i%5]+\":\")\n",
        "        ax4.spines['left'].set_color('red')\n",
        "        ax4.set_ylabel('Detection Rate', color='k')\n",
        "    if title!='': plt.title(title)\n",
        "    if legend==1: plt.legend(lines,labels)\n",
        "    plt.show()\n",
        "    \n",
        "# INCREMENT A DATETIME\n",
        "def add_time(sdate,months=0,days=0,hours=0):\n",
        "    month = sdate.month -1 + months\n",
        "    year = sdate.year + month // 12\n",
        "    month = month % 12 + 1\n",
        "    day = sdate.day + days\n",
        "    if day>calendar.monthrange(year,month)[1]:\n",
        "        day -= calendar.monthrange(year,month)[1]\n",
        "        month += 1\n",
        "        if month>12:\n",
        "            month = 1\n",
        "            year += 1\n",
        "    hour = sdate.hour + hours\n",
        "    if hour>23:\n",
        "        hour = 0\n",
        "        day += 1\n",
        "        if day>calendar.monthrange(year,month)[1]:\n",
        "            day -= calendar.monthrange(year,month)[1]\n",
        "            month += 1\n",
        "            if month>12:\n",
        "                month = 1\n",
        "                year += 1\n",
        "    return datetime(year,month,day,hour,sdate.minute)\n",
        "\n",
        "# CHECK FOR NAN\n",
        "def nan_check(x):\n",
        "    if isinstance(x,float):\n",
        "        if math.isnan(x):\n",
        "            return True\n",
        "    return False"
      ],
      "execution_count": 0,
      "outputs": []
    },
    {
      "metadata": {
        "id": "t1rZJzCny9cP",
        "colab_type": "code",
        "outputId": "328ad3ce-ca6a-451a-d4ef-970efd6850e6",
        "colab": {
          "base_uri": "https://localhost:8080/",
          "height": 227
        }
      },
      "cell_type": "code",
      "source": [
        "df_train['ones'] = 1\n",
        "dynamicPlot(df_train,'ones',title='Training data. (Dotted line uses right y-axis. Solid uses left.)')"
      ],
      "execution_count": 0,
      "outputs": [
        {
          "output_type": "display_data",
          "data": {
            "image/png": "[encoded data removed]",
            "text/plain": [
              "<Figure size 1080x216 with 2 Axes>"
            ]
          },
          "metadata": {
            "tags": []
          }
        }
      ]
    },
    {
      "metadata": {
        "id": "j3ZbETiV1lJm",
        "colab_type": "code",
        "outputId": "e0ff7734-346f-4944-eab4-c2e474430677",
        "colab": {
          "base_uri": "https://localhost:8080/",
          "height": 424
        }
      },
      "cell_type": "code",
      "source": [
        "df_test2['ones'] = 1\n",
        "dynamicPlot(df_test2,'ones',title='Original submission')\n",
        "dynamicPlot(df_test2,'AvSigVersion2',start=datetime(2018,9,1),end=datetime(2018,11,29),inc_dy=1,top2=4)"
      ],
      "execution_count": 0,
      "outputs": [
        {
          "output_type": "display_data",
          "data": {
            "image/png": "[encoded data removed]",
            "text/plain": [
              "<Figure size 1080x216 with 2 Axes>"
            ]
          },
          "metadata": {
            "tags": []
          }
        },
        {
          "output_type": "display_data",
          "data": {
            "image/png": "[encoded data removed]",
            "text/plain": [
              "<Figure size 1080x216 with 2 Axes>"
            ]
          },
          "metadata": {
            "tags": []
          }
        }
      ]
    },
    {
      "metadata": {
        "id": "_PuxvuIx2pOE",
        "colab_type": "code",
        "colab": {}
      },
      "cell_type": "code",
      "source": [
        "if AdjustPublicScore: df_test2.loc[ (df_test2['AvSigVersion2']==275)|(df_test2['AvSigVersion2']==273),'HasDetections'] *= 0.6"
      ],
      "execution_count": 0,
      "outputs": []
    },
    {
      "metadata": {
        "id": "aQOckpcS2rzy",
        "colab_type": "code",
        "outputId": "0c7de39a-4483-470f-b826-589bfe7b39dd",
        "colab": {
          "base_uri": "https://localhost:8080/",
          "height": 424
        }
      },
      "cell_type": "code",
      "source": [
        "dynamicPlot(df_test2,'ones',title='Adjustment 1')\n",
        "dynamicPlot(df_test2,'AvSigVersion2',start=datetime(2018,9,1),end=datetime(2018,11,29),inc_dy=1,top2=4)"
      ],
      "execution_count": 0,
      "outputs": [
        {
          "output_type": "display_data",
          "data": {
            "image/png": "[encoded data removed]",
            "text/plain": [
              "<Figure size 1080x216 with 2 Axes>"
            ]
          },
          "metadata": {
            "tags": []
          }
        },
        {
          "output_type": "display_data",
          "data": {
            "image/png": "[encoded data removed]",
            "text/plain": [
              "<Figure size 1080x216 with 2 Axes>"
            ]
          },
          "metadata": {
            "tags": []
          }
        }
      ]
    },
    {
      "metadata": {
        "id": "tHvlxl5G25vi",
        "colab_type": "code",
        "colab": {}
      },
      "cell_type": "code",
      "source": [
        "if AdjustPrivateScore==1:\n",
        "    df_test2.loc[ df_test2['Date']>datetime(2018,11,20,4,0) ,'HasDetections'] = 0\n",
        "elif AdjustPrivateScore==2:\n",
        "    df_test2['X'] = df_test2['Date'] - datetime(2018,11,20,4,0) \n",
        "    df_test2['X'] = df_test2['X'].map(lambda x: x.total_seconds()/86400)\n",
        "    df_test2['X'].fillna(0,inplace=True)\n",
        "    s = 5.813888\n",
        "    df_test2['F'] = 1.0\n",
        "    df_test2['F'] = 1 - df_test2['X']/s\n",
        "    df_test2.loc[df_test2['X']<=0,'F'] = 1.0\n",
        "    df_test2.loc[df_test2['X']>s,'F'] = 0\n",
        "    df_test2['HasDetections'] *= df_test2['F']"
      ],
      "execution_count": 0,
      "outputs": []
    },
    {
      "metadata": {
        "id": "NntmE02f3OxV",
        "colab_type": "code",
        "outputId": "23621056-6cac-4207-9aeb-b86d40222c84",
        "colab": {
          "base_uri": "https://localhost:8080/",
          "height": 437
        }
      },
      "cell_type": "code",
      "source": [
        "dynamicPlot(df_test2,'ones',title='Adjustment 2')\n",
        "dynamicPlot(df_test2,'AvSigVersion2',start=datetime(2018,9,1),end=datetime(2018,11,29),inc_dy=1,top2=4,\n",
        "            title='adjustment 2')"
      ],
      "execution_count": 0,
      "outputs": [
        {
          "output_type": "display_data",
          "data": {
            "image/png": "[encoded data removed]",
            "text/plain": [
              "<Figure size 1080x216 with 2 Axes>"
            ]
          },
          "metadata": {
            "tags": []
          }
        },
        {
          "output_type": "display_data",
          "data": {
            "image/png": "[encoded data removed]",
            "text/plain": [
              "<Figure size 1080x216 with 2 Axes>"
            ]
          },
          "metadata": {
            "tags": []
          }
        }
      ]
    },
    {
      "metadata": {
        "id": "9Rh_P7q63bKh",
        "colab_type": "code",
        "colab": {}
      },
      "cell_type": "code",
      "source": [
        "df_test2[['MachineIdentifier','HasDetections']].to_csv('PrivateLeaderboard2.csv', index=False)"
      ],
      "execution_count": 0,
      "outputs": []
    },
    {
      "metadata": {
        "id": "TJetDHHFtAzg",
        "colab_type": "code",
        "outputId": "2218ef26-903d-4754-baae-11f1f80d65ba",
        "colab": {
          "base_uri": "https://localhost:8080/",
          "height": 51
        }
      },
      "cell_type": "code",
      "source": [
        "!pip install -U -q PyDrive\n",
        "from pydrive.auth import GoogleAuth\n",
        "from pydrive.drive import GoogleDrive\n",
        "from google.colab import auth\n",
        "from oauth2client.client import GoogleCredentials\n",
        "\n",
        "# Authenticate and create the PyDrive client.\n",
        "# This only needs to be done once in a notebook.\n",
        "auth.authenticate_user()\n",
        "gauth = GoogleAuth()\n",
        "gauth.credentials = GoogleCredentials.get_application_default()\n",
        "drive = GoogleDrive(gauth)\n",
        "\n",
        "# Create & upload a file.\n",
        "uploaded = drive.CreateFile({'title': 'PrivateLeaderboard.csv'})\n",
        "uploaded.SetContentFile('PrivateLeaderboard.csv')\n",
        "uploaded.Upload()\n",
        "print('Uploaded file with ID {}'.format(uploaded.get('id')))"
      ],
      "execution_count": 0,
      "outputs": [
        {
          "output_type": "stream",
          "text": [
            "\u001b[?25l\r\u001b[K    1% |▎                               | 10kB 20.6MB/s eta 0:00:01\r\u001b[K    2% |▋                               | 20kB 1.7MB/s eta 0:00:01\r\u001b[K    3% |█                               | 30kB 2.4MB/s eta 0:00:01\r\u001b[K    4% |█▎                              | 40kB 1.7MB/s eta 0:00:01\r\u001b[K    5% |█▋                              | 51kB 2.0MB/s eta 0:00:01\r\u001b[K    6% |██                              | 61kB 2.4MB/s eta 0:00:01\r\u001b[K    7% |██▎                             | 71kB 2.8MB/s eta 0:00:01\r\u001b[K    8% |██▋                             | 81kB 3.2MB/s eta 0:00:01\r\u001b[K    9% |███                             | 92kB 3.5MB/s eta 0:00:01\r\u001b[K    10% |███▎                            | 102kB 2.8MB/s eta 0:00:01\r\u001b[K    11% |███▋                            | 112kB 2.8MB/s eta 0:00:01\r\u001b[K    12% |████                            | 122kB 4.1MB/s eta 0:00:01\r\u001b[K    13% |████▎                           | 133kB 4.1MB/s eta 0:00:01\r\u001b[K    14% |████▋                           | 143kB 7.7MB/s eta 0:00:01\r\u001b[K    15% |█████                           | 153kB 7.7MB/s eta 0:00:01\r\u001b[K    16% |█████▎                          | 163kB 7.7MB/s eta 0:00:01\r\u001b[K    17% |█████▋                          | 174kB 7.7MB/s eta 0:00:01\r\u001b[K    18% |██████                          | 184kB 7.8MB/s eta 0:00:01\r\u001b[K    19% |██████▎                         | 194kB 7.8MB/s eta 0:00:01\r\u001b[K    20% |██████▋                         | 204kB 37.3MB/s eta 0:00:01\r\u001b[K    21% |███████                         | 215kB 8.5MB/s eta 0:00:01\r\u001b[K    22% |███████▎                        | 225kB 8.5MB/s eta 0:00:01\r\u001b[K    23% |███████▋                        | 235kB 8.6MB/s eta 0:00:01\r\u001b[K    24% |████████                        | 245kB 8.5MB/s eta 0:00:01\r\u001b[K    25% |████████▎                       | 256kB 8.6MB/s eta 0:00:01\r\u001b[K    26% |████████▋                       | 266kB 8.4MB/s eta 0:00:01\r\u001b[K    27% |█████████                       | 276kB 8.4MB/s eta 0:00:01\r\u001b[K    29% |█████████▎                      | 286kB 8.4MB/s eta 0:00:01\r\u001b[K    30% |█████████▋                      | 296kB 8.4MB/s eta 0:00:01\r\u001b[K    31% |██████████                      | 307kB 8.7MB/s eta 0:00:01\r\u001b[K    32% |██████████▎                     | 317kB 40.9MB/s eta 0:00:01\r\u001b[K    33% |██████████▋                     | 327kB 41.0MB/s eta 0:00:01\r\u001b[K    34% |███████████                     | 337kB 43.3MB/s eta 0:00:01\r\u001b[K    35% |███████████▎                    | 348kB 39.1MB/s eta 0:00:01\r\u001b[K    36% |███████████▋                    | 358kB 39.0MB/s eta 0:00:01\r\u001b[K    37% |████████████                    | 368kB 44.0MB/s eta 0:00:01\r\u001b[K    38% |████████████▎                   | 378kB 43.8MB/s eta 0:00:01\r\u001b[K    39% |████████████▋                   | 389kB 43.8MB/s eta 0:00:01\r\u001b[K    40% |█████████████                   | 399kB 9.9MB/s eta 0:00:01\r\u001b[K    41% |█████████████▎                  | 409kB 9.9MB/s eta 0:00:01\r\u001b[K    42% |█████████████▋                  | 419kB 9.9MB/s eta 0:00:01\r\u001b[K    43% |██████████████                  | 430kB 9.8MB/s eta 0:00:01\r\u001b[K    44% |██████████████▎                 | 440kB 9.8MB/s eta 0:00:01\r\u001b[K    45% |██████████████▋                 | 450kB 9.9MB/s eta 0:00:01\r\u001b[K    46% |███████████████                 | 460kB 9.9MB/s eta 0:00:01\r\u001b[K    47% |███████████████▎                | 471kB 9.9MB/s eta 0:00:01\r\u001b[K    48% |███████████████▋                | 481kB 9.9MB/s eta 0:00:01\r\u001b[K    49% |████████████████                | 491kB 9.9MB/s eta 0:00:01\r\u001b[K    50% |████████████████▎               | 501kB 43.8MB/s eta 0:00:01\r\u001b[K    51% |████████████████▋               | 512kB 42.8MB/s eta 0:00:01\r\u001b[K    52% |█████████████████               | 522kB 43.2MB/s eta 0:00:01\r\u001b[K    53% |█████████████████▎              | 532kB 43.7MB/s eta 0:00:01\r\u001b[K    54% |█████████████████▋              | 542kB 45.1MB/s eta 0:00:01\r\u001b[K    55% |██████████████████              | 552kB 49.2MB/s eta 0:00:01\r\u001b[K    57% |██████████████████▎             | 563kB 49.8MB/s eta 0:00:01\r\u001b[K    58% |██████████████████▋             | 573kB 49.4MB/s eta 0:00:01\r\u001b[K    59% |███████████████████             | 583kB 49.7MB/s eta 0:00:01\r\u001b[K    60% |███████████████████▎            | 593kB 49.6MB/s eta 0:00:01\r\u001b[K    61% |███████████████████▋            | 604kB 49.7MB/s eta 0:00:01\r\u001b[K    62% |████████████████████            | 614kB 53.3MB/s eta 0:00:01\r\u001b[K    63% |████████████████████▎           | 624kB 52.9MB/s eta 0:00:01\r\u001b[K    64% |████████████████████▋           | 634kB 53.3MB/s eta 0:00:01\r\u001b[K    65% |█████████████████████           | 645kB 53.3MB/s eta 0:00:01\r\u001b[K    66% |█████████████████████▎          | 655kB 51.8MB/s eta 0:00:01\r\u001b[K    67% |█████████████████████▋          | 665kB 40.9MB/s eta 0:00:01\r\u001b[K    68% |██████████████████████          | 675kB 12.0MB/s eta 0:00:01\r\u001b[K    69% |██████████████████████▎         | 686kB 12.0MB/s eta 0:00:01\r\u001b[K    70% |██████████████████████▋         | 696kB 11.9MB/s eta 0:00:01\r\u001b[K    71% |███████████████████████         | 706kB 11.8MB/s eta 0:00:01\r\u001b[K    72% |███████████████████████▎        | 716kB 11.8MB/s eta 0:00:01\r\u001b[K    73% |███████████████████████▋        | 727kB 11.8MB/s eta 0:00:01\r\u001b[K    74% |████████████████████████        | 737kB 11.9MB/s eta 0:00:01\r\u001b[K    75% |████████████████████████▎       | 747kB 11.9MB/s eta 0:00:01\r\u001b[K    76% |████████████████████████▋       | 757kB 11.8MB/s eta 0:00:01\r\u001b[K    77% |████████████████████████▉       | 768kB 12.6MB/s eta 0:00:01\r\u001b[K    78% |█████████████████████████▏      | 778kB 48.6MB/s eta 0:00:01\r\u001b[K    79% |█████████████████████████▌      | 788kB 49.1MB/s eta 0:00:01\r\u001b[K    80% |█████████████████████████▉      | 798kB 50.4MB/s eta 0:00:01\r\u001b[K    81% |██████████████████████████▏     | 808kB 50.4MB/s eta 0:00:01\r\u001b[K    82% |██████████████████████████▌     | 819kB 50.1MB/s eta 0:00:01\r\u001b[K    83% |██████████████████████████▉     | 829kB 50.5MB/s eta 0:00:01\r\u001b[K    85% |███████████████████████████▏    | 839kB 50.8MB/s eta 0:00:01\r\u001b[K    86% |███████████████████████████▌    | 849kB 50.9MB/s eta 0:00:01\r\u001b[K    87% |███████████████████████████▉    | 860kB 47.3MB/s eta 0:00:01\r\u001b[K    88% |████████████████████████████▏   | 870kB 46.9MB/s eta 0:00:01\r\u001b[K    89% |████████████████████████████▌   | 880kB 47.4MB/s eta 0:00:01\r\u001b[K    90% |████████████████████████████▉   | 890kB 47.6MB/s eta 0:00:01\r\u001b[K    91% |█████████████████████████████▏  | 901kB 46.6MB/s eta 0:00:01\r\u001b[K    92% |█████████████████████████████▌  | 911kB 48.2MB/s eta 0:00:01\r\u001b[K    93% |█████████████████████████████▉  | 921kB 48.5MB/s eta 0:00:01\r\u001b[K    94% |██████████████████████████████▏ | 931kB 48.7MB/s eta 0:00:01\r\u001b[K    95% |██████████████████████████████▌ | 942kB 48.5MB/s eta 0:00:01\r\u001b[K    96% |██████████████████████████████▉ | 952kB 47.4MB/s eta 0:00:01\r\u001b[K    97% |███████████████████████████████▏| 962kB 53.2MB/s eta 0:00:01\r\u001b[K    98% |███████████████████████████████▌| 972kB 53.4MB/s eta 0:00:01\r\u001b[K    99% |███████████████████████████████▉| 983kB 53.0MB/s eta 0:00:01\r\u001b[K    100% |████████████████████████████████| 993kB 18.8MB/s \n",
            "\u001b[?25h  Building wheel for PyDrive (setup.py) ... \u001b[?25ldone\n",
            "\u001b[?25h"
          ],
          "name": "stdout"
        }
      ]
    },
    {
      "metadata": {
        "id": "n1hIkAv5uLvp",
        "colab_type": "text"
      },
      "cell_type": "markdown",
      "source": [
        "update: private score and public score respectively is 0.74964\n",
        "0.69256"
      ]
    },
    {
      "metadata": {
        "id": "AC_RjZT3kILa",
        "colab_type": "text"
      },
      "cell_type": "markdown",
      "source": [
        "## Ok, now to try Kfold cross validation with count encoding: \n",
        "inspired by: https://www.kaggle.com/sanderf/7th-place-solution-microsoft-malware-prediction and https://www.kaggle.com/c/microsoft-malware-prediction/discussion/86888#latest-504802"
      ]
    },
    {
      "metadata": {
        "id": "ENZBoApLkYNF",
        "colab_type": "code",
        "colab": {}
      },
      "cell_type": "code",
      "source": [
        "import numpy as np\n",
        "import pandas as pd\n",
        "import gc\n",
        "import time\n",
        "import random\n",
        "from lightgbm import LGBMClassifier\n",
        "from sklearn.metrics import roc_auc_score, roc_curve\n",
        "from sklearn.model_selection import StratifiedKFold\n",
        "import matplotlib.pyplot as plot\n",
        "import seaborn as sb"
      ],
      "execution_count": 0,
      "outputs": []
    },
    {
      "metadata": {
        "id": "zg9TllthlDVr",
        "colab_type": "code",
        "colab": {}
      },
      "cell_type": "code",
      "source": [
        "#vars\n",
        "dataFolder = '/content/'\n",
        "submissionFileName = 'submission'\n",
        "trainFile='train.csv.zip'\n",
        "testFile='test.csv.zip'\n",
        "#used 4000000 nr of rows in stead of 8000000 because of Kernel memory issue\n",
        "numberOfRows = 2000000"
      ],
      "execution_count": 0,
      "outputs": []
    },
    {
      "metadata": {
        "id": "jQNLyRs5lNCU",
        "colab_type": "code",
        "colab": {}
      },
      "cell_type": "code",
      "source": [
        "seed = 6001\n",
        "np.random.seed(seed)\n",
        "random.seed(seed)"
      ],
      "execution_count": 0,
      "outputs": []
    },
    {
      "metadata": {
        "id": "UqLXy_02lOpL",
        "colab_type": "code",
        "colab": {}
      },
      "cell_type": "code",
      "source": [
        "def displayImportances(featureImportanceDf, submissionFileName):\n",
        "    cols = featureImportanceDf[[\"feature\", \"importance\"]].groupby(\"feature\").mean().sort_values(by = \"importance\", ascending = False).index\n",
        "    bestFeatures = featureImportanceDf.loc[featureImportanceDf.feature.isin(cols)]\n",
        "    plot.figure(figsize = (14, 14))\n",
        "    sb.barplot(x = \"importance\", y = \"feature\", data = bestFeatures.sort_values(by = \"importance\", ascending = False))\n",
        "    plot.title('LightGBM Features')\n",
        "    plot.tight_layout()\n",
        "    plot.savefig(submissionFileName + '.png')"
      ],
      "execution_count": 0,
      "outputs": []
    },
    {
      "metadata": {
        "id": "f2F-6AmHlo8z",
        "colab_type": "code",
        "colab": {}
      },
      "cell_type": "code",
      "source": [
        "dtypes = {\n",
        "        'MachineIdentifier':                                    'category',\n",
        "        'ProductName':                                          'category',\n",
        "        'EngineVersion':                                        'category',\n",
        "        'AppVersion':                                           'category',\n",
        "        'AvSigVersion':                                         'category',\n",
        "        'IsBeta':                                               'int8',\n",
        "        'RtpStateBitfield':                                     'float16',\n",
        "        'IsSxsPassiveMode':                                     'int8',\n",
        "        'DefaultBrowsersIdentifier':                            'float16',\n",
        "        'AVProductStatesIdentifier':                            'float32',\n",
        "        'AVProductsInstalled':                                  'float16',\n",
        "        'AVProductsEnabled':                                    'float16',\n",
        "        'HasTpm':                                               'int8',\n",
        "        'CountryIdentifier':                                    'int16',\n",
        "        'CityIdentifier':                                       'float32',\n",
        "        'OrganizationIdentifier':                               'float16',\n",
        "        'GeoNameIdentifier':                                    'float16',\n",
        "        'LocaleEnglishNameIdentifier':                          'int8',\n",
        "        'Platform':                                             'category',\n",
        "        'Processor':                                            'category',\n",
        "        'OsVer':                                                'category',\n",
        "        'OsBuild':                                              'int16',\n",
        "        'OsSuite':                                              'int16',\n",
        "        'OsPlatformSubRelease':                                 'category',\n",
        "        'OsBuildLab':                                           'category',\n",
        "        'SkuEdition':                                           'category',\n",
        "        'IsProtected':                                          'float16',\n",
        "        'AutoSampleOptIn':                                      'int8',\n",
        "        'PuaMode':                                              'category',\n",
        "        'SMode':                                                'float16',\n",
        "        'IeVerIdentifier':                                      'float16',\n",
        "        'SmartScreen':                                          'category',\n",
        "        'Firewall':                                             'float16',\n",
        "        'UacLuaenable':                                         'float32',\n",
        "        'Census_MDC2FormFactor':                                'category',\n",
        "        'Census_DeviceFamily':                                  'category',\n",
        "        'Census_OEMNameIdentifier':                             'float16',\n",
        "        'Census_OEMModelIdentifier':                            'float32',\n",
        "        'Census_ProcessorCoreCount':                            'float16',\n",
        "        'Census_ProcessorManufacturerIdentifier':               'float16',\n",
        "        'Census_ProcessorModelIdentifier':                      'float16',\n",
        "        'Census_ProcessorClass':                                'category',\n",
        "        'Census_PrimaryDiskTotalCapacity':                      'float32',\n",
        "        'Census_PrimaryDiskTypeName':                           'category',\n",
        "        'Census_SystemVolumeTotalCapacity':                     'float32',\n",
        "        'Census_HasOpticalDiskDrive':                           'int8',\n",
        "        'Census_TotalPhysicalRAM':                              'float32',\n",
        "        'Census_ChassisTypeName':                               'category',\n",
        "        'Census_InternalPrimaryDiagonalDisplaySizeInInches':    'float16',\n",
        "        'Census_InternalPrimaryDisplayResolutionHorizontal':    'float16',\n",
        "        'Census_InternalPrimaryDisplayResolutionVertical':      'float16',\n",
        "        'Census_PowerPlatformRoleName':                         'category',\n",
        "        'Census_InternalBatteryType':                           'category',\n",
        "        'Census_InternalBatteryNumberOfCharges':                'float32',\n",
        "        'Census_OSVersion':                                     'category',\n",
        "        'Census_OSArchitecture':                                'category',\n",
        "        'Census_OSBranch':                                      'category',\n",
        "        'Census_OSBuildNumber':                                 'int16',\n",
        "        'Census_OSBuildRevision':                               'int32',\n",
        "        'Census_OSEdition':                                     'category',\n",
        "        'Census_OSSkuName':                                     'category',\n",
        "        'Census_OSInstallTypeName':                             'category',\n",
        "        'Census_OSInstallLanguageIdentifier':                   'float16',\n",
        "        'Census_OSUILocaleIdentifier':                          'int16',\n",
        "        'Census_OSWUAutoUpdateOptionsName':                     'category',\n",
        "        'Census_IsPortableOperatingSystem':                     'int8',\n",
        "        'Census_GenuineStateName':                              'category',\n",
        "        'Census_ActivationChannel':                             'category',\n",
        "        'Census_IsFlightingInternal':                           'float16',\n",
        "        'Census_IsFlightsDisabled':                             'float16',\n",
        "        'Census_FlightRing':                                    'category',\n",
        "        'Census_ThresholdOptIn':                                'float16',\n",
        "        'Census_FirmwareManufacturerIdentifier':                'float16',\n",
        "        'Census_FirmwareVersionIdentifier':                     'float32',\n",
        "        'Census_IsSecureBootEnabled':                           'int8',\n",
        "        'Census_IsWIMBootEnabled':                              'float16',\n",
        "        'Census_IsVirtualDevice':                               'float16',\n",
        "        'Census_IsTouchEnabled':                                'int8',\n",
        "        'Census_IsPenCapable':                                  'int8',\n",
        "        'Census_IsAlwaysOnAlwaysConnectedCapable':              'float16',\n",
        "        'Wdft_IsGamer':                                         'float16',\n",
        "        'Wdft_RegionIdentifier':                                'float16',\n",
        "        'HasDetections':                                        'int8'\n",
        "        }\n",
        "\n",
        "selectedFeatures = [  \n",
        "    'AVProductStatesIdentifier'\n",
        "    ,'AVProductsEnabled'\n",
        "    ,'IsProtected'\n",
        "    ,'Processor'\n",
        "    ,'OsSuite'\n",
        "    ,'IsProtected'\n",
        "    ,'RtpStateBitfield'\n",
        "    ,'AVProductsInstalled'\n",
        "    ,'Wdft_IsGamer'\n",
        "    ,'DefaultBrowsersIdentifier'\n",
        "    ,'OsBuild'\n",
        "    ,'Wdft_RegionIdentifier'\n",
        "    ,'SmartScreen'\n",
        "    ,'CityIdentifier'\n",
        "    ,'AppVersion'\n",
        "    ,'Census_IsSecureBootEnabled'\n",
        "    ,'Census_PrimaryDiskTypeName'\n",
        "    ,'Census_SystemVolumeTotalCapacity'\n",
        "    ,'Census_HasOpticalDiskDrive'\n",
        "    ,'Census_IsWIMBootEnabled'\n",
        "    ,'Census_IsVirtualDevice'\n",
        "    ,'Census_IsTouchEnabled'\n",
        "    ,'Census_FirmwareVersionIdentifier'\n",
        "    ,'GeoNameIdentifier'\n",
        "    ,'IeVerIdentifier'\n",
        "    ,'Census_FirmwareManufacturerIdentifier'\n",
        "    ,'Census_InternalPrimaryDisplayResolutionHorizontal'\n",
        "    ,'Census_InternalPrimaryDisplayResolutionVertical'\n",
        "    ,'Census_OEMModelIdentifier'\n",
        "    ,'Census_ProcessorModelIdentifier'\n",
        "    ,'Census_OSVersion'\n",
        "    ,'Census_InternalPrimaryDiagonalDisplaySizeInInches'\n",
        "    ,'Census_OEMNameIdentifier'\n",
        "    ,'Census_ChassisTypeName'\n",
        "    ,'Census_OSInstallLanguageIdentifier'\n",
        "    ,'EngineVersion'\n",
        "    ,'OrganizationIdentifier' \n",
        "    ,'CountryIdentifier'   \n",
        "    ,'Census_ActivationChannel'\n",
        "    ,'Census_ProcessorCoreCount'\n",
        "    ,'Census_OSWUAutoUpdateOptionsName'\n",
        "    ,'Census_InternalBatteryType'\n",
        "    ]"
      ],
      "execution_count": 0,
      "outputs": []
    },
    {
      "metadata": {
        "id": "gqEjOBcjlxZx",
        "colab_type": "code",
        "outputId": "b99f1087-c252-4b01-b0b1-116368a80e7d",
        "colab": {
          "base_uri": "https://localhost:8080/",
          "height": 85
        }
      },
      "cell_type": "code",
      "source": [
        "# Load Data with selected features\n",
        "trainDf = pd.read_csv(dataFolder + trainFile, dtype=dtypes, usecols=selectedFeatures, low_memory=True, nrows = numberOfRows)\n",
        "labels = pd.read_csv(dataFolder + trainFile, usecols = ['HasDetections'], nrows = numberOfRows)\n",
        "testDf = pd.read_csv(dataFolder + testFile, dtype=dtypes, usecols=selectedFeatures, low_memory=True, nrows = numberOfRows)\n",
        "print('== Dataset Shapes ==')\n",
        "print('Train : ' + str(trainDf.shape))\n",
        "print('Labels : ' + str(labels.shape))\n",
        "print('Test : ' + str(testDf.shape))"
      ],
      "execution_count": 0,
      "outputs": [
        {
          "output_type": "stream",
          "text": [
            "== Dataset Shapes ==\n",
            "Train : (2000000, 41)\n",
            "Labels : (2000000, 1)\n",
            "Test : (2000000, 41)\n"
          ],
          "name": "stdout"
        }
      ]
    },
    {
      "metadata": {
        "id": "Sz1v2VJAm4Ny",
        "colab_type": "code",
        "outputId": "e45f189b-4311-4ee7-9c28-e55c1140e8b0",
        "colab": {
          "base_uri": "https://localhost:8080/",
          "height": 34
        }
      },
      "cell_type": "code",
      "source": [
        "# Append Datasets and Cleanup\n",
        "df = trainDf.append(testDf).reset_index()\n",
        "del trainDf, testDf\n",
        "gc.collect()"
      ],
      "execution_count": 0,
      "outputs": [
        {
          "output_type": "execute_result",
          "data": {
            "text/plain": [
              "17297"
            ]
          },
          "metadata": {
            "tags": []
          },
          "execution_count": 25
        }
      ]
    },
    {
      "metadata": {
        "id": "GqIetbhgnADu",
        "colab_type": "code",
        "colab": {}
      },
      "cell_type": "code",
      "source": [
        "# Modify SmartScreen Feature\n",
        "df.loc[df.SmartScreen == 'off', 'SmartScreen'] = 'Off'\n",
        "df.loc[df.SmartScreen == 'of', 'SmartScreen'] = 'Off'\n",
        "df.loc[df.SmartScreen == 'OFF', 'SmartScreen'] = 'Off'\n",
        "df.loc[df.SmartScreen == '00000000', 'SmartScreen'] = 'Off'\n",
        "df.loc[df.SmartScreen == '0', 'SmartScreen'] = 'Off'       \n",
        "df.loc[df.SmartScreen == 'ON', 'SmartScreen'] = 'On'\n",
        "df.loc[df.SmartScreen == 'on', 'SmartScreen'] = 'On'\n",
        "df.loc[df.SmartScreen == 'Enabled', 'SmartScreen'] = 'On'\n",
        "df.loc[df.SmartScreen == 'BLOCK', 'SmartScreen'] = 'Block'\n",
        "df.loc[df.SmartScreen == 'requireadmin', 'SmartScreen'] = 'RequireAdmin'\n",
        "df.loc[df.SmartScreen == 'requireAdmin', 'SmartScreen'] = 'RequireAdmin'\n",
        "df.loc[df.SmartScreen == 'RequiredAdmin', 'SmartScreen'] = 'RequireAdmin'\n",
        "df.loc[df.SmartScreen == 'Promt', 'SmartScreen'] = 'Prompt'\n",
        "df.loc[df.SmartScreen == 'Promprt', 'SmartScreen'] = 'Prompt'\n",
        "df.loc[df.SmartScreen == 'prompt', 'SmartScreen'] = 'Prompt'\n",
        "df.loc[df.SmartScreen == 'warn', 'SmartScreen'] = 'Warn'\n",
        "df.loc[df.SmartScreen == 'Deny', 'SmartScreen'] = 'Block'\n",
        "df.loc[df.SmartScreen == '&#x03;', 'SmartScreen'] = 'Off'"
      ],
      "execution_count": 0,
      "outputs": []
    },
    {
      "metadata": {
        "id": "H07e37TFnKHZ",
        "colab_type": "code",
        "outputId": "8f948b67-49f1-486c-cdf2-c8e4ccc153b6",
        "colab": {
          "base_uri": "https://localhost:8080/",
          "height": 51
        }
      },
      "cell_type": "code",
      "source": [
        "#Count Encoding (with exceptions)\n",
        "for col in [f for f in df.columns if f not in ['index','HasDetections','Census_SystemVolumeTotalCapacity']]:\n",
        "    df[col]=df[col].map(df[col].value_counts())\n",
        "\n",
        "dfDummy = pd.get_dummies(df, dummy_na=True)\n",
        "print('Dummy: ' + str(dfDummy.shape))\n",
        "\n",
        "# Cleanup\n",
        "del df\n",
        "gc.collect()"
      ],
      "execution_count": 0,
      "outputs": [
        {
          "output_type": "stream",
          "text": [
            "Dummy: (4000000, 42)\n"
          ],
          "name": "stdout"
        },
        {
          "output_type": "execute_result",
          "data": {
            "text/plain": [
              "360"
            ]
          },
          "metadata": {
            "tags": []
          },
          "execution_count": 27
        }
      ]
    },
    {
      "metadata": {
        "id": "9CuEmVxsn_LK",
        "colab_type": "code",
        "outputId": "e1bb111e-bfb1-41b8-f3c7-d09da53173a5",
        "colab": {
          "base_uri": "https://localhost:8080/",
          "height": 782
        }
      },
      "cell_type": "code",
      "source": [
        "# Split back to train and test\n",
        "train = dfDummy[:numberOfRows]\n",
        "test = dfDummy[numberOfRows:]\n",
        "\n",
        "# Cleanup\n",
        "del dfDummy\n",
        "gc.collect()\n",
        "\n",
        "# Summary Shape\n",
        "print('== Dataset Shapes ==')\n",
        "print('Train: ' + str(train.shape))\n",
        "print('Test: ' + str(test.shape))\n",
        "\n",
        "# Summary Columns\n",
        "print('== Dataset Columns ==')\n",
        "features = [f for f in train.columns if f not in ['index']]\n",
        "for feature in features:\n",
        "    print(feature)\n"
      ],
      "execution_count": 0,
      "outputs": [
        {
          "output_type": "stream",
          "text": [
            "== Dataset Shapes ==\n",
            "Train: (2000000, 42)\n",
            "Test: (2000000, 42)\n",
            "== Dataset Columns ==\n",
            "EngineVersion\n",
            "AppVersion\n",
            "RtpStateBitfield\n",
            "DefaultBrowsersIdentifier\n",
            "AVProductStatesIdentifier\n",
            "AVProductsInstalled\n",
            "AVProductsEnabled\n",
            "CountryIdentifier\n",
            "CityIdentifier\n",
            "OrganizationIdentifier\n",
            "GeoNameIdentifier\n",
            "Processor\n",
            "OsBuild\n",
            "OsSuite\n",
            "IsProtected\n",
            "IeVerIdentifier\n",
            "SmartScreen\n",
            "Census_OEMNameIdentifier\n",
            "Census_OEMModelIdentifier\n",
            "Census_ProcessorCoreCount\n",
            "Census_ProcessorModelIdentifier\n",
            "Census_PrimaryDiskTypeName\n",
            "Census_SystemVolumeTotalCapacity\n",
            "Census_HasOpticalDiskDrive\n",
            "Census_ChassisTypeName\n",
            "Census_InternalPrimaryDiagonalDisplaySizeInInches\n",
            "Census_InternalPrimaryDisplayResolutionHorizontal\n",
            "Census_InternalPrimaryDisplayResolutionVertical\n",
            "Census_InternalBatteryType\n",
            "Census_OSVersion\n",
            "Census_OSInstallLanguageIdentifier\n",
            "Census_OSWUAutoUpdateOptionsName\n",
            "Census_ActivationChannel\n",
            "Census_FirmwareManufacturerIdentifier\n",
            "Census_FirmwareVersionIdentifier\n",
            "Census_IsSecureBootEnabled\n",
            "Census_IsWIMBootEnabled\n",
            "Census_IsVirtualDevice\n",
            "Census_IsTouchEnabled\n",
            "Wdft_IsGamer\n",
            "Wdft_RegionIdentifier\n"
          ],
          "name": "stdout"
        }
      ]
    },
    {
      "metadata": {
        "id": "_945G9GToHyd",
        "colab_type": "code",
        "outputId": "da2b68b7-27ed-4f1b-cc53-2097b6362437",
        "colab": {
          "base_uri": "https://localhost:8080/",
          "height": 564
        }
      },
      "cell_type": "code",
      "source": [
        "# CV Folds\n",
        "folds = StratifiedKFold(n_splits = 2, shuffle = True, random_state = seed)\n",
        "\n",
        "# Create arrays and dataframes to store results\n",
        "oofPreds = np.zeros(train.shape[0])\n",
        "subPreds = np.zeros(test.shape[0])\n",
        "featureImportanceDf = pd.DataFrame()\n",
        "\n",
        "# Loop through all Folds.\n",
        "for n_fold, (trainXId, validXId) in enumerate(folds.split(train[features], labels)):\n",
        "    # Create TrainXY and ValidationXY set based on fold-indexes\n",
        "    trainX, trainY = train[features].iloc[trainXId], labels.iloc[trainXId]\n",
        "    validX, validY = train[features].iloc[validXId], labels.iloc[validXId]\n",
        "\n",
        "    print('== Fold: ' + str(n_fold))\n",
        "\n",
        "    # LightGBM parameters\n",
        "    lgbm = LGBMClassifier(\n",
        "        objective = 'binary',\n",
        "        boosting_type = 'gbdt',\n",
        "        n_estimators = 2500,\n",
        "        learning_rate = 0.1, \n",
        "        num_leaves = 75,\n",
        "        min_data_in_leaf = 125, \n",
        "        bagging_fraction = 0.901,\n",
        "        max_depth = 13, \n",
        "        reg_alpha = 2.5,\n",
        "        reg_lambda = 2.5,\n",
        "        min_split_gain = 0.0001,\n",
        "        min_child_weight = 25,\n",
        "        feature_fraction = 0.5, \n",
        "        silent = -1,\n",
        "        verbose = -1,\n",
        "        #n_jobs is set to -1 instead of 4 otherwise the kernell will time out\n",
        "        n_jobs = 4) \n",
        "\n",
        "    lgbm.fit(trainX, trainY, \n",
        "        eval_set=[(trainX, trainY), (validX, validY)], \n",
        "        eval_metric = 'auc', \n",
        "        verbose = 100, \n",
        "        early_stopping_rounds = 10)\n",
        "\n",
        "    oofPreds[validXId] = lgbm.predict_proba(validX, num_iteration = lgbm.best_iteration_)[:, 1]\n",
        "    \n",
        "    print('Fold %2d AUC : %.6f' % (n_fold + 1, roc_auc_score(validY, oofPreds[validXId])))\n",
        "    \n",
        "    # cleanup\n",
        "    print('Cleanup')\n",
        "    del trainX, trainY, validX, validY\n",
        "    gc.collect()\n",
        "\n",
        "    subPreds += lgbm.predict_proba(test[features], num_iteration = lgbm.best_iteration_)[:, 1] / folds.n_splits\n",
        "        \n",
        "    # Feature Importance\n",
        "    fold_importance_df = pd.DataFrame()\n",
        "    fold_importance_df[\"feature\"] = features\n",
        "    fold_importance_df[\"importance\"] = lgbm.feature_importances_\n",
        "    fold_importance_df[\"fold\"] = n_fold + 1\n",
        "    featureImportanceDf = pd.concat([featureImportanceDf, fold_importance_df], axis=0)\n",
        "        \n",
        "    # cleanup\n",
        "    print('Cleanup. Post-Fold')\n",
        "    del lgbm\n",
        "    gc.collect()"
      ],
      "execution_count": 0,
      "outputs": [
        {
          "output_type": "stream",
          "text": [
            "== Fold: 0\n"
          ],
          "name": "stdout"
        },
        {
          "output_type": "stream",
          "text": [
            "/usr/local/lib/python3.6/dist-packages/sklearn/preprocessing/label.py:219: DataConversionWarning: A column-vector y was passed when a 1d array was expected. Please change the shape of y to (n_samples, ), for example using ravel().\n",
            "  y = column_or_1d(y, warn=True)\n",
            "/usr/local/lib/python3.6/dist-packages/sklearn/preprocessing/label.py:252: DataConversionWarning: A column-vector y was passed when a 1d array was expected. Please change the shape of y to (n_samples, ), for example using ravel().\n",
            "  y = column_or_1d(y, warn=True)\n"
          ],
          "name": "stderr"
        },
        {
          "output_type": "stream",
          "text": [
            "Training until validation scores don't improve for 10 rounds.\n",
            "[100]\ttraining's auc: 0.7209\ttraining's binary_logloss: 0.6113\tvalid_1's auc: 0.714981\tvalid_1's binary_logloss: 0.615175\n",
            "[200]\ttraining's auc: 0.730741\ttraining's binary_logloss: 0.604192\tvalid_1's auc: 0.719026\tvalid_1's binary_logloss: 0.612095\n",
            "[300]\ttraining's auc: 0.737907\ttraining's binary_logloss: 0.599036\tvalid_1's auc: 0.720592\tvalid_1's binary_logloss: 0.610873\n",
            "[400]\ttraining's auc: 0.743964\ttraining's binary_logloss: 0.594694\tvalid_1's auc: 0.721349\tvalid_1's binary_logloss: 0.61027\n",
            "[500]\ttraining's auc: 0.749693\ttraining's binary_logloss: 0.590618\tvalid_1's auc: 0.721878\tvalid_1's binary_logloss: 0.609838\n",
            "Early stopping, best iteration is:\n",
            "[492]\ttraining's auc: 0.74928\ttraining's binary_logloss: 0.590913\tvalid_1's auc: 0.721881\tvalid_1's binary_logloss: 0.609841\n",
            "Fold  1 AUC : 0.721881\n",
            "Cleanup\n",
            "Cleanup. Post-Fold\n",
            "== Fold: 1\n"
          ],
          "name": "stdout"
        },
        {
          "output_type": "stream",
          "text": [
            "/usr/local/lib/python3.6/dist-packages/sklearn/preprocessing/label.py:219: DataConversionWarning: A column-vector y was passed when a 1d array was expected. Please change the shape of y to (n_samples, ), for example using ravel().\n",
            "  y = column_or_1d(y, warn=True)\n",
            "/usr/local/lib/python3.6/dist-packages/sklearn/preprocessing/label.py:252: DataConversionWarning: A column-vector y was passed when a 1d array was expected. Please change the shape of y to (n_samples, ), for example using ravel().\n",
            "  y = column_or_1d(y, warn=True)\n"
          ],
          "name": "stderr"
        },
        {
          "output_type": "stream",
          "text": [
            "[100]\ttraining's auc: 0.72054\ttraining's binary_logloss: 0.611756\tvalid_1's auc: 0.715424\tvalid_1's binary_logloss: 0.614867\n",
            "[200]\ttraining's auc: 0.730247\ttraining's binary_logloss: 0.604681\tvalid_1's auc: 0.719507\tvalid_1's binary_logloss: 0.61172\n",
            "[300]\ttraining's auc: 0.737257\ttraining's binary_logloss: 0.599674\tvalid_1's auc: 0.721014\tvalid_1's binary_logloss: 0.610534\n",
            "[400]\ttraining's auc: 0.7432\ttraining's binary_logloss: 0.59544\tvalid_1's auc: 0.721804\tvalid_1's binary_logloss: 0.609909\n",
            "[500]\ttraining's auc: 0.74889\ttraining's binary_logloss: 0.591257\tvalid_1's auc: 0.722514\tvalid_1's binary_logloss: 0.609327\n",
            "[600]\ttraining's auc: 0.754197\ttraining's binary_logloss: 0.587291\tvalid_1's auc: 0.723113\tvalid_1's binary_logloss: 0.60883\n",
            "Early stopping, best iteration is:\n",
            "[613]\ttraining's auc: 0.754871\ttraining's binary_logloss: 0.586789\tvalid_1's auc: 0.723181\tvalid_1's binary_logloss: 0.608774\n",
            "Fold  2 AUC : 0.723181\n",
            "Cleanup\n"
          ],
          "name": "stdout"
        }
      ]
    },
    {
      "metadata": {
        "id": "NjZFLcoC1Mp0",
        "colab_type": "code",
        "outputId": "4d77dee6-6081-461d-a7f7-78a7f3e502eb",
        "colab": {
          "base_uri": "https://localhost:8080/",
          "height": 1054
        }
      },
      "cell_type": "code",
      "source": [
        "print('Full AUC score %.6f' % roc_auc_score(labels, oofPreds))\n",
        "\n",
        "# Feature Importance\n",
        "displayImportances(featureImportanceDf, submissionFileName)\n"
      ],
      "execution_count": 0,
      "outputs": [
        {
          "output_type": "stream",
          "text": [
            "Full AUC score 0.722530\n"
          ],
          "name": "stdout"
        },
        {
          "output_type": "display_data",
          "data": {
            "image/png": "[encoded data removed]",
            "text/plain": [
              "<Figure size 1008x1008 with 1 Axes>"
            ]
          },
          "metadata": {
            "tags": []
          }
        }
      ]
    },
    {
      "metadata": {
        "id": "Th6Rm_aSUs-a",
        "colab_type": "code",
        "colab": {}
      },
      "cell_type": "code",
      "source": [
        "kaggleSubmission = pd.read_csv(dataFolder + 'sample_submission.csv.zip')\n",
        "kaggleSubmission['HasDetections'] = subPreds\n",
        "kaggleSubmission.to_csv(submissionFileName + '.csv', index = False)"
      ],
      "execution_count": 0,
      "outputs": []
    },
    {
      "metadata": {
        "id": "YWawxWLTVBFC",
        "colab_type": "text"
      },
      "cell_type": "markdown",
      "source": [
        "Kaggle pulblic score .6042, private score of .6204\n",
        "\n",
        "shows how difficult this problem was to capture irl - this was the 7th place score"
      ]
    },
    {
      "metadata": {
        "id": "-to13JeyVO9N",
        "colab_type": "text"
      },
      "cell_type": "markdown",
      "source": [
        "# More Feature Analysis with specialized LGBM"
      ]
    },
    {
      "metadata": {
        "id": "I8sXZuGVQqAh",
        "colab_type": "code",
        "colab": {}
      },
      "cell_type": "code",
      "source": [
        "def reduce_mem_usage(df, verbose=True):\n",
        "    numerics = ['int16', 'int32', 'int64', 'float16', 'float32', 'float64']\n",
        "    start_mem = df.memory_usage().sum() / 1024**2    \n",
        "    for col in df.columns:\n",
        "        col_type = df[col].dtypes\n",
        "        if col_type in numerics:\n",
        "            c_min = df[col].min()\n",
        "            c_max = df[col].max()\n",
        "            if str(col_type)[:3] == 'int':\n",
        "                if c_min > np.iinfo(np.int8).min and c_max < np.iinfo(np.int8).max:\n",
        "                    df[col] = df[col].astype(np.int8)\n",
        "                elif c_min > np.iinfo(np.int16).min and c_max < np.iinfo(np.int16).max:\n",
        "                    df[col] = df[col].astype(np.int16)\n",
        "                elif c_min > np.iinfo(np.int32).min and c_max < np.iinfo(np.int32).max:\n",
        "                    df[col] = df[col].astype(np.int32)\n",
        "                elif c_min > np.iinfo(np.int64).min and c_max < np.iinfo(np.int64).max:\n",
        "                    df[col] = df[col].astype(np.int64)  \n",
        "            else:\n",
        "                if c_min > np.finfo(np.float16).min and c_max < np.finfo(np.float16).max:\n",
        "                    df[col] = df[col].astype(np.float16)\n",
        "                elif c_min > np.finfo(np.float32).min and c_max < np.finfo(np.float32).max:\n",
        "                    df[col] = df[col].astype(np.float32)\n",
        "                else:\n",
        "                    df[col] = df[col].astype(np.float64)    \n",
        "    end_mem = df.memory_usage().sum() / 1024**2\n",
        "    if verbose: print('Mem. usage decreased to {:5.2f} Mb ({:.1f}% reduction)'.format(end_mem, 100 * (start_mem - end_mem) / start_mem))\n",
        "    return df"
      ],
      "execution_count": 0,
      "outputs": []
    },
    {
      "metadata": {
        "id": "Wah3Jd6-Q812",
        "colab_type": "code",
        "outputId": "6ed607f8-21ad-4537-cf6f-9e94d4ceacbe",
        "colab": {
          "base_uri": "https://localhost:8080/",
          "height": 17
        }
      },
      "cell_type": "code",
      "source": [
        "import numpy as np \n",
        "import pandas as pd \n",
        "import matplotlib.pyplot as plt\n",
        "import seaborn as sns\n",
        "import lightgbm as lgb\n",
        "from sklearn.model_selection import KFold\n",
        "import warnings\n",
        "import gc\n",
        "import time\n",
        "import sys\n",
        "import datetime\n",
        "import matplotlib.pyplot as plt\n",
        "import seaborn as sns\n",
        "from tqdm import tqdm\n",
        "from sklearn.metrics import mean_squared_error\n",
        "warnings.simplefilter(action='ignore', category=FutureWarning)\n",
        "from sklearn import metrics\n",
        "# Plotly library\n",
        "from plotly.offline import init_notebook_mode, iplot\n",
        "import plotly.graph_objs as go\n",
        "from plotly import tools\n",
        "init_notebook_mode(connected=True)\n",
        "pd.set_option('display.max_columns', 500)"
      ],
      "execution_count": 0,
      "outputs": [
        {
          "output_type": "display_data",
          "data": {
            "text/vnd.plotly.v1+html": "<script type=\"text/javascript\">window.PlotlyConfig = {MathJaxConfig: 'local'};</script><script type=\"text/javascript\">if (window.MathJax) {MathJax.Hub.Config({SVG: {font: \"STIX-Web\"}});}</script><script>requirejs.config({paths: { 'plotly': ['https://cdn.plot.ly/plotly-latest.min']},});if(!window._Plotly) {require(['plotly'],function(plotly) {window._Plotly=plotly;});}</script>",
            "text/html": [
              "<script type=\"text/javascript\">window.PlotlyConfig = {MathJaxConfig: 'local'};</script><script type=\"text/javascript\">if (window.MathJax) {MathJax.Hub.Config({SVG: {font: \"STIX-Web\"}});}</script><script>requirejs.config({paths: { 'plotly': ['https://cdn.plot.ly/plotly-latest.min']},});if(!window._Plotly) {require(['plotly'],function(plotly) {window._Plotly=plotly;});}</script>"
            ]
          },
          "metadata": {
            "tags": []
          }
        }
      ]
    },
    {
      "metadata": {
        "id": "l371nYe4RIXB",
        "colab_type": "code",
        "colab": {}
      },
      "cell_type": "code",
      "source": [
        "dtypes = {\n",
        "        'MachineIdentifier':                                    'category',\n",
        "        'ProductName':                                          'category',\n",
        "        'EngineVersion':                                        'category',\n",
        "        'AppVersion':                                           'category',\n",
        "        'AvSigVersion':                                         'category',\n",
        "        'IsBeta':                                               'int8',\n",
        "        'RtpStateBitfield':                                     'float16',\n",
        "        'IsSxsPassiveMode':                                     'int8',\n",
        "        'DefaultBrowsersIdentifier':                            'float16',\n",
        "        'AVProductStatesIdentifier':                            'float32',\n",
        "        'AVProductsInstalled':                                  'float16',\n",
        "        'AVProductsEnabled':                                    'float16',\n",
        "        'HasTpm':                                               'int8',\n",
        "        'CountryIdentifier':                                    'int16',\n",
        "        'CityIdentifier':                                       'float32',\n",
        "        'OrganizationIdentifier':                               'float16',\n",
        "        'GeoNameIdentifier':                                    'float16',\n",
        "        'LocaleEnglishNameIdentifier':                          'int8',\n",
        "        'Platform':                                             'category',\n",
        "        'Processor':                                            'category',\n",
        "        'OsVer':                                                'category',\n",
        "        'OsBuild':                                              'int16',\n",
        "        'OsSuite':                                              'int16',\n",
        "        'OsPlatformSubRelease':                                 'category',\n",
        "        'OsBuildLab':                                           'category',\n",
        "        'SkuEdition':                                           'category',\n",
        "        'IsProtected':                                          'float16',\n",
        "        'AutoSampleOptIn':                                      'int8',\n",
        "        'PuaMode':                                              'category',\n",
        "        'SMode':                                                'float16',\n",
        "        'IeVerIdentifier':                                      'float16',\n",
        "        'SmartScreen':                                          'category',\n",
        "        'Firewall':                                             'float16',\n",
        "        'UacLuaenable':                                         'float32',\n",
        "        'Census_MDC2FormFactor':                                'category',\n",
        "        'Census_DeviceFamily':                                  'category',\n",
        "        'Census_OEMNameIdentifier':                             'float16',\n",
        "        'Census_OEMModelIdentifier':                            'float32',\n",
        "        'Census_ProcessorCoreCount':                            'float16',\n",
        "        'Census_ProcessorManufacturerIdentifier':               'float16',\n",
        "        'Census_ProcessorModelIdentifier':                      'float16',\n",
        "        'Census_ProcessorClass':                                'category',\n",
        "        'Census_PrimaryDiskTotalCapacity':                      'float32',\n",
        "        'Census_PrimaryDiskTypeName':                           'category',\n",
        "        'Census_SystemVolumeTotalCapacity':                     'float32',\n",
        "        'Census_HasOpticalDiskDrive':                           'int8',\n",
        "        'Census_TotalPhysicalRAM':                              'float32',\n",
        "        'Census_ChassisTypeName':                               'category',\n",
        "        'Census_InternalPrimaryDiagonalDisplaySizeInInches':    'float16',\n",
        "        'Census_InternalPrimaryDisplayResolutionHorizontal':    'float16',\n",
        "        'Census_InternalPrimaryDisplayResolutionVertical':      'float16',\n",
        "        'Census_PowerPlatformRoleName':                         'category',\n",
        "        'Census_InternalBatteryType':                           'category',\n",
        "        'Census_InternalBatteryNumberOfCharges':                'float32',\n",
        "        'Census_OSVersion':                                     'category',\n",
        "        'Census_OSArchitecture':                                'category',\n",
        "        'Census_OSBranch':                                      'category',\n",
        "        'Census_OSBuildNumber':                                 'int16',\n",
        "        'Census_OSBuildRevision':                               'int32',\n",
        "        'Census_OSEdition':                                     'category',\n",
        "        'Census_OSSkuName':                                     'category',\n",
        "        'Census_OSInstallTypeName':                             'category',\n",
        "        'Census_OSInstallLanguageIdentifier':                   'float16',\n",
        "        'Census_OSUILocaleIdentifier':                          'int16',\n",
        "        'Census_OSWUAutoUpdateOptionsName':                     'category',\n",
        "        'Census_IsPortableOperatingSystem':                     'int8',\n",
        "        'Census_GenuineStateName':                              'category',\n",
        "        'Census_ActivationChannel':                             'category',\n",
        "        'Census_IsFlightingInternal':                           'float16',\n",
        "        'Census_IsFlightsDisabled':                             'float16',\n",
        "        'Census_FlightRing':                                    'category',\n",
        "        'Census_ThresholdOptIn':                                'float16',\n",
        "        'Census_FirmwareManufacturerIdentifier':                'float16',\n",
        "        'Census_FirmwareVersionIdentifier':                     'float32',\n",
        "        'Census_IsSecureBootEnabled':                           'int8',\n",
        "        'Census_IsWIMBootEnabled':                              'float16',\n",
        "        'Census_IsVirtualDevice':                               'float16',\n",
        "        'Census_IsTouchEnabled':                                'int8',\n",
        "        'Census_IsPenCapable':                                  'int8',\n",
        "        'Census_IsAlwaysOnAlwaysConnectedCapable':              'float16',\n",
        "        'Wdft_IsGamer':                                         'float16',\n",
        "        'Wdft_RegionIdentifier':                                'float16',\n",
        "        'HasDetections':                                        'int8'\n",
        "        }"
      ],
      "execution_count": 0,
      "outputs": []
    },
    {
      "metadata": {
        "id": "-KSHv5k2RS25",
        "colab_type": "code",
        "colab": {}
      },
      "cell_type": "code",
      "source": [
        "numerics = ['int8', 'int16', 'int32', 'int64', 'float16', 'float32', 'float64']\n",
        "numerical_columns = [c for c,v in dtypes.items() if v in numerics]\n",
        "categorical_columns = [c for c,v in dtypes.items() if v not in numerics]"
      ],
      "execution_count": 0,
      "outputs": []
    },
    {
      "metadata": {
        "id": "TRhFELJxRanw",
        "colab_type": "code",
        "colab": {}
      },
      "cell_type": "code",
      "source": [
        "nrows = 1000000\n",
        "#_______________________________________________________________________________\n",
        "retained_columns = numerical_columns + categorical_columns\n",
        "train = pd.read_csv('/content/train.csv.zip',\n",
        "                    nrows = nrows,\n",
        "                    usecols = retained_columns,\n",
        "                    dtype = dtypes)\n",
        "#_______________________________________________________________\n",
        "retained_columns += ['MachineIdentifier']\n",
        "retained_columns.remove('HasDetections')\n",
        "test = pd.read_csv('/content/test.csv.zip',\n",
        "                   usecols = retained_columns,\n",
        "                   dtype = dtypes)"
      ],
      "execution_count": 0,
      "outputs": []
    },
    {
      "metadata": {
        "id": "4MIIBwu-SeTd",
        "colab_type": "code",
        "colab": {}
      },
      "cell_type": "code",
      "source": [
        "true_numerical_columns = [\n",
        "    'Census_ProcessorCoreCount',\n",
        "    'Census_PrimaryDiskTotalCapacity',\n",
        "    'Census_SystemVolumeTotalCapacity',\n",
        "    'Census_TotalPhysicalRAM',\n",
        "    'Census_InternalPrimaryDiagonalDisplaySizeInInches',\n",
        "    'Census_InternalPrimaryDisplayResolutionHorizontal',\n",
        "    'Census_InternalPrimaryDisplayResolutionVertical',\n",
        "    'Census_InternalBatteryNumberOfCharges'\n",
        "]"
      ],
      "execution_count": 0,
      "outputs": []
    },
    {
      "metadata": {
        "id": "uMz4xspKTVkL",
        "colab_type": "code",
        "colab": {}
      },
      "cell_type": "code",
      "source": [
        "binary_variables = [c for c in train.columns if train[c].nunique() == 2]"
      ],
      "execution_count": 0,
      "outputs": []
    },
    {
      "metadata": {
        "id": "mMKHeTBRTa_7",
        "colab_type": "code",
        "colab": {}
      },
      "cell_type": "code",
      "source": [
        "categorical_columns = [c for c in train.columns \n",
        "                       if (c not in true_numerical_columns) & (c not in binary_variables)]"
      ],
      "execution_count": 0,
      "outputs": []
    },
    {
      "metadata": {
        "id": "s1mV7EyiThS8",
        "colab_type": "code",
        "outputId": "e87c102a-bad5-4c0c-8bca-93f9e022cfa7",
        "colab": {
          "base_uri": "https://localhost:8080/",
          "height": 417
        }
      },
      "cell_type": "code",
      "source": [
        "variables = {\n",
        "    'categorical_columns': len(categorical_columns),\n",
        "    'binary_variables': len(binary_variables),\n",
        "    'true_numerical_columns': len(true_numerical_columns)\n",
        "}\n",
        "pie_trace = go.Pie(labels=list(variables.keys()), values=list(variables.values()))\n",
        "layout = dict(title= \"Variable types\", height=400, width=800)\n",
        "fig = dict(data=[pie_trace], layout=layout)\n",
        "iplot(fig)"
      ],
      "execution_count": 0,
      "outputs": [
        {
          "output_type": "display_data",
          "data": {
            "text/vnd.plotly.v1+html": "<div id=\"78e573d9-3022-4e29-8f54-b3aa560832c4\" style=\"height: 400px; width: 800px;\" class=\"plotly-graph-div\"></div><script type=\"text/javascript\">require([\"plotly\"], function(Plotly) { window.PLOTLYENV=window.PLOTLYENV || {};window.PLOTLYENV.BASE_URL=\"https://plot.ly\";Plotly.newPlot(\"78e573d9-3022-4e29-8f54-b3aa560832c4\", [{\"labels\": [\"categorical_columns\", \"binary_variables\", \"true_numerical_columns\"], \"values\": [56, 19, 8], \"type\": \"pie\", \"uid\": \"320bfad0-f5a0-427e-947c-6dc983be0fd7\"}], {\"height\": 400, \"title\": {\"text\": \"Variable types\"}, \"width\": 800}, {\"showLink\": false, \"linkText\": \"Export to plot.ly\", \"plotlyServerURL\": \"https://plot.ly\"})});</script>",
            "text/html": [
              "<div id=\"78e573d9-3022-4e29-8f54-b3aa560832c4\" style=\"height: 400px; width: 800px;\" class=\"plotly-graph-div\"></div><script type=\"text/javascript\">require([\"plotly\"], function(Plotly) { window.PLOTLYENV=window.PLOTLYENV || {};window.PLOTLYENV.BASE_URL=\"https://plot.ly\";Plotly.newPlot(\"78e573d9-3022-4e29-8f54-b3aa560832c4\", [{\"labels\": [\"categorical_columns\", \"binary_variables\", \"true_numerical_columns\"], \"values\": [56, 19, 8], \"type\": \"pie\", \"uid\": \"320bfad0-f5a0-427e-947c-6dc983be0fd7\"}], {\"height\": 400, \"title\": {\"text\": \"Variable types\"}, \"width\": 800}, {\"showLink\": false, \"linkText\": \"Export to plot.ly\", \"plotlyServerURL\": \"https://plot.ly\"})});</script>"
            ],
            "application/vnd.plotly.v1+json": {
              "layout": {
                "width": 800,
                "title": {
                  "text": "Variable types"
                },
                "height": 400
              },
              "config": {
                "plotlyServerURL": "https://plot.ly",
                "linkText": "Export to plot.ly",
                "showLink": false
              },
              "data": [
                {
                  "type": "pie",
                  "labels": [
                    "categorical_columns",
                    "binary_variables",
                    "true_numerical_columns"
                  ],
                  "values": [
                    56,
                    19,
                    8
                  ],
                  "uid": "5ad620c3-2f6f-4f72-844a-ac2198b75c9a"
                }
              ]
            }
          },
          "metadata": {
            "tags": []
          }
        }
      ]
    },
    {
      "metadata": {
        "id": "QLK712fETlie",
        "colab_type": "code",
        "outputId": "8d6725d5-e92f-4bf5-ac99-22bc3393b93c",
        "colab": {
          "base_uri": "https://localhost:8080/",
          "height": 1617
        }
      },
      "cell_type": "code",
      "source": [
        "cardinality = []\n",
        "for c in categorical_columns:\n",
        "    if c == 'MachineIdentifier': continue\n",
        "    cardinality.append([c, train[c].nunique()])\n",
        "cardinality.sort(key = lambda x:x[1], reverse=False)\n",
        "\n",
        "trace = go.Bar(y=[x[0] for x in cardinality],\n",
        "               x=[x[1] for x in cardinality],\n",
        "               orientation='h', marker=dict(color='rgb(49,130,189)'), name='train')\n",
        "\n",
        "layout = go.Layout(\n",
        "    title='Categorical cardinality', height=1600, width=800,\n",
        "    xaxis=dict(\n",
        "        title='Number of categories',\n",
        "        titlefont=dict(size=16, color='rgb(107, 107, 107)'),\n",
        "        domain=[0.25, 1]\n",
        "    ),\n",
        "    barmode='group',\n",
        "    bargap=0.1,\n",
        "    bargroupgap=0.1\n",
        ")\n",
        "\n",
        "fig = go.Figure(data=[trace], layout=layout)\n",
        "iplot(fig)"
      ],
      "execution_count": 0,
      "outputs": [
        {
          "output_type": "display_data",
          "data": {
            "text/vnd.plotly.v1+html": "<div id=\"0dafb392-6de4-40aa-a6ed-8c31e9be827a\" style=\"height: 1600px; width: 800px;\" class=\"plotly-graph-div\"></div><script type=\"text/javascript\">require([\"plotly\"], function(Plotly) { window.PLOTLYENV=window.PLOTLYENV || {};window.PLOTLYENV.BASE_URL=\"https://plot.ly\";Plotly.newPlot(\"0dafb392-6de4-40aa-a6ed-8c31e9be827a\", [{\"marker\": {\"color\": \"rgb(49,130,189)\"}, \"name\": \"train\", \"orientation\": \"h\", \"x\": [1, 1, 3, 3, 3, 3, 4, 4, 4, 5, 6, 6, 6, 6, 7, 7, 8, 9, 9, 9, 9, 10, 12, 12, 15, 17, 26, 26, 30, 39, 41, 47, 47, 59, 60, 65, 102, 119, 131, 222, 250, 255, 263, 287, 393, 565, 597, 1291, 2155, 2337, 8293, 18362, 41968, 84997, 121547], \"y\": [\"PuaMode\", \"Census_IsWIMBootEnabled\", \"Processor\", \"Census_DeviceFamily\", \"Census_ProcessorClass\", \"Census_OSArchitecture\", \"Platform\", \"Census_PrimaryDiskTypeName\", \"Census_GenuineStateName\", \"Census_ProcessorManufacturerIdentifier\", \"ProductName\", \"AVProductsEnabled\", \"Census_OSWUAutoUpdateOptionsName\", \"Census_ActivationChannel\", \"RtpStateBitfield\", \"AVProductsInstalled\", \"SkuEdition\", \"OsPlatformSubRelease\", \"UacLuaenable\", \"Census_OSInstallTypeName\", \"Census_FlightRing\", \"Census_PowerPlatformRoleName\", \"OsSuite\", \"Census_MDC2FormFactor\", \"Wdft_RegionIdentifier\", \"SmartScreen\", \"Census_OSBranch\", \"Census_OSSkuName\", \"Census_OSEdition\", \"Census_OSInstallLanguageIdentifier\", \"OsVer\", \"OrganizationIdentifier\", \"Census_ChassisTypeName\", \"Census_InternalBatteryType\", \"OsBuild\", \"EngineVersion\", \"AppVersion\", \"Census_OSBuildNumber\", \"Census_OSUILocaleIdentifier\", \"CountryIdentifier\", \"LocaleEnglishNameIdentifier\", \"IeVerIdentifier\", \"Census_OSBuildRevision\", \"GeoNameIdentifier\", \"Census_OSVersion\", \"Census_FirmwareManufacturerIdentifier\", \"OsBuildLab\", \"DefaultBrowsersIdentifier\", \"Census_OEMNameIdentifier\", \"Census_ProcessorModelIdentifier\", \"AvSigVersion\", \"AVProductStatesIdentifier\", \"Census_FirmwareVersionIdentifier\", \"CityIdentifier\", \"Census_OEMModelIdentifier\"], \"type\": \"bar\", \"uid\": \"8b35af3d-8eb2-441a-96cb-24d0f7abcf80\"}], {\"bargap\": 0.1, \"bargroupgap\": 0.1, \"barmode\": \"group\", \"height\": 1600, \"title\": {\"text\": \"Categorical cardinality\"}, \"width\": 800, \"xaxis\": {\"domain\": [0.25, 1], \"title\": {\"font\": {\"color\": \"rgb(107, 107, 107)\", \"size\": 16}, \"text\": \"Number of categories\"}}}, {\"showLink\": false, \"linkText\": \"Export to plot.ly\", \"plotlyServerURL\": \"https://plot.ly\"})});</script>",
            "text/html": [
              "<div id=\"0dafb392-6de4-40aa-a6ed-8c31e9be827a\" style=\"height: 1600px; width: 800px;\" class=\"plotly-graph-div\"></div><script type=\"text/javascript\">require([\"plotly\"], function(Plotly) { window.PLOTLYENV=window.PLOTLYENV || {};window.PLOTLYENV.BASE_URL=\"https://plot.ly\";Plotly.newPlot(\"0dafb392-6de4-40aa-a6ed-8c31e9be827a\", [{\"marker\": {\"color\": \"rgb(49,130,189)\"}, \"name\": \"train\", \"orientation\": \"h\", \"x\": [1, 1, 3, 3, 3, 3, 4, 4, 4, 5, 6, 6, 6, 6, 7, 7, 8, 9, 9, 9, 9, 10, 12, 12, 15, 17, 26, 26, 30, 39, 41, 47, 47, 59, 60, 65, 102, 119, 131, 222, 250, 255, 263, 287, 393, 565, 597, 1291, 2155, 2337, 8293, 18362, 41968, 84997, 121547], \"y\": [\"PuaMode\", \"Census_IsWIMBootEnabled\", \"Processor\", \"Census_DeviceFamily\", \"Census_ProcessorClass\", \"Census_OSArchitecture\", \"Platform\", \"Census_PrimaryDiskTypeName\", \"Census_GenuineStateName\", \"Census_ProcessorManufacturerIdentifier\", \"ProductName\", \"AVProductsEnabled\", \"Census_OSWUAutoUpdateOptionsName\", \"Census_ActivationChannel\", \"RtpStateBitfield\", \"AVProductsInstalled\", \"SkuEdition\", \"OsPlatformSubRelease\", \"UacLuaenable\", \"Census_OSInstallTypeName\", \"Census_FlightRing\", \"Census_PowerPlatformRoleName\", \"OsSuite\", \"Census_MDC2FormFactor\", \"Wdft_RegionIdentifier\", \"SmartScreen\", \"Census_OSBranch\", \"Census_OSSkuName\", \"Census_OSEdition\", \"Census_OSInstallLanguageIdentifier\", \"OsVer\", \"OrganizationIdentifier\", \"Census_ChassisTypeName\", \"Census_InternalBatteryType\", \"OsBuild\", \"EngineVersion\", \"AppVersion\", \"Census_OSBuildNumber\", \"Census_OSUILocaleIdentifier\", \"CountryIdentifier\", \"LocaleEnglishNameIdentifier\", \"IeVerIdentifier\", \"Census_OSBuildRevision\", \"GeoNameIdentifier\", \"Census_OSVersion\", \"Census_FirmwareManufacturerIdentifier\", \"OsBuildLab\", \"DefaultBrowsersIdentifier\", \"Census_OEMNameIdentifier\", \"Census_ProcessorModelIdentifier\", \"AvSigVersion\", \"AVProductStatesIdentifier\", \"Census_FirmwareVersionIdentifier\", \"CityIdentifier\", \"Census_OEMModelIdentifier\"], \"type\": \"bar\", \"uid\": \"8b35af3d-8eb2-441a-96cb-24d0f7abcf80\"}], {\"bargap\": 0.1, \"bargroupgap\": 0.1, \"barmode\": \"group\", \"height\": 1600, \"title\": {\"text\": \"Categorical cardinality\"}, \"width\": 800, \"xaxis\": {\"domain\": [0.25, 1], \"title\": {\"font\": {\"color\": \"rgb(107, 107, 107)\", \"size\": 16}, \"text\": \"Number of categories\"}}}, {\"showLink\": false, \"linkText\": \"Export to plot.ly\", \"plotlyServerURL\": \"https://plot.ly\"})});</script>"
            ],
            "application/vnd.plotly.v1+json": {
              "layout": {
                "barmode": "group",
                "title": {
                  "text": "Categorical cardinality"
                },
                "height": 1600,
                "width": 800,
                "bargap": 0.1,
                "xaxis": {
                  "domain": [
                    0.25,
                    1
                  ],
                  "title": {
                    "text": "Number of categories",
                    "font": {
                      "color": "rgb(107, 107, 107)",
                      "size": 16
                    }
                  }
                },
                "bargroupgap": 0.1
              },
              "config": {
                "plotlyServerURL": "https://plot.ly",
                "linkText": "Export to plot.ly",
                "showLink": false
              },
              "data": [
                {
                  "name": "train",
                  "uid": "8b35af3d-8eb2-441a-96cb-24d0f7abcf80",
                  "y": [
                    "PuaMode",
                    "Census_IsWIMBootEnabled",
                    "Processor",
                    "Census_DeviceFamily",
                    "Census_ProcessorClass",
                    "Census_OSArchitecture",
                    "Platform",
                    "Census_PrimaryDiskTypeName",
                    "Census_GenuineStateName",
                    "Census_ProcessorManufacturerIdentifier",
                    "ProductName",
                    "AVProductsEnabled",
                    "Census_OSWUAutoUpdateOptionsName",
                    "Census_ActivationChannel",
                    "RtpStateBitfield",
                    "AVProductsInstalled",
                    "SkuEdition",
                    "OsPlatformSubRelease",
                    "UacLuaenable",
                    "Census_OSInstallTypeName",
                    "Census_FlightRing",
                    "Census_PowerPlatformRoleName",
                    "OsSuite",
                    "Census_MDC2FormFactor",
                    "Wdft_RegionIdentifier",
                    "SmartScreen",
                    "Census_OSBranch",
                    "Census_OSSkuName",
                    "Census_OSEdition",
                    "Census_OSInstallLanguageIdentifier",
                    "OsVer",
                    "OrganizationIdentifier",
                    "Census_ChassisTypeName",
                    "Census_InternalBatteryType",
                    "OsBuild",
                    "EngineVersion",
                    "AppVersion",
                    "Census_OSBuildNumber",
                    "Census_OSUILocaleIdentifier",
                    "CountryIdentifier",
                    "LocaleEnglishNameIdentifier",
                    "IeVerIdentifier",
                    "Census_OSBuildRevision",
                    "GeoNameIdentifier",
                    "Census_OSVersion",
                    "Census_FirmwareManufacturerIdentifier",
                    "OsBuildLab",
                    "DefaultBrowsersIdentifier",
                    "Census_OEMNameIdentifier",
                    "Census_ProcessorModelIdentifier",
                    "AvSigVersion",
                    "AVProductStatesIdentifier",
                    "Census_FirmwareVersionIdentifier",
                    "CityIdentifier",
                    "Census_OEMModelIdentifier"
                  ],
                  "marker": {
                    "color": "rgb(49,130,189)"
                  },
                  "x": [
                    1,
                    1,
                    3,
                    3,
                    3,
                    3,
                    4,
                    4,
                    4,
                    5,
                    6,
                    6,
                    6,
                    6,
                    7,
                    7,
                    8,
                    9,
                    9,
                    9,
                    9,
                    10,
                    12,
                    12,
                    15,
                    17,
                    26,
                    26,
                    30,
                    39,
                    41,
                    47,
                    47,
                    59,
                    60,
                    65,
                    102,
                    119,
                    131,
                    222,
                    250,
                    255,
                    263,
                    287,
                    393,
                    565,
                    597,
                    1291,
                    2155,
                    2337,
                    8293,
                    18362,
                    41968,
                    84997,
                    121547
                  ],
                  "type": "bar",
                  "orientation": "h"
                }
              ]
            }
          },
          "metadata": {
            "tags": []
          }
        }
      ]
    },
    {
      "metadata": {
        "id": "8Br9_VYDTy4j",
        "colab_type": "code",
        "colab": {}
      },
      "cell_type": "code",
      "source": [
        "def frequency_encoding(variable):\n",
        "    t = pd.concat([train[variable], test[variable]]).value_counts().reset_index()\n",
        "    t = t.reset_index()\n",
        "    t.loc[t[variable] == 1, 'level_0'] = np.nan\n",
        "    t.set_index('index', inplace=True)\n",
        "    max_label = t['level_0'].max() + 1\n",
        "    t.fillna(max_label, inplace=True)\n",
        "    return t.to_dict()['level_0']"
      ],
      "execution_count": 0,
      "outputs": []
    },
    {
      "metadata": {
        "id": "NRgpMLHYT7Ld",
        "colab_type": "code",
        "colab": {}
      },
      "cell_type": "code",
      "source": [
        "frequency_encoded_variables = [\n",
        "    'Census_OEMModelIdentifier',\n",
        "    'CityIdentifier',\n",
        "    'Census_FirmwareVersionIdentifier',\n",
        "    'AvSigVersion',\n",
        "    'Census_ProcessorModelIdentifier',\n",
        "    'Census_OEMNameIdentifier',\n",
        "    'DefaultBrowsersIdentifier'\n",
        "]"
      ],
      "execution_count": 0,
      "outputs": []
    },
    {
      "metadata": {
        "id": "RavPZ-K4T-mc",
        "colab_type": "code",
        "outputId": "b8816615-2c95-49f3-b4a5-a04050ce7514",
        "colab": {
          "base_uri": "https://localhost:8080/",
          "height": 34
        }
      },
      "cell_type": "code",
      "source": [
        "for variable in tqdm(frequency_encoded_variables):\n",
        "    freq_enc_dict = frequency_encoding(variable)\n",
        "    train[variable] = train[variable].map(lambda x: freq_enc_dict.get(x, np.nan))\n",
        "    test[variable] = test[variable].map(lambda x: freq_enc_dict.get(x, np.nan))\n",
        "    categorical_columns.remove(variable)"
      ],
      "execution_count": 0,
      "outputs": [
        {
          "output_type": "stream",
          "text": [
            "100%|██████████| 7/7 [00:28<00:00,  3.98s/it]\n"
          ],
          "name": "stderr"
        }
      ]
    },
    {
      "metadata": {
        "id": "uh_WpaoGULde",
        "colab_type": "code",
        "outputId": "eb53f391-2f3e-41c4-b797-a5d6c3d268a3",
        "colab": {
          "base_uri": "https://localhost:8080/",
          "height": 51
        }
      },
      "cell_type": "code",
      "source": [
        "indexer = {}\n",
        "for col in tqdm(categorical_columns):\n",
        "    if col == 'MachineIdentifier': continue\n",
        "    _, indexer[col] = pd.factorize(train[col])\n",
        "    \n",
        "for col in tqdm(categorical_columns):\n",
        "    if col == 'MachineIdentifier': continue\n",
        "    train[col] = indexer[col].get_indexer(train[col])\n",
        "    test[col] = indexer[col].get_indexer(test[col])"
      ],
      "execution_count": 0,
      "outputs": [
        {
          "output_type": "stream",
          "text": [
            "100%|██████████| 49/49 [00:00<00:00, 109.58it/s]\n",
            "100%|██████████| 49/49 [08:25<00:00,  5.53s/it]\n"
          ],
          "name": "stderr"
        }
      ]
    },
    {
      "metadata": {
        "id": "_jc_EKNjW0Rr",
        "colab_type": "code",
        "outputId": "e909f95b-396e-438b-9ffe-680e86e89918",
        "colab": {
          "base_uri": "https://localhost:8080/",
          "height": 51
        }
      },
      "cell_type": "code",
      "source": [
        "train = reduce_mem_usage(train)\n",
        "test = reduce_mem_usage(test)"
      ],
      "execution_count": 0,
      "outputs": [
        {
          "output_type": "stream",
          "text": [
            "Mem. usage decreased to 172.56 Mb (66.9% reduction)\n",
            "Mem. usage decreased to 1353.54 Mb (66.9% reduction)\n"
          ],
          "name": "stdout"
        }
      ]
    },
    {
      "metadata": {
        "id": "ufJKqOcCXHhf",
        "colab_type": "code",
        "outputId": "dd563233-02ea-4f2e-e97e-a042cd256f8f",
        "colab": {
          "base_uri": "https://localhost:8080/",
          "height": 224
        }
      },
      "cell_type": "code",
      "source": [
        "train[:5]"
      ],
      "execution_count": 0,
      "outputs": [
        {
          "output_type": "execute_result",
          "data": {
            "text/html": [
              "<div>\n",
              "<style scoped>\n",
              "    .dataframe tbody tr th:only-of-type {\n",
              "        vertical-align: middle;\n",
              "    }\n",
              "\n",
              "    .dataframe tbody tr th {\n",
              "        vertical-align: top;\n",
              "    }\n",
              "\n",
              "    .dataframe thead th {\n",
              "        text-align: right;\n",
              "    }\n",
              "</style>\n",
              "<table border=\"1\" class=\"dataframe\">\n",
              "  <thead>\n",
              "    <tr style=\"text-align: right;\">\n",
              "      <th></th>\n",
              "      <th>MachineIdentifier</th>\n",
              "      <th>ProductName</th>\n",
              "      <th>EngineVersion</th>\n",
              "      <th>AppVersion</th>\n",
              "      <th>AvSigVersion</th>\n",
              "      <th>IsBeta</th>\n",
              "      <th>RtpStateBitfield</th>\n",
              "      <th>IsSxsPassiveMode</th>\n",
              "      <th>DefaultBrowsersIdentifier</th>\n",
              "      <th>AVProductStatesIdentifier</th>\n",
              "      <th>AVProductsInstalled</th>\n",
              "      <th>AVProductsEnabled</th>\n",
              "      <th>HasTpm</th>\n",
              "      <th>CountryIdentifier</th>\n",
              "      <th>CityIdentifier</th>\n",
              "      <th>OrganizationIdentifier</th>\n",
              "      <th>GeoNameIdentifier</th>\n",
              "      <th>LocaleEnglishNameIdentifier</th>\n",
              "      <th>Platform</th>\n",
              "      <th>Processor</th>\n",
              "      <th>OsVer</th>\n",
              "      <th>OsBuild</th>\n",
              "      <th>OsSuite</th>\n",
              "      <th>OsPlatformSubRelease</th>\n",
              "      <th>OsBuildLab</th>\n",
              "      <th>SkuEdition</th>\n",
              "      <th>IsProtected</th>\n",
              "      <th>AutoSampleOptIn</th>\n",
              "      <th>PuaMode</th>\n",
              "      <th>SMode</th>\n",
              "      <th>IeVerIdentifier</th>\n",
              "      <th>SmartScreen</th>\n",
              "      <th>Firewall</th>\n",
              "      <th>UacLuaenable</th>\n",
              "      <th>Census_MDC2FormFactor</th>\n",
              "      <th>Census_DeviceFamily</th>\n",
              "      <th>Census_OEMNameIdentifier</th>\n",
              "      <th>Census_OEMModelIdentifier</th>\n",
              "      <th>Census_ProcessorCoreCount</th>\n",
              "      <th>Census_ProcessorManufacturerIdentifier</th>\n",
              "      <th>Census_ProcessorModelIdentifier</th>\n",
              "      <th>Census_ProcessorClass</th>\n",
              "      <th>Census_PrimaryDiskTotalCapacity</th>\n",
              "      <th>Census_PrimaryDiskTypeName</th>\n",
              "      <th>Census_SystemVolumeTotalCapacity</th>\n",
              "      <th>Census_HasOpticalDiskDrive</th>\n",
              "      <th>Census_TotalPhysicalRAM</th>\n",
              "      <th>Census_ChassisTypeName</th>\n",
              "      <th>Census_InternalPrimaryDiagonalDisplaySizeInInches</th>\n",
              "      <th>Census_InternalPrimaryDisplayResolutionHorizontal</th>\n",
              "      <th>Census_InternalPrimaryDisplayResolutionVertical</th>\n",
              "      <th>Census_PowerPlatformRoleName</th>\n",
              "      <th>Census_InternalBatteryType</th>\n",
              "      <th>Census_InternalBatteryNumberOfCharges</th>\n",
              "      <th>Census_OSVersion</th>\n",
              "      <th>Census_OSArchitecture</th>\n",
              "      <th>Census_OSBranch</th>\n",
              "      <th>Census_OSBuildNumber</th>\n",
              "      <th>Census_OSBuildRevision</th>\n",
              "      <th>Census_OSEdition</th>\n",
              "      <th>Census_OSSkuName</th>\n",
              "      <th>Census_OSInstallTypeName</th>\n",
              "      <th>Census_OSInstallLanguageIdentifier</th>\n",
              "      <th>Census_OSUILocaleIdentifier</th>\n",
              "      <th>Census_OSWUAutoUpdateOptionsName</th>\n",
              "      <th>Census_IsPortableOperatingSystem</th>\n",
              "      <th>Census_GenuineStateName</th>\n",
              "      <th>Census_ActivationChannel</th>\n",
              "      <th>Census_IsFlightingInternal</th>\n",
              "      <th>Census_IsFlightsDisabled</th>\n",
              "      <th>Census_FlightRing</th>\n",
              "      <th>Census_ThresholdOptIn</th>\n",
              "      <th>Census_FirmwareManufacturerIdentifier</th>\n",
              "      <th>Census_FirmwareVersionIdentifier</th>\n",
              "      <th>Census_IsSecureBootEnabled</th>\n",
              "      <th>Census_IsWIMBootEnabled</th>\n",
              "      <th>Census_IsVirtualDevice</th>\n",
              "      <th>Census_IsTouchEnabled</th>\n",
              "      <th>Census_IsPenCapable</th>\n",
              "      <th>Census_IsAlwaysOnAlwaysConnectedCapable</th>\n",
              "      <th>Wdft_IsGamer</th>\n",
              "      <th>Wdft_RegionIdentifier</th>\n",
              "      <th>HasDetections</th>\n",
              "    </tr>\n",
              "  </thead>\n",
              "  <tbody>\n",
              "    <tr>\n",
              "      <th>0</th>\n",
              "      <td>0000028988387b115f69f31a3bf04f09</td>\n",
              "      <td>0</td>\n",
              "      <td>0</td>\n",
              "      <td>0</td>\n",
              "      <td>786.0</td>\n",
              "      <td>0</td>\n",
              "      <td>0</td>\n",
              "      <td>0</td>\n",
              "      <td>NaN</td>\n",
              "      <td>0</td>\n",
              "      <td>0</td>\n",
              "      <td>0</td>\n",
              "      <td>1</td>\n",
              "      <td>0</td>\n",
              "      <td>215.0</td>\n",
              "      <td>0</td>\n",
              "      <td>0</td>\n",
              "      <td>0</td>\n",
              "      <td>0</td>\n",
              "      <td>0</td>\n",
              "      <td>0</td>\n",
              "      <td>0</td>\n",
              "      <td>0</td>\n",
              "      <td>0</td>\n",
              "      <td>0</td>\n",
              "      <td>0</td>\n",
              "      <td>1.0</td>\n",
              "      <td>0</td>\n",
              "      <td>-1</td>\n",
              "      <td>0.0</td>\n",
              "      <td>0</td>\n",
              "      <td>-1</td>\n",
              "      <td>1.0</td>\n",
              "      <td>0</td>\n",
              "      <td>0</td>\n",
              "      <td>0</td>\n",
              "      <td>0.0</td>\n",
              "      <td>22932.0</td>\n",
              "      <td>4.0</td>\n",
              "      <td>0</td>\n",
              "      <td>134.0</td>\n",
              "      <td>-1</td>\n",
              "      <td>476940.0</td>\n",
              "      <td>0</td>\n",
              "      <td>299451.0</td>\n",
              "      <td>0</td>\n",
              "      <td>4096.0</td>\n",
              "      <td>0</td>\n",
              "      <td>18.906250</td>\n",
              "      <td>1440.0</td>\n",
              "      <td>900.0</td>\n",
              "      <td>0</td>\n",
              "      <td>-1</td>\n",
              "      <td>4.294967e+09</td>\n",
              "      <td>0</td>\n",
              "      <td>0</td>\n",
              "      <td>0</td>\n",
              "      <td>0</td>\n",
              "      <td>0</td>\n",
              "      <td>0</td>\n",
              "      <td>0</td>\n",
              "      <td>0</td>\n",
              "      <td>0</td>\n",
              "      <td>0</td>\n",
              "      <td>0</td>\n",
              "      <td>0</td>\n",
              "      <td>0</td>\n",
              "      <td>0</td>\n",
              "      <td>NaN</td>\n",
              "      <td>0.0</td>\n",
              "      <td>0</td>\n",
              "      <td>NaN</td>\n",
              "      <td>0</td>\n",
              "      <td>2680.0</td>\n",
              "      <td>0</td>\n",
              "      <td>-1</td>\n",
              "      <td>0.0</td>\n",
              "      <td>0</td>\n",
              "      <td>0</td>\n",
              "      <td>0.0</td>\n",
              "      <td>0.0</td>\n",
              "      <td>0</td>\n",
              "      <td>0</td>\n",
              "    </tr>\n",
              "    <tr>\n",
              "      <th>1</th>\n",
              "      <td>000007535c3f730efa9ea0b7ef1bd645</td>\n",
              "      <td>0</td>\n",
              "      <td>1</td>\n",
              "      <td>1</td>\n",
              "      <td>0.0</td>\n",
              "      <td>0</td>\n",
              "      <td>0</td>\n",
              "      <td>0</td>\n",
              "      <td>NaN</td>\n",
              "      <td>0</td>\n",
              "      <td>0</td>\n",
              "      <td>0</td>\n",
              "      <td>1</td>\n",
              "      <td>1</td>\n",
              "      <td>172.0</td>\n",
              "      <td>0</td>\n",
              "      <td>1</td>\n",
              "      <td>1</td>\n",
              "      <td>0</td>\n",
              "      <td>0</td>\n",
              "      <td>0</td>\n",
              "      <td>0</td>\n",
              "      <td>0</td>\n",
              "      <td>0</td>\n",
              "      <td>0</td>\n",
              "      <td>0</td>\n",
              "      <td>1.0</td>\n",
              "      <td>0</td>\n",
              "      <td>-1</td>\n",
              "      <td>0.0</td>\n",
              "      <td>0</td>\n",
              "      <td>-1</td>\n",
              "      <td>1.0</td>\n",
              "      <td>0</td>\n",
              "      <td>1</td>\n",
              "      <td>0</td>\n",
              "      <td>0.0</td>\n",
              "      <td>77659.0</td>\n",
              "      <td>4.0</td>\n",
              "      <td>0</td>\n",
              "      <td>90.0</td>\n",
              "      <td>-1</td>\n",
              "      <td>476940.0</td>\n",
              "      <td>0</td>\n",
              "      <td>102385.0</td>\n",
              "      <td>0</td>\n",
              "      <td>4096.0</td>\n",
              "      <td>1</td>\n",
              "      <td>13.898438</td>\n",
              "      <td>1366.0</td>\n",
              "      <td>768.0</td>\n",
              "      <td>1</td>\n",
              "      <td>-1</td>\n",
              "      <td>1.000000e+00</td>\n",
              "      <td>1</td>\n",
              "      <td>0</td>\n",
              "      <td>0</td>\n",
              "      <td>0</td>\n",
              "      <td>1</td>\n",
              "      <td>0</td>\n",
              "      <td>0</td>\n",
              "      <td>1</td>\n",
              "      <td>1</td>\n",
              "      <td>1</td>\n",
              "      <td>0</td>\n",
              "      <td>0</td>\n",
              "      <td>1</td>\n",
              "      <td>0</td>\n",
              "      <td>NaN</td>\n",
              "      <td>0.0</td>\n",
              "      <td>1</td>\n",
              "      <td>NaN</td>\n",
              "      <td>0</td>\n",
              "      <td>1192.0</td>\n",
              "      <td>0</td>\n",
              "      <td>-1</td>\n",
              "      <td>0.0</td>\n",
              "      <td>0</td>\n",
              "      <td>0</td>\n",
              "      <td>0.0</td>\n",
              "      <td>0.0</td>\n",
              "      <td>1</td>\n",
              "      <td>0</td>\n",
              "    </tr>\n",
              "    <tr>\n",
              "      <th>2</th>\n",
              "      <td>000007905a28d863f6d0d597892cd692</td>\n",
              "      <td>0</td>\n",
              "      <td>0</td>\n",
              "      <td>0</td>\n",
              "      <td>1139.0</td>\n",
              "      <td>0</td>\n",
              "      <td>0</td>\n",
              "      <td>0</td>\n",
              "      <td>NaN</td>\n",
              "      <td>0</td>\n",
              "      <td>0</td>\n",
              "      <td>0</td>\n",
              "      <td>1</td>\n",
              "      <td>2</td>\n",
              "      <td>665.0</td>\n",
              "      <td>0</td>\n",
              "      <td>2</td>\n",
              "      <td>2</td>\n",
              "      <td>0</td>\n",
              "      <td>0</td>\n",
              "      <td>0</td>\n",
              "      <td>0</td>\n",
              "      <td>1</td>\n",
              "      <td>0</td>\n",
              "      <td>0</td>\n",
              "      <td>1</td>\n",
              "      <td>1.0</td>\n",
              "      <td>0</td>\n",
              "      <td>-1</td>\n",
              "      <td>0.0</td>\n",
              "      <td>0</td>\n",
              "      <td>0</td>\n",
              "      <td>1.0</td>\n",
              "      <td>0</td>\n",
              "      <td>0</td>\n",
              "      <td>0</td>\n",
              "      <td>10.0</td>\n",
              "      <td>2.0</td>\n",
              "      <td>4.0</td>\n",
              "      <td>0</td>\n",
              "      <td>187.0</td>\n",
              "      <td>-1</td>\n",
              "      <td>114473.0</td>\n",
              "      <td>1</td>\n",
              "      <td>113907.0</td>\n",
              "      <td>0</td>\n",
              "      <td>4096.0</td>\n",
              "      <td>0</td>\n",
              "      <td>21.500000</td>\n",
              "      <td>1920.0</td>\n",
              "      <td>1080.0</td>\n",
              "      <td>0</td>\n",
              "      <td>-1</td>\n",
              "      <td>4.294967e+09</td>\n",
              "      <td>0</td>\n",
              "      <td>0</td>\n",
              "      <td>0</td>\n",
              "      <td>0</td>\n",
              "      <td>0</td>\n",
              "      <td>1</td>\n",
              "      <td>1</td>\n",
              "      <td>0</td>\n",
              "      <td>2</td>\n",
              "      <td>2</td>\n",
              "      <td>1</td>\n",
              "      <td>0</td>\n",
              "      <td>0</td>\n",
              "      <td>1</td>\n",
              "      <td>NaN</td>\n",
              "      <td>0.0</td>\n",
              "      <td>0</td>\n",
              "      <td>NaN</td>\n",
              "      <td>1</td>\n",
              "      <td>176.0</td>\n",
              "      <td>0</td>\n",
              "      <td>-1</td>\n",
              "      <td>0.0</td>\n",
              "      <td>0</td>\n",
              "      <td>0</td>\n",
              "      <td>0.0</td>\n",
              "      <td>0.0</td>\n",
              "      <td>2</td>\n",
              "      <td>0</td>\n",
              "    </tr>\n",
              "    <tr>\n",
              "      <th>3</th>\n",
              "      <td>00000b11598a75ea8ba1beea8459149f</td>\n",
              "      <td>0</td>\n",
              "      <td>0</td>\n",
              "      <td>0</td>\n",
              "      <td>416.0</td>\n",
              "      <td>0</td>\n",
              "      <td>0</td>\n",
              "      <td>0</td>\n",
              "      <td>NaN</td>\n",
              "      <td>0</td>\n",
              "      <td>0</td>\n",
              "      <td>0</td>\n",
              "      <td>1</td>\n",
              "      <td>3</td>\n",
              "      <td>20.0</td>\n",
              "      <td>-1</td>\n",
              "      <td>3</td>\n",
              "      <td>3</td>\n",
              "      <td>0</td>\n",
              "      <td>0</td>\n",
              "      <td>0</td>\n",
              "      <td>0</td>\n",
              "      <td>0</td>\n",
              "      <td>0</td>\n",
              "      <td>0</td>\n",
              "      <td>0</td>\n",
              "      <td>1.0</td>\n",
              "      <td>0</td>\n",
              "      <td>-1</td>\n",
              "      <td>0.0</td>\n",
              "      <td>0</td>\n",
              "      <td>1</td>\n",
              "      <td>1.0</td>\n",
              "      <td>0</td>\n",
              "      <td>0</td>\n",
              "      <td>0</td>\n",
              "      <td>2.0</td>\n",
              "      <td>140.0</td>\n",
              "      <td>4.0</td>\n",
              "      <td>0</td>\n",
              "      <td>58.0</td>\n",
              "      <td>-1</td>\n",
              "      <td>238475.0</td>\n",
              "      <td>2</td>\n",
              "      <td>227116.0</td>\n",
              "      <td>0</td>\n",
              "      <td>4096.0</td>\n",
              "      <td>2</td>\n",
              "      <td>18.500000</td>\n",
              "      <td>1366.0</td>\n",
              "      <td>768.0</td>\n",
              "      <td>0</td>\n",
              "      <td>-1</td>\n",
              "      <td>4.294967e+09</td>\n",
              "      <td>2</td>\n",
              "      <td>0</td>\n",
              "      <td>0</td>\n",
              "      <td>0</td>\n",
              "      <td>2</td>\n",
              "      <td>0</td>\n",
              "      <td>0</td>\n",
              "      <td>0</td>\n",
              "      <td>3</td>\n",
              "      <td>3</td>\n",
              "      <td>1</td>\n",
              "      <td>0</td>\n",
              "      <td>0</td>\n",
              "      <td>1</td>\n",
              "      <td>NaN</td>\n",
              "      <td>0.0</td>\n",
              "      <td>0</td>\n",
              "      <td>NaN</td>\n",
              "      <td>2</td>\n",
              "      <td>30.0</td>\n",
              "      <td>0</td>\n",
              "      <td>-1</td>\n",
              "      <td>0.0</td>\n",
              "      <td>0</td>\n",
              "      <td>0</td>\n",
              "      <td>0.0</td>\n",
              "      <td>0.0</td>\n",
              "      <td>2</td>\n",
              "      <td>1</td>\n",
              "    </tr>\n",
              "    <tr>\n",
              "      <th>4</th>\n",
              "      <td>000014a5f00daa18e76b81417eeb99fc</td>\n",
              "      <td>0</td>\n",
              "      <td>0</td>\n",
              "      <td>0</td>\n",
              "      <td>269.0</td>\n",
              "      <td>0</td>\n",
              "      <td>0</td>\n",
              "      <td>0</td>\n",
              "      <td>NaN</td>\n",
              "      <td>0</td>\n",
              "      <td>0</td>\n",
              "      <td>0</td>\n",
              "      <td>1</td>\n",
              "      <td>4</td>\n",
              "      <td>12.0</td>\n",
              "      <td>-1</td>\n",
              "      <td>4</td>\n",
              "      <td>4</td>\n",
              "      <td>0</td>\n",
              "      <td>0</td>\n",
              "      <td>0</td>\n",
              "      <td>0</td>\n",
              "      <td>1</td>\n",
              "      <td>0</td>\n",
              "      <td>0</td>\n",
              "      <td>1</td>\n",
              "      <td>1.0</td>\n",
              "      <td>0</td>\n",
              "      <td>-1</td>\n",
              "      <td>0.0</td>\n",
              "      <td>0</td>\n",
              "      <td>0</td>\n",
              "      <td>1.0</td>\n",
              "      <td>0</td>\n",
              "      <td>1</td>\n",
              "      <td>0</td>\n",
              "      <td>2.0</td>\n",
              "      <td>2294.0</td>\n",
              "      <td>4.0</td>\n",
              "      <td>0</td>\n",
              "      <td>54.0</td>\n",
              "      <td>-1</td>\n",
              "      <td>476940.0</td>\n",
              "      <td>0</td>\n",
              "      <td>101900.0</td>\n",
              "      <td>0</td>\n",
              "      <td>6144.0</td>\n",
              "      <td>3</td>\n",
              "      <td>14.000000</td>\n",
              "      <td>1366.0</td>\n",
              "      <td>768.0</td>\n",
              "      <td>1</td>\n",
              "      <td>0</td>\n",
              "      <td>0.000000e+00</td>\n",
              "      <td>3</td>\n",
              "      <td>0</td>\n",
              "      <td>0</td>\n",
              "      <td>0</td>\n",
              "      <td>3</td>\n",
              "      <td>1</td>\n",
              "      <td>1</td>\n",
              "      <td>2</td>\n",
              "      <td>1</td>\n",
              "      <td>1</td>\n",
              "      <td>1</td>\n",
              "      <td>0</td>\n",
              "      <td>0</td>\n",
              "      <td>0</td>\n",
              "      <td>0.0</td>\n",
              "      <td>0.0</td>\n",
              "      <td>0</td>\n",
              "      <td>0.0</td>\n",
              "      <td>2</td>\n",
              "      <td>132.0</td>\n",
              "      <td>0</td>\n",
              "      <td>0</td>\n",
              "      <td>0.0</td>\n",
              "      <td>0</td>\n",
              "      <td>0</td>\n",
              "      <td>0.0</td>\n",
              "      <td>0.0</td>\n",
              "      <td>3</td>\n",
              "      <td>1</td>\n",
              "    </tr>\n",
              "  </tbody>\n",
              "</table>\n",
              "</div>"
            ],
            "text/plain": [
              "                  MachineIdentifier  ProductName  EngineVersion  AppVersion  \\\n",
              "0  0000028988387b115f69f31a3bf04f09            0              0           0   \n",
              "1  000007535c3f730efa9ea0b7ef1bd645            0              1           1   \n",
              "2  000007905a28d863f6d0d597892cd692            0              0           0   \n",
              "3  00000b11598a75ea8ba1beea8459149f            0              0           0   \n",
              "4  000014a5f00daa18e76b81417eeb99fc            0              0           0   \n",
              "\n",
              "   AvSigVersion  IsBeta  RtpStateBitfield  IsSxsPassiveMode  \\\n",
              "0         786.0       0                 0                 0   \n",
              "1           0.0       0                 0                 0   \n",
              "2        1139.0       0                 0                 0   \n",
              "3         416.0       0                 0                 0   \n",
              "4         269.0       0                 0                 0   \n",
              "\n",
              "   DefaultBrowsersIdentifier  AVProductStatesIdentifier  AVProductsInstalled  \\\n",
              "0                        NaN                          0                    0   \n",
              "1                        NaN                          0                    0   \n",
              "2                        NaN                          0                    0   \n",
              "3                        NaN                          0                    0   \n",
              "4                        NaN                          0                    0   \n",
              "\n",
              "   AVProductsEnabled  HasTpm  CountryIdentifier  CityIdentifier  \\\n",
              "0                  0       1                  0           215.0   \n",
              "1                  0       1                  1           172.0   \n",
              "2                  0       1                  2           665.0   \n",
              "3                  0       1                  3            20.0   \n",
              "4                  0       1                  4            12.0   \n",
              "\n",
              "   OrganizationIdentifier  GeoNameIdentifier  LocaleEnglishNameIdentifier  \\\n",
              "0                       0                  0                            0   \n",
              "1                       0                  1                            1   \n",
              "2                       0                  2                            2   \n",
              "3                      -1                  3                            3   \n",
              "4                      -1                  4                            4   \n",
              "\n",
              "   Platform  Processor  OsVer  OsBuild  OsSuite  OsPlatformSubRelease  \\\n",
              "0         0          0      0        0        0                     0   \n",
              "1         0          0      0        0        0                     0   \n",
              "2         0          0      0        0        1                     0   \n",
              "3         0          0      0        0        0                     0   \n",
              "4         0          0      0        0        1                     0   \n",
              "\n",
              "   OsBuildLab  SkuEdition  IsProtected  AutoSampleOptIn  PuaMode  SMode  \\\n",
              "0           0           0          1.0                0       -1    0.0   \n",
              "1           0           0          1.0                0       -1    0.0   \n",
              "2           0           1          1.0                0       -1    0.0   \n",
              "3           0           0          1.0                0       -1    0.0   \n",
              "4           0           1          1.0                0       -1    0.0   \n",
              "\n",
              "   IeVerIdentifier  SmartScreen  Firewall  UacLuaenable  \\\n",
              "0                0           -1       1.0             0   \n",
              "1                0           -1       1.0             0   \n",
              "2                0            0       1.0             0   \n",
              "3                0            1       1.0             0   \n",
              "4                0            0       1.0             0   \n",
              "\n",
              "   Census_MDC2FormFactor  Census_DeviceFamily  Census_OEMNameIdentifier  \\\n",
              "0                      0                    0                       0.0   \n",
              "1                      1                    0                       0.0   \n",
              "2                      0                    0                      10.0   \n",
              "3                      0                    0                       2.0   \n",
              "4                      1                    0                       2.0   \n",
              "\n",
              "   Census_OEMModelIdentifier  Census_ProcessorCoreCount  \\\n",
              "0                    22932.0                        4.0   \n",
              "1                    77659.0                        4.0   \n",
              "2                        2.0                        4.0   \n",
              "3                      140.0                        4.0   \n",
              "4                     2294.0                        4.0   \n",
              "\n",
              "   Census_ProcessorManufacturerIdentifier  Census_ProcessorModelIdentifier  \\\n",
              "0                                       0                            134.0   \n",
              "1                                       0                             90.0   \n",
              "2                                       0                            187.0   \n",
              "3                                       0                             58.0   \n",
              "4                                       0                             54.0   \n",
              "\n",
              "   Census_ProcessorClass  Census_PrimaryDiskTotalCapacity  \\\n",
              "0                     -1                         476940.0   \n",
              "1                     -1                         476940.0   \n",
              "2                     -1                         114473.0   \n",
              "3                     -1                         238475.0   \n",
              "4                     -1                         476940.0   \n",
              "\n",
              "   Census_PrimaryDiskTypeName  Census_SystemVolumeTotalCapacity  \\\n",
              "0                           0                          299451.0   \n",
              "1                           0                          102385.0   \n",
              "2                           1                          113907.0   \n",
              "3                           2                          227116.0   \n",
              "4                           0                          101900.0   \n",
              "\n",
              "   Census_HasOpticalDiskDrive  Census_TotalPhysicalRAM  \\\n",
              "0                           0                   4096.0   \n",
              "1                           0                   4096.0   \n",
              "2                           0                   4096.0   \n",
              "3                           0                   4096.0   \n",
              "4                           0                   6144.0   \n",
              "\n",
              "   Census_ChassisTypeName  Census_InternalPrimaryDiagonalDisplaySizeInInches  \\\n",
              "0                       0                                          18.906250   \n",
              "1                       1                                          13.898438   \n",
              "2                       0                                          21.500000   \n",
              "3                       2                                          18.500000   \n",
              "4                       3                                          14.000000   \n",
              "\n",
              "   Census_InternalPrimaryDisplayResolutionHorizontal  \\\n",
              "0                                             1440.0   \n",
              "1                                             1366.0   \n",
              "2                                             1920.0   \n",
              "3                                             1366.0   \n",
              "4                                             1366.0   \n",
              "\n",
              "   Census_InternalPrimaryDisplayResolutionVertical  \\\n",
              "0                                            900.0   \n",
              "1                                            768.0   \n",
              "2                                           1080.0   \n",
              "3                                            768.0   \n",
              "4                                            768.0   \n",
              "\n",
              "   Census_PowerPlatformRoleName  Census_InternalBatteryType  \\\n",
              "0                             0                          -1   \n",
              "1                             1                          -1   \n",
              "2                             0                          -1   \n",
              "3                             0                          -1   \n",
              "4                             1                           0   \n",
              "\n",
              "   Census_InternalBatteryNumberOfCharges  Census_OSVersion  \\\n",
              "0                           4.294967e+09                 0   \n",
              "1                           1.000000e+00                 1   \n",
              "2                           4.294967e+09                 0   \n",
              "3                           4.294967e+09                 2   \n",
              "4                           0.000000e+00                 3   \n",
              "\n",
              "   Census_OSArchitecture  Census_OSBranch  Census_OSBuildNumber  \\\n",
              "0                      0                0                     0   \n",
              "1                      0                0                     0   \n",
              "2                      0                0                     0   \n",
              "3                      0                0                     0   \n",
              "4                      0                0                     0   \n",
              "\n",
              "   Census_OSBuildRevision  Census_OSEdition  Census_OSSkuName  \\\n",
              "0                       0                 0                 0   \n",
              "1                       1                 0                 0   \n",
              "2                       0                 1                 1   \n",
              "3                       2                 0                 0   \n",
              "4                       3                 1                 1   \n",
              "\n",
              "   Census_OSInstallTypeName  Census_OSInstallLanguageIdentifier  \\\n",
              "0                         0                                   0   \n",
              "1                         1                                   1   \n",
              "2                         0                                   2   \n",
              "3                         0                                   3   \n",
              "4                         2                                   1   \n",
              "\n",
              "   Census_OSUILocaleIdentifier  Census_OSWUAutoUpdateOptionsName  \\\n",
              "0                            0                                 0   \n",
              "1                            1                                 0   \n",
              "2                            2                                 1   \n",
              "3                            3                                 1   \n",
              "4                            1                                 1   \n",
              "\n",
              "   Census_IsPortableOperatingSystem  Census_GenuineStateName  \\\n",
              "0                                 0                        0   \n",
              "1                                 0                        1   \n",
              "2                                 0                        0   \n",
              "3                                 0                        0   \n",
              "4                                 0                        0   \n",
              "\n",
              "   Census_ActivationChannel  Census_IsFlightingInternal  \\\n",
              "0                         0                         NaN   \n",
              "1                         0                         NaN   \n",
              "2                         1                         NaN   \n",
              "3                         1                         NaN   \n",
              "4                         0                         0.0   \n",
              "\n",
              "   Census_IsFlightsDisabled  Census_FlightRing  Census_ThresholdOptIn  \\\n",
              "0                       0.0                  0                    NaN   \n",
              "1                       0.0                  1                    NaN   \n",
              "2                       0.0                  0                    NaN   \n",
              "3                       0.0                  0                    NaN   \n",
              "4                       0.0                  0                    0.0   \n",
              "\n",
              "   Census_FirmwareManufacturerIdentifier  Census_FirmwareVersionIdentifier  \\\n",
              "0                                      0                            2680.0   \n",
              "1                                      0                            1192.0   \n",
              "2                                      1                             176.0   \n",
              "3                                      2                              30.0   \n",
              "4                                      2                             132.0   \n",
              "\n",
              "   Census_IsSecureBootEnabled  Census_IsWIMBootEnabled  \\\n",
              "0                           0                       -1   \n",
              "1                           0                       -1   \n",
              "2                           0                       -1   \n",
              "3                           0                       -1   \n",
              "4                           0                        0   \n",
              "\n",
              "   Census_IsVirtualDevice  Census_IsTouchEnabled  Census_IsPenCapable  \\\n",
              "0                     0.0                      0                    0   \n",
              "1                     0.0                      0                    0   \n",
              "2                     0.0                      0                    0   \n",
              "3                     0.0                      0                    0   \n",
              "4                     0.0                      0                    0   \n",
              "\n",
              "   Census_IsAlwaysOnAlwaysConnectedCapable  Wdft_IsGamer  \\\n",
              "0                                      0.0           0.0   \n",
              "1                                      0.0           0.0   \n",
              "2                                      0.0           0.0   \n",
              "3                                      0.0           0.0   \n",
              "4                                      0.0           0.0   \n",
              "\n",
              "   Wdft_RegionIdentifier  HasDetections  \n",
              "0                      0              0  \n",
              "1                      1              0  \n",
              "2                      2              0  \n",
              "3                      2              1  \n",
              "4                      3              1  "
            ]
          },
          "metadata": {
            "tags": []
          },
          "execution_count": 14
        }
      ]
    },
    {
      "metadata": {
        "id": "FwCbQudtXMgz",
        "colab_type": "code",
        "colab": {}
      },
      "cell_type": "code",
      "source": [
        "target = train['HasDetections']\n",
        "del train['HasDetections']"
      ],
      "execution_count": 0,
      "outputs": []
    },
    {
      "metadata": {
        "id": "i9zaXjMkXRMM",
        "colab_type": "code",
        "colab": {}
      },
      "cell_type": "code",
      "source": [
        "param = {'num_leaves': 60,\n",
        "         'min_data_in_leaf': 60, \n",
        "         'objective':'binary',\n",
        "         'max_depth': -1,\n",
        "         'learning_rate': 0.1,\n",
        "         \"boosting\": \"gbdt\",\n",
        "         \"feature_fraction\": 0.8,\n",
        "         \"bagging_freq\": 1,\n",
        "         \"bagging_fraction\": 0.8 ,\n",
        "         \"bagging_seed\": 11,\n",
        "         \"metric\": 'auc',\n",
        "         \"lambda_l1\": 0.1,\n",
        "         \"random_state\": 133,\n",
        "         \"verbosity\": -1}"
      ],
      "execution_count": 0,
      "outputs": []
    },
    {
      "metadata": {
        "id": "Wy1JzTrFXU7X",
        "colab_type": "code",
        "colab": {}
      },
      "cell_type": "code",
      "source": [
        "max_iter = 5"
      ],
      "execution_count": 0,
      "outputs": []
    },
    {
      "metadata": {
        "id": "c7wLH9qfXZc5",
        "colab_type": "code",
        "outputId": "ae661988-c2bd-4634-ac83-704ee5b4f21e",
        "colab": {
          "base_uri": "https://localhost:8080/",
          "height": 34
        }
      },
      "cell_type": "code",
      "source": [
        "gc.collect()"
      ],
      "execution_count": 0,
      "outputs": [
        {
          "output_type": "execute_result",
          "data": {
            "text/plain": [
              "15799"
            ]
          },
          "metadata": {
            "tags": []
          },
          "execution_count": 27
        }
      ]
    },
    {
      "metadata": {
        "id": "PEBlCfGKXd7j",
        "colab_type": "code",
        "outputId": "61f92d5a-8e92-4615-978c-82b6ba2d1ebc",
        "colab": {
          "base_uri": "https://localhost:8080/",
          "height": 782
        }
      },
      "cell_type": "code",
      "source": [
        "folds = KFold(n_splits=3, shuffle=True, random_state=15)\n",
        "oof = np.zeros(len(train))\n",
        "categorical_columns = [c for c in categorical_columns if c not in ['MachineIdentifier']]\n",
        "features = [c for c in train.columns if c not in ['MachineIdentifier']]\n",
        "predictions = np.zeros(len(test))\n",
        "start = time.time()\n",
        "feature_importance_df = pd.DataFrame()\n",
        "start_time= time.time()\n",
        "score = [0 for _ in range(folds.n_splits)]\n",
        "\n",
        "for fold_, (trn_idx, val_idx) in enumerate(folds.split(train.values, target.values)):\n",
        "    print(\"fold n°{}\".format(fold_))\n",
        "    trn_data = lgb.Dataset(train.iloc[trn_idx][features],\n",
        "                           label=target.iloc[trn_idx],\n",
        "                           categorical_feature = categorical_columns\n",
        "                          )\n",
        "    val_data = lgb.Dataset(train.iloc[val_idx][features],\n",
        "                           label=target.iloc[val_idx],\n",
        "                           categorical_feature = categorical_columns\n",
        "                          )\n",
        "\n",
        "    num_round = 10000\n",
        "    clf = lgb.train(param,\n",
        "                    trn_data,\n",
        "                    num_round,\n",
        "                    valid_sets = [trn_data, val_data],\n",
        "                    verbose_eval=100,\n",
        "                    early_stopping_rounds = 40)\n",
        "    \n",
        "    oof[val_idx] = clf.predict(train.iloc[val_idx][features], num_iteration=clf.best_iteration)\n",
        "    \n",
        "    fold_importance_df = pd.DataFrame()\n",
        "    fold_importance_df[\"feature\"] = features\n",
        "    fold_importance_df[\"importance\"] = clf.feature_importance(importance_type='gain')\n",
        "    fold_importance_df[\"fold\"] = fold_ + 1\n",
        "    feature_importance_df = pd.concat([feature_importance_df, fold_importance_df], axis=0)\n",
        "\n",
        "    # we perform predictions by chunks\n",
        "    initial_idx = 0\n",
        "    chunk_size = 1000000\n",
        "    current_pred = np.zeros(len(test))\n",
        "    while initial_idx < test.shape[0]:\n",
        "        final_idx = min(initial_idx + chunk_size, test.shape[0])\n",
        "        idx = range(initial_idx, final_idx)\n",
        "        current_pred[idx] = clf.predict(test.iloc[idx][features], num_iteration=clf.best_iteration)\n",
        "        initial_idx = final_idx\n",
        "    predictions += current_pred / min(folds.n_splits, max_iter)\n",
        "   \n",
        "    print(\"time elapsed: {:<5.2}s\".format((time.time() - start_time) / 3600))\n",
        "    score[fold_] = metrics.roc_auc_score(target.iloc[val_idx], oof[val_idx])\n",
        "    if fold_ == max_iter - 1: break\n",
        "        \n",
        "if (folds.n_splits == max_iter):\n",
        "    print(\"CV score: {:<8.5f}\".format(metrics.roc_auc_score(target, oof)))\n",
        "else:\n",
        "     print(\"CV score: {:<8.5f}\".format(sum(score) / max_iter))"
      ],
      "execution_count": 0,
      "outputs": [
        {
          "output_type": "stream",
          "text": [
            "fold n°0\n"
          ],
          "name": "stdout"
        },
        {
          "output_type": "stream",
          "text": [
            "/usr/local/lib/python3.6/dist-packages/lightgbm/basic.py:1205: UserWarning:\n",
            "\n",
            "Using categorical_feature in Dataset.\n",
            "\n",
            "/usr/local/lib/python3.6/dist-packages/lightgbm/basic.py:762: UserWarning:\n",
            "\n",
            "categorical_feature in param dict is overridden.\n",
            "\n"
          ],
          "name": "stderr"
        },
        {
          "output_type": "stream",
          "text": [
            "Training until validation scores don't improve for 40 rounds.\n",
            "[100]\ttraining's auc: 0.752461\tvalid_1's auc: 0.720688\n",
            "[200]\ttraining's auc: 0.771883\tvalid_1's auc: 0.722021\n",
            "Early stopping, best iteration is:\n",
            "[204]\ttraining's auc: 0.772455\tvalid_1's auc: 0.722038\n",
            "time elapsed: 0.077s\n",
            "fold n°1\n"
          ],
          "name": "stdout"
        },
        {
          "output_type": "stream",
          "text": [
            "/usr/local/lib/python3.6/dist-packages/lightgbm/basic.py:1205: UserWarning:\n",
            "\n",
            "Using categorical_feature in Dataset.\n",
            "\n",
            "/usr/local/lib/python3.6/dist-packages/lightgbm/basic.py:762: UserWarning:\n",
            "\n",
            "categorical_feature in param dict is overridden.\n",
            "\n"
          ],
          "name": "stderr"
        },
        {
          "output_type": "stream",
          "text": [
            "Training until validation scores don't improve for 40 rounds.\n",
            "[100]\ttraining's auc: 0.752837\tvalid_1's auc: 0.720519\n",
            "Early stopping, best iteration is:\n",
            "[145]\ttraining's auc: 0.762264\tvalid_1's auc: 0.721179\n",
            "time elapsed: 0.13 s\n",
            "fold n°2\n"
          ],
          "name": "stdout"
        },
        {
          "output_type": "stream",
          "text": [
            "/usr/local/lib/python3.6/dist-packages/lightgbm/basic.py:1205: UserWarning:\n",
            "\n",
            "Using categorical_feature in Dataset.\n",
            "\n",
            "/usr/local/lib/python3.6/dist-packages/lightgbm/basic.py:762: UserWarning:\n",
            "\n",
            "categorical_feature in param dict is overridden.\n",
            "\n"
          ],
          "name": "stderr"
        },
        {
          "output_type": "stream",
          "text": [
            "Training until validation scores don't improve for 40 rounds.\n",
            "[100]\ttraining's auc: 0.752495\tvalid_1's auc: 0.721293\n",
            "[200]\ttraining's auc: 0.770956\tvalid_1's auc: 0.722193\n",
            "Early stopping, best iteration is:\n",
            "[203]\ttraining's auc: 0.771414\tvalid_1's auc: 0.72223\n",
            "time elapsed: 0.21 s\n",
            "CV score: 0.43309 \n"
          ],
          "name": "stdout"
        }
      ]
    },
    {
      "metadata": {
        "id": "Ys3G4tzRjGKe",
        "colab_type": "code",
        "outputId": "72cf5d28-c1bf-4f82-fd37-124b02a59fc3",
        "colab": {
          "base_uri": "https://localhost:8080/",
          "height": 1829
        }
      },
      "cell_type": "code",
      "source": [
        "cols = (feature_importance_df[[\"feature\", \"importance\"]]\n",
        "        .groupby(\"feature\")\n",
        "        .mean()\n",
        "        .sort_values(by=\"importance\", ascending=False)[:1000].index)\n",
        "\n",
        "best_features = feature_importance_df.loc[feature_importance_df.feature.isin(cols)]\n",
        "\n",
        "plt.figure(figsize=(14,25))\n",
        "sns.barplot(x=\"importance\",\n",
        "            y=\"feature\",\n",
        "            data=best_features.sort_values(by=\"importance\",\n",
        "                                           ascending=False))\n",
        "plt.title('LightGBM Features (avg over folds)')\n",
        "plt.tight_layout()\n",
        "plt.savefig('lgbm_importances.png')"
      ],
      "execution_count": 0,
      "outputs": [
        {
          "output_type": "display_data",
          "data": {
            "image/png": "[encoded data removed]",
            "text/plain": [
              "<Figure size 1008x1800 with 1 Axes>"
            ]
          },
          "metadata": {
            "tags": []
          }
        }
      ]
    },
    {
      "metadata": {
        "id": "oBr2h3XkrQwn",
        "colab_type": "code",
        "outputId": "83c50fdd-1a3d-4153-cb88-6d306d5c3b9a",
        "colab": {
          "base_uri": "https://localhost:8080/",
          "height": 359
        }
      },
      "cell_type": "code",
      "source": [
        "sub_df = pd.DataFrame({\"MachineIdentifier\": test[\"MachineIdentifier\"].values})\n",
        "sub_df[\"HasDetections\"] = predictions\n",
        "sub_df[:10]"
      ],
      "execution_count": 0,
      "outputs": [
        {
          "output_type": "execute_result",
          "data": {
            "text/html": [
              "<div>\n",
              "<style scoped>\n",
              "    .dataframe tbody tr th:only-of-type {\n",
              "        vertical-align: middle;\n",
              "    }\n",
              "\n",
              "    .dataframe tbody tr th {\n",
              "        vertical-align: top;\n",
              "    }\n",
              "\n",
              "    .dataframe thead th {\n",
              "        text-align: right;\n",
              "    }\n",
              "</style>\n",
              "<table border=\"1\" class=\"dataframe\">\n",
              "  <thead>\n",
              "    <tr style=\"text-align: right;\">\n",
              "      <th></th>\n",
              "      <th>MachineIdentifier</th>\n",
              "      <th>HasDetections</th>\n",
              "    </tr>\n",
              "  </thead>\n",
              "  <tbody>\n",
              "    <tr>\n",
              "      <th>0</th>\n",
              "      <td>0000010489e3af074adeac69c53e555e</td>\n",
              "      <td>0.529715</td>\n",
              "    </tr>\n",
              "    <tr>\n",
              "      <th>1</th>\n",
              "      <td>00000176ac758d54827acd545b6315a5</td>\n",
              "      <td>0.492156</td>\n",
              "    </tr>\n",
              "    <tr>\n",
              "      <th>2</th>\n",
              "      <td>0000019dcefc128c2d4387c1273dae1d</td>\n",
              "      <td>0.428545</td>\n",
              "    </tr>\n",
              "    <tr>\n",
              "      <th>3</th>\n",
              "      <td>0000055553dc51b1295785415f1a224d</td>\n",
              "      <td>0.311888</td>\n",
              "    </tr>\n",
              "    <tr>\n",
              "      <th>4</th>\n",
              "      <td>00000574cefffeca83ec8adf9285b2bf</td>\n",
              "      <td>0.418045</td>\n",
              "    </tr>\n",
              "    <tr>\n",
              "      <th>5</th>\n",
              "      <td>000007ffedd31948f08e6c16da31f6d1</td>\n",
              "      <td>0.507356</td>\n",
              "    </tr>\n",
              "    <tr>\n",
              "      <th>6</th>\n",
              "      <td>000008f31610018d898e5f315cdf1bd1</td>\n",
              "      <td>0.283988</td>\n",
              "    </tr>\n",
              "    <tr>\n",
              "      <th>7</th>\n",
              "      <td>00000a3c447250626dbcc628c9cbc460</td>\n",
              "      <td>0.352340</td>\n",
              "    </tr>\n",
              "    <tr>\n",
              "      <th>8</th>\n",
              "      <td>00000b6bf217ec9aef0f68d5c6705897</td>\n",
              "      <td>0.521972</td>\n",
              "    </tr>\n",
              "    <tr>\n",
              "      <th>9</th>\n",
              "      <td>00000b8d3776b13e93ad83676a28e4aa</td>\n",
              "      <td>0.269586</td>\n",
              "    </tr>\n",
              "  </tbody>\n",
              "</table>\n",
              "</div>"
            ],
            "text/plain": [
              "                  MachineIdentifier  HasDetections\n",
              "0  0000010489e3af074adeac69c53e555e       0.529715\n",
              "1  00000176ac758d54827acd545b6315a5       0.492156\n",
              "2  0000019dcefc128c2d4387c1273dae1d       0.428545\n",
              "3  0000055553dc51b1295785415f1a224d       0.311888\n",
              "4  00000574cefffeca83ec8adf9285b2bf       0.418045\n",
              "5  000007ffedd31948f08e6c16da31f6d1       0.507356\n",
              "6  000008f31610018d898e5f315cdf1bd1       0.283988\n",
              "7  00000a3c447250626dbcc628c9cbc460       0.352340\n",
              "8  00000b6bf217ec9aef0f68d5c6705897       0.521972\n",
              "9  00000b8d3776b13e93ad83676a28e4aa       0.269586"
            ]
          },
          "metadata": {
            "tags": []
          },
          "execution_count": 30
        }
      ]
    },
    {
      "metadata": {
        "id": "QouSC3fsrUCP",
        "colab_type": "code",
        "colab": {}
      },
      "cell_type": "code",
      "source": [
        "sub_df.to_csv(\"submit.csv\", index=False)"
      ],
      "execution_count": 0,
      "outputs": []
    },
    {
      "metadata": {
        "id": "Th2jVoHRrk8R",
        "colab_type": "code",
        "outputId": "5367e952-b912-4651-9458-272e5ec0abf8",
        "colab": {
          "base_uri": "https://localhost:8080/",
          "height": 360
        }
      },
      "cell_type": "code",
      "source": [
        "!pip install pydrive\n",
        "from pydrive.auth import GoogleAuth\n",
        "from pydrive.drive import GoogleDrive\n",
        "from google.colab import auth\n",
        "from oauth2client.client import GoogleCredentials\n",
        "\n",
        "# Authenticate and create the PyDrive client.\n",
        "# This only needs to be done once in a notebook.\n",
        "auth.authenticate_user()\n",
        "gauth = GoogleAuth()\n",
        "gauth.credentials = GoogleCredentials.get_application_default()\n",
        "drive = GoogleDrive(gauth)\n",
        "\n",
        "# Create & upload a file.\n",
        "uploaded = drive.CreateFile({'title': 'submit.csv'})\n",
        "uploaded.SetContentFile('submit.csv')\n",
        "uploaded.Upload()\n",
        "print('Uploaded file with ID {}'.format(uploaded.get('id')))"
      ],
      "execution_count": 0,
      "outputs": [
        {
          "output_type": "stream",
          "text": [
            "Collecting pydrive\n",
            "\u001b[?25l  Downloading https://files.pythonhosted.org/packages/52/e0/0e64788e5dd58ce2d6934549676243dc69d982f198524be9b99e9c2a4fd5/PyDrive-1.3.1.tar.gz (987kB)\n",
            "\u001b[K    100% |████████████████████████████████| 993kB 22.0MB/s \n",
            "\u001b[?25hRequirement already satisfied: google-api-python-client>=1.2 in /usr/local/lib/python3.6/dist-packages (from pydrive) (1.6.7)\n",
            "Requirement already satisfied: oauth2client>=4.0.0 in /usr/local/lib/python3.6/dist-packages (from pydrive) (4.1.3)\n",
            "Requirement already satisfied: PyYAML>=3.0 in /usr/local/lib/python3.6/dist-packages (from pydrive) (3.13)\n",
            "Requirement already satisfied: uritemplate<4dev,>=3.0.0 in /usr/local/lib/python3.6/dist-packages (from google-api-python-client>=1.2->pydrive) (3.0.0)\n",
            "Requirement already satisfied: httplib2<1dev,>=0.9.2 in /usr/local/lib/python3.6/dist-packages (from google-api-python-client>=1.2->pydrive) (0.11.3)\n",
            "Requirement already satisfied: six<2dev,>=1.6.1 in /usr/local/lib/python3.6/dist-packages (from google-api-python-client>=1.2->pydrive) (1.11.0)\n",
            "Requirement already satisfied: rsa>=3.1.4 in /usr/local/lib/python3.6/dist-packages (from oauth2client>=4.0.0->pydrive) (4.0)\n",
            "Requirement already satisfied: pyasn1>=0.1.7 in /usr/local/lib/python3.6/dist-packages (from oauth2client>=4.0.0->pydrive) (0.4.5)\n",
            "Requirement already satisfied: pyasn1-modules>=0.0.5 in /usr/local/lib/python3.6/dist-packages (from oauth2client>=4.0.0->pydrive) (0.2.4)\n",
            "Building wheels for collected packages: pydrive\n",
            "  Building wheel for pydrive (setup.py) ... \u001b[?25ldone\n",
            "\u001b[?25h  Stored in directory: /root/.cache/pip/wheels/fa/d2/9a/d3b6b506c2da98289e5d417215ce34b696db856643bad779f4\n",
            "Successfully built pydrive\n",
            "Installing collected packages: pydrive\n",
            "Successfully installed pydrive-1.3.1\n",
            "Uploaded file with ID 1LQSYwj8KpL2-T8d0UKH0yB2W84Dug467\n"
          ],
          "name": "stdout"
        }
      ]
    },
    {
      "metadata": {
        "id": "bkYBcXeZYXLr",
        "colab_type": "text"
      },
      "cell_type": "markdown",
      "source": [
        "# Ok so based on the results above, I am going to try k fold with only 4 features"
      ]
    },
    {
      "metadata": {
        "id": "IgAtS9AVYmmz",
        "colab_type": "code",
        "colab": {}
      },
      "cell_type": "code",
      "source": [
        "import numpy as np\n",
        "import pandas as pd\n",
        "import gc\n",
        "import time\n",
        "import random\n",
        "from lightgbm import LGBMClassifier\n",
        "from sklearn.metrics import roc_auc_score, roc_curve\n",
        "from sklearn.model_selection import StratifiedKFold\n",
        "import matplotlib.pyplot as plot\n",
        "import seaborn as sb"
      ],
      "execution_count": 0,
      "outputs": []
    },
    {
      "metadata": {
        "id": "i08dIZlsY4Tq",
        "colab_type": "code",
        "colab": {}
      },
      "cell_type": "code",
      "source": [
        "#vars\n",
        "dataFolder = '/content/'\n",
        "submissionFileName = 'submission'\n",
        "trainFile='train.csv.zip'\n",
        "testFile='test.csv.zip'\n",
        "#used 4000000 nr of rows in stead of 8000000 because of Kernel memory issue\n",
        "numberOfRows = 2500000"
      ],
      "execution_count": 0,
      "outputs": []
    },
    {
      "metadata": {
        "id": "whsGP0UBZdaz",
        "colab_type": "code",
        "colab": {}
      },
      "cell_type": "code",
      "source": [
        "seed = 6001\n",
        "np.random.seed(seed)\n",
        "random.seed(seed)"
      ],
      "execution_count": 0,
      "outputs": []
    },
    {
      "metadata": {
        "id": "C0imwNe3ZjC2",
        "colab_type": "code",
        "colab": {}
      },
      "cell_type": "code",
      "source": [
        "def displayImportances(featureImportanceDf, submissionFileName):\n",
        "    cols = featureImportanceDf[[\"feature\", \"importance\"]].groupby(\"feature\").mean().sort_values(by = \"importance\", ascending = False).index\n",
        "    bestFeatures = featureImportanceDf.loc[featureImportanceDf.feature.isin(cols)]\n",
        "    plot.figure(figsize = (14, 14))\n",
        "    sb.barplot(x = \"importance\", y = \"feature\", data = bestFeatures.sort_values(by = \"importance\", ascending = False))\n",
        "    plot.title('LightGBM Features')\n",
        "    plot.tight_layout()\n",
        "    plot.savefig(submissionFileName + '.png')"
      ],
      "execution_count": 0,
      "outputs": []
    },
    {
      "metadata": {
        "id": "FexNVkPZZrvH",
        "colab_type": "code",
        "colab": {}
      },
      "cell_type": "code",
      "source": [
        "dtypes = {\n",
        "        'MachineIdentifier':                                    'category',\n",
        "        'ProductName':                                          'category',\n",
        "        'EngineVersion':                                        'category',\n",
        "        'AppVersion':                                           'category',\n",
        "        'AvSigVersion':                                         'category',\n",
        "        'IsBeta':                                               'int8',\n",
        "        'RtpStateBitfield':                                     'float16',\n",
        "        'IsSxsPassiveMode':                                     'int8',\n",
        "        'DefaultBrowsersIdentifier':                            'float16',\n",
        "        'AVProductStatesIdentifier':                            'float32',\n",
        "        'AVProductsInstalled':                                  'float16',\n",
        "        'AVProductsEnabled':                                    'float16',\n",
        "        'HasTpm':                                               'int8',\n",
        "        'CountryIdentifier':                                    'int16',\n",
        "        'CityIdentifier':                                       'float32',\n",
        "        'OrganizationIdentifier':                               'float16',\n",
        "        'GeoNameIdentifier':                                    'float16',\n",
        "        'LocaleEnglishNameIdentifier':                          'int8',\n",
        "        'Platform':                                             'category',\n",
        "        'Processor':                                            'category',\n",
        "        'OsVer':                                                'category',\n",
        "        'OsBuild':                                              'int16',\n",
        "        'OsSuite':                                              'int16',\n",
        "        'OsPlatformSubRelease':                                 'category',\n",
        "        'OsBuildLab':                                           'category',\n",
        "        'SkuEdition':                                           'category',\n",
        "        'IsProtected':                                          'float16',\n",
        "        'AutoSampleOptIn':                                      'int8',\n",
        "        'PuaMode':                                              'category',\n",
        "        'SMode':                                                'float16',\n",
        "        'IeVerIdentifier':                                      'float16',\n",
        "        'SmartScreen':                                          'category',\n",
        "        'Firewall':                                             'float16',\n",
        "        'UacLuaenable':                                         'float32',\n",
        "        'Census_MDC2FormFactor':                                'category',\n",
        "        'Census_DeviceFamily':                                  'category',\n",
        "        'Census_OEMNameIdentifier':                             'float16',\n",
        "        'Census_OEMModelIdentifier':                            'float32',\n",
        "        'Census_ProcessorCoreCount':                            'float16',\n",
        "        'Census_ProcessorManufacturerIdentifier':               'float16',\n",
        "        'Census_ProcessorModelIdentifier':                      'float16',\n",
        "        'Census_ProcessorClass':                                'category',\n",
        "        'Census_PrimaryDiskTotalCapacity':                      'float32',\n",
        "        'Census_PrimaryDiskTypeName':                           'category',\n",
        "        'Census_SystemVolumeTotalCapacity':                     'float32',\n",
        "        'Census_HasOpticalDiskDrive':                           'int8',\n",
        "        'Census_TotalPhysicalRAM':                              'float32',\n",
        "        'Census_ChassisTypeName':                               'category',\n",
        "        'Census_InternalPrimaryDiagonalDisplaySizeInInches':    'float16',\n",
        "        'Census_InternalPrimaryDisplayResolutionHorizontal':    'float16',\n",
        "        'Census_InternalPrimaryDisplayResolutionVertical':      'float16',\n",
        "        'Census_PowerPlatformRoleName':                         'category',\n",
        "        'Census_InternalBatteryType':                           'category',\n",
        "        'Census_InternalBatteryNumberOfCharges':                'float32',\n",
        "        'Census_OSVersion':                                     'category',\n",
        "        'Census_OSArchitecture':                                'category',\n",
        "        'Census_OSBranch':                                      'category',\n",
        "        'Census_OSBuildNumber':                                 'int16',\n",
        "        'Census_OSBuildRevision':                               'int32',\n",
        "        'Census_OSEdition':                                     'category',\n",
        "        'Census_OSSkuName':                                     'category',\n",
        "        'Census_OSInstallTypeName':                             'category',\n",
        "        'Census_OSInstallLanguageIdentifier':                   'float16',\n",
        "        'Census_OSUILocaleIdentifier':                          'int16',\n",
        "        'Census_OSWUAutoUpdateOptionsName':                     'category',\n",
        "        'Census_IsPortableOperatingSystem':                     'int8',\n",
        "        'Census_GenuineStateName':                              'category',\n",
        "        'Census_ActivationChannel':                             'category',\n",
        "        'Census_IsFlightingInternal':                           'float16',\n",
        "        'Census_IsFlightsDisabled':                             'float16',\n",
        "        'Census_FlightRing':                                    'category',\n",
        "        'Census_ThresholdOptIn':                                'float16',\n",
        "        'Census_FirmwareManufacturerIdentifier':                'float16',\n",
        "        'Census_FirmwareVersionIdentifier':                     'float32',\n",
        "        'Census_IsSecureBootEnabled':                           'int8',\n",
        "        'Census_IsWIMBootEnabled':                              'float16',\n",
        "        'Census_IsVirtualDevice':                               'float16',\n",
        "        'Census_IsTouchEnabled':                                'int8',\n",
        "        'Census_IsPenCapable':                                  'int8',\n",
        "        'Census_IsAlwaysOnAlwaysConnectedCapable':              'float16',\n",
        "        'Wdft_IsGamer':                                         'float16',\n",
        "        'Wdft_RegionIdentifier':                                'float16',\n",
        "        'HasDetections':                                        'int8'\n",
        "        }\n",
        "\n",
        "selectedFeatures = [  \n",
        "    'CountryIdentifier',                                  \n",
        "    'CityIdentifier',                                      \n",
        "    #'SmartScreen',                                         \n",
        "    'Census_SystemVolumeTotalCapacity', \n",
        "    'AVProductStatesIdentifier'\n",
        "    ]"
      ],
      "execution_count": 0,
      "outputs": []
    },
    {
      "metadata": {
        "id": "U2AouKgoavTX",
        "colab_type": "code",
        "outputId": "a8810c8e-2ddc-4c34-dd13-78c761061e6e",
        "colab": {
          "base_uri": "https://localhost:8080/",
          "height": 85
        }
      },
      "cell_type": "code",
      "source": [
        "trainDf = pd.read_csv(dataFolder + trainFile, dtype=dtypes, usecols=selectedFeatures, low_memory=True, nrows = numberOfRows)\n",
        "labels = pd.read_csv(dataFolder + trainFile, usecols = ['HasDetections'], nrows = numberOfRows)\n",
        "testDf = pd.read_csv(dataFolder + testFile, dtype=dtypes, usecols=selectedFeatures, low_memory=True)\n",
        "print('== Dataset Shapes ==')\n",
        "print('Train : ' + str(trainDf.shape))\n",
        "print('Labels : ' + str(labels.shape))\n",
        "print('Test : ' + str(testDf.shape))"
      ],
      "execution_count": 0,
      "outputs": [
        {
          "output_type": "stream",
          "text": [
            "== Dataset Shapes ==\n",
            "Train : (2500000, 4)\n",
            "Labels : (2500000, 1)\n",
            "Test : (7853253, 4)\n"
          ],
          "name": "stdout"
        }
      ]
    },
    {
      "metadata": {
        "id": "bgGvwiYZbiaf",
        "colab_type": "code",
        "outputId": "a36d2a80-0871-447d-f154-33041708f367",
        "colab": {
          "base_uri": "https://localhost:8080/",
          "height": 34
        }
      },
      "cell_type": "code",
      "source": [
        "# Append Datasets and Cleanup\n",
        "df = trainDf.append(testDf).reset_index()\n",
        "del trainDf, testDf\n",
        "gc.collect()"
      ],
      "execution_count": 0,
      "outputs": [
        {
          "output_type": "execute_result",
          "data": {
            "text/plain": [
              "2332"
            ]
          },
          "metadata": {
            "tags": []
          },
          "execution_count": 21
        }
      ]
    },
    {
      "metadata": {
        "id": "rqspmCqFbxWm",
        "colab_type": "code",
        "outputId": "10f82450-b74d-4241-a94c-46887e0af037",
        "colab": {
          "base_uri": "https://localhost:8080/",
          "height": 51
        }
      },
      "cell_type": "code",
      "source": [
        "#Count Encoding (with exceptions)\n",
        "for col in [f for f in df.columns if f not in ['index','HasDetections','Census_SystemVolumeTotalCapacity']]:\n",
        "    df[col]=df[col].map(df[col].value_counts())\n",
        "\n",
        "dfDummy = pd.get_dummies(df, dummy_na=True)\n",
        "print('Dummy: ' + str(dfDummy.shape))\n",
        "\n",
        "# Cleanup\n",
        "del df\n",
        "gc.collect()"
      ],
      "execution_count": 0,
      "outputs": [
        {
          "output_type": "stream",
          "text": [
            "Dummy: (10353253, 5)\n"
          ],
          "name": "stdout"
        },
        {
          "output_type": "execute_result",
          "data": {
            "text/plain": [
              "57"
            ]
          },
          "metadata": {
            "tags": []
          },
          "execution_count": 22
        }
      ]
    },
    {
      "metadata": {
        "id": "Fh-kdNrEb6-G",
        "colab_type": "code",
        "outputId": "b9f73435-624e-4eae-d847-2d3ea9acb0fc",
        "colab": {
          "base_uri": "https://localhost:8080/",
          "height": 153
        }
      },
      "cell_type": "code",
      "source": [
        "# Split back to train and test\n",
        "train = dfDummy[:numberOfRows]\n",
        "test = dfDummy[numberOfRows:]\n",
        "\n",
        "# Cleanup\n",
        "del dfDummy\n",
        "gc.collect()\n",
        "\n",
        "# Summary Shape\n",
        "print('== Dataset Shapes ==')\n",
        "print('Train: ' + str(train.shape))\n",
        "print('Test: ' + str(test.shape))\n",
        "\n",
        "# Summary Columns\n",
        "print('== Dataset Columns ==')\n",
        "features = [f for f in train.columns if f not in ['index']]\n",
        "for feature in features:\n",
        "    print(feature)"
      ],
      "execution_count": 0,
      "outputs": [
        {
          "output_type": "stream",
          "text": [
            "== Dataset Shapes ==\n",
            "Train: (2500000, 5)\n",
            "Test: (7853253, 5)\n",
            "== Dataset Columns ==\n",
            "AVProductStatesIdentifier\n",
            "CountryIdentifier\n",
            "CityIdentifier\n",
            "Census_SystemVolumeTotalCapacity\n"
          ],
          "name": "stdout"
        }
      ]
    },
    {
      "metadata": {
        "id": "J-4WsOuacScI",
        "colab_type": "code",
        "outputId": "5abeaa7f-3c79-491d-c7fc-631f38c11c1b",
        "colab": {
          "base_uri": "https://localhost:8080/",
          "height": 1380
        }
      },
      "cell_type": "code",
      "source": [
        "# CV Folds\n",
        "folds = StratifiedKFold(n_splits = 5, shuffle = True, random_state = seed)\n",
        "\n",
        "# Create arrays and dataframes to store results\n",
        "oofPreds = np.zeros(train.shape[0])\n",
        "subPreds = np.zeros(test.shape[0])\n",
        "featureImportanceDf = pd.DataFrame()\n",
        "\n",
        "# Loop through all Folds.\n",
        "for n_fold, (trainXId, validXId) in enumerate(folds.split(train[features], labels)):\n",
        "    # Create TrainXY and ValidationXY set based on fold-indexes\n",
        "    trainX, trainY = train[features].iloc[trainXId], labels.iloc[trainXId]\n",
        "    validX, validY = train[features].iloc[validXId], labels.iloc[validXId]\n",
        "\n",
        "    print('== Fold: ' + str(n_fold))\n",
        "\n",
        "    # LightGBM parameters\n",
        "    lgbm = LGBMClassifier(\n",
        "        objective = 'binary',\n",
        "        boosting_type = 'gbdt',\n",
        "        n_estimators = 2500,\n",
        "        learning_rate = 0.1, \n",
        "        num_leaves = 200,\n",
        "        min_data_in_leaf = 125, \n",
        "        bagging_fraction = 0.901,\n",
        "        max_depth = 13, \n",
        "        reg_alpha = 2.5,\n",
        "        reg_lambda = 2.5,\n",
        "        min_split_gain = 0.0001,\n",
        "        min_child_weight = 25,\n",
        "        feature_fraction = 0.5, \n",
        "        silent = -1,\n",
        "        verbose = -1,\n",
        "        #n_jobs is set to -1 instead of 4 otherwise the kernell will time out\n",
        "        n_jobs = 4) \n",
        "\n",
        "    lgbm.fit(trainX, trainY, \n",
        "        eval_set=[(trainX, trainY), (validX, validY)], \n",
        "        eval_metric = 'auc', \n",
        "        verbose = 100, \n",
        "        early_stopping_rounds = 125)\n",
        "\n",
        "    oofPreds[validXId] = lgbm.predict_proba(validX, num_iteration = lgbm.best_iteration_)[:, 1]\n",
        "    \n",
        "    print('Fold %2d AUC : %.6f' % (n_fold + 1, roc_auc_score(validY, oofPreds[validXId])))\n",
        "    \n",
        "    # cleanup\n",
        "    print('Cleanup')\n",
        "    del trainX, trainY, validX, validY\n",
        "    gc.collect()\n",
        "\n",
        "    subPreds += lgbm.predict_proba(test[features], num_iteration = lgbm.best_iteration_)[:, 1] / folds.n_splits\n",
        "        \n",
        "    # Feature Importance\n",
        "    fold_importance_df = pd.DataFrame()\n",
        "    fold_importance_df[\"feature\"] = features\n",
        "    fold_importance_df[\"importance\"] = lgbm.feature_importances_\n",
        "    fold_importance_df[\"fold\"] = n_fold + 1\n",
        "    featureImportanceDf = pd.concat([featureImportanceDf, fold_importance_df], axis=0)\n",
        "        \n",
        "    # cleanup\n",
        "    print('Cleanup. Post-Fold')\n",
        "    del lgbm\n",
        "    gc.collect()"
      ],
      "execution_count": 0,
      "outputs": [
        {
          "output_type": "stream",
          "text": [
            "== Fold: 0\n"
          ],
          "name": "stdout"
        },
        {
          "output_type": "stream",
          "text": [
            "/usr/local/lib/python3.6/dist-packages/sklearn/preprocessing/label.py:219: DataConversionWarning: A column-vector y was passed when a 1d array was expected. Please change the shape of y to (n_samples, ), for example using ravel().\n",
            "  y = column_or_1d(y, warn=True)\n",
            "/usr/local/lib/python3.6/dist-packages/sklearn/preprocessing/label.py:252: DataConversionWarning: A column-vector y was passed when a 1d array was expected. Please change the shape of y to (n_samples, ), for example using ravel().\n",
            "  y = column_or_1d(y, warn=True)\n",
            "/usr/local/lib/python3.6/dist-packages/sklearn/preprocessing/label.py:252: DataConversionWarning: A column-vector y was passed when a 1d array was expected. Please change the shape of y to (n_samples, ), for example using ravel().\n",
            "  y = column_or_1d(y, warn=True)\n"
          ],
          "name": "stderr"
        },
        {
          "output_type": "stream",
          "text": [
            "Training until validation scores don't improve for 125 rounds.\n",
            "[100]\ttraining's binary_logloss: 0.662795\ttraining's auc: 0.636347\tvalid_1's binary_logloss: 0.664376\tvalid_1's auc: 0.632339\n",
            "[200]\ttraining's binary_logloss: 0.660941\ttraining's auc: 0.640195\tvalid_1's binary_logloss: 0.664017\tvalid_1's auc: 0.632725\n",
            "[300]\ttraining's binary_logloss: 0.659856\ttraining's auc: 0.642523\tvalid_1's binary_logloss: 0.664046\tvalid_1's auc: 0.632526\n",
            "Early stopping, best iteration is:\n",
            "[187]\ttraining's binary_logloss: 0.661111\ttraining's auc: 0.639814\tvalid_1's binary_logloss: 0.664007\tvalid_1's auc: 0.63278\n",
            "Fold  1 AUC : 0.632780\n",
            "Cleanup\n",
            "Cleanup. Post-Fold\n",
            "== Fold: 1\n"
          ],
          "name": "stdout"
        },
        {
          "output_type": "stream",
          "text": [
            "/usr/local/lib/python3.6/dist-packages/sklearn/preprocessing/label.py:219: DataConversionWarning: A column-vector y was passed when a 1d array was expected. Please change the shape of y to (n_samples, ), for example using ravel().\n",
            "  y = column_or_1d(y, warn=True)\n",
            "/usr/local/lib/python3.6/dist-packages/sklearn/preprocessing/label.py:252: DataConversionWarning: A column-vector y was passed when a 1d array was expected. Please change the shape of y to (n_samples, ), for example using ravel().\n",
            "  y = column_or_1d(y, warn=True)\n",
            "/usr/local/lib/python3.6/dist-packages/sklearn/preprocessing/label.py:252: DataConversionWarning: A column-vector y was passed when a 1d array was expected. Please change the shape of y to (n_samples, ), for example using ravel().\n",
            "  y = column_or_1d(y, warn=True)\n"
          ],
          "name": "stderr"
        },
        {
          "output_type": "stream",
          "text": [
            "Training until validation scores don't improve for 125 rounds.\n",
            "[100]\ttraining's binary_logloss: 0.662676\ttraining's auc: 0.636555\tvalid_1's binary_logloss: 0.664629\tvalid_1's auc: 0.631692\n",
            "[200]\ttraining's binary_logloss: 0.660875\ttraining's auc: 0.640273\tvalid_1's binary_logloss: 0.664214\tvalid_1's auc: 0.63227\n",
            "[300]\ttraining's binary_logloss: 0.659803\ttraining's auc: 0.642594\tvalid_1's binary_logloss: 0.664205\tvalid_1's auc: 0.632198\n",
            "Early stopping, best iteration is:\n",
            "[207]\ttraining's binary_logloss: 0.660776\ttraining's auc: 0.640474\tvalid_1's binary_logloss: 0.664195\tvalid_1's auc: 0.632305\n",
            "Fold  2 AUC : 0.632305\n",
            "Cleanup\n",
            "Cleanup. Post-Fold\n",
            "== Fold: 2\n"
          ],
          "name": "stdout"
        },
        {
          "output_type": "stream",
          "text": [
            "/usr/local/lib/python3.6/dist-packages/sklearn/preprocessing/label.py:219: DataConversionWarning: A column-vector y was passed when a 1d array was expected. Please change the shape of y to (n_samples, ), for example using ravel().\n",
            "  y = column_or_1d(y, warn=True)\n",
            "/usr/local/lib/python3.6/dist-packages/sklearn/preprocessing/label.py:252: DataConversionWarning: A column-vector y was passed when a 1d array was expected. Please change the shape of y to (n_samples, ), for example using ravel().\n",
            "  y = column_or_1d(y, warn=True)\n",
            "/usr/local/lib/python3.6/dist-packages/sklearn/preprocessing/label.py:252: DataConversionWarning: A column-vector y was passed when a 1d array was expected. Please change the shape of y to (n_samples, ), for example using ravel().\n",
            "  y = column_or_1d(y, warn=True)\n"
          ],
          "name": "stderr"
        },
        {
          "output_type": "stream",
          "text": [
            "Training until validation scores don't improve for 125 rounds.\n",
            "[100]\ttraining's binary_logloss: 0.662608\ttraining's auc: 0.636696\tvalid_1's binary_logloss: 0.664969\tvalid_1's auc: 0.630792\n",
            "[200]\ttraining's binary_logloss: 0.660782\ttraining's auc: 0.640522\tvalid_1's binary_logloss: 0.664706\tvalid_1's auc: 0.63118\n",
            "Early stopping, best iteration is:\n",
            "[171]\ttraining's binary_logloss: 0.661228\ttraining's auc: 0.639565\tvalid_1's binary_logloss: 0.664719\tvalid_1's auc: 0.631208\n",
            "Fold  3 AUC : 0.631208\n",
            "Cleanup\n",
            "Cleanup. Post-Fold\n",
            "== Fold: 3\n"
          ],
          "name": "stdout"
        },
        {
          "output_type": "stream",
          "text": [
            "/usr/local/lib/python3.6/dist-packages/sklearn/preprocessing/label.py:219: DataConversionWarning: A column-vector y was passed when a 1d array was expected. Please change the shape of y to (n_samples, ), for example using ravel().\n",
            "  y = column_or_1d(y, warn=True)\n",
            "/usr/local/lib/python3.6/dist-packages/sklearn/preprocessing/label.py:252: DataConversionWarning: A column-vector y was passed when a 1d array was expected. Please change the shape of y to (n_samples, ), for example using ravel().\n",
            "  y = column_or_1d(y, warn=True)\n",
            "/usr/local/lib/python3.6/dist-packages/sklearn/preprocessing/label.py:252: DataConversionWarning: A column-vector y was passed when a 1d array was expected. Please change the shape of y to (n_samples, ), for example using ravel().\n",
            "  y = column_or_1d(y, warn=True)\n"
          ],
          "name": "stderr"
        },
        {
          "output_type": "stream",
          "text": [
            "Training until validation scores don't improve for 125 rounds.\n",
            "[100]\ttraining's binary_logloss: 0.662585\ttraining's auc: 0.636735\tvalid_1's binary_logloss: 0.665019\tvalid_1's auc: 0.630948\n",
            "[200]\ttraining's binary_logloss: 0.660781\ttraining's auc: 0.640491\tvalid_1's binary_logloss: 0.664624\tvalid_1's auc: 0.631677\n",
            "[300]\ttraining's binary_logloss: 0.659707\ttraining's auc: 0.642776\tvalid_1's binary_logloss: 0.664623\tvalid_1's auc: 0.631667\n",
            "Early stopping, best iteration is:\n",
            "[225]\ttraining's binary_logloss: 0.660468\ttraining's auc: 0.641152\tvalid_1's binary_logloss: 0.664592\tvalid_1's auc: 0.631735\n",
            "Fold  4 AUC : 0.631735\n",
            "Cleanup\n",
            "Cleanup. Post-Fold\n",
            "== Fold: 4\n"
          ],
          "name": "stdout"
        },
        {
          "output_type": "stream",
          "text": [
            "/usr/local/lib/python3.6/dist-packages/sklearn/preprocessing/label.py:219: DataConversionWarning: A column-vector y was passed when a 1d array was expected. Please change the shape of y to (n_samples, ), for example using ravel().\n",
            "  y = column_or_1d(y, warn=True)\n",
            "/usr/local/lib/python3.6/dist-packages/sklearn/preprocessing/label.py:252: DataConversionWarning: A column-vector y was passed when a 1d array was expected. Please change the shape of y to (n_samples, ), for example using ravel().\n",
            "  y = column_or_1d(y, warn=True)\n",
            "/usr/local/lib/python3.6/dist-packages/sklearn/preprocessing/label.py:252: DataConversionWarning: A column-vector y was passed when a 1d array was expected. Please change the shape of y to (n_samples, ), for example using ravel().\n",
            "  y = column_or_1d(y, warn=True)\n"
          ],
          "name": "stderr"
        },
        {
          "output_type": "stream",
          "text": [
            "Training until validation scores don't improve for 125 rounds.\n",
            "[100]\ttraining's binary_logloss: 0.662779\ttraining's auc: 0.636335\tvalid_1's binary_logloss: 0.66473\tvalid_1's auc: 0.63143\n",
            "[200]\ttraining's binary_logloss: 0.660971\ttraining's auc: 0.640104\tvalid_1's binary_logloss: 0.664354\tvalid_1's auc: 0.631974\n",
            "[300]\ttraining's binary_logloss: 0.65987\ttraining's auc: 0.642467\tvalid_1's binary_logloss: 0.664334\tvalid_1's auc: 0.631933\n",
            "Early stopping, best iteration is:\n",
            "[225]\ttraining's binary_logloss: 0.660654\ttraining's auc: 0.640765\tvalid_1's binary_logloss: 0.664308\tvalid_1's auc: 0.632035\n",
            "Fold  5 AUC : 0.632035\n",
            "Cleanup\n",
            "Cleanup. Post-Fold\n"
          ],
          "name": "stdout"
        }
      ]
    },
    {
      "metadata": {
        "id": "aYO9MaX5jYpj",
        "colab_type": "code",
        "outputId": "66e96445-7aa4-4a22-8615-e01673e05800",
        "colab": {
          "base_uri": "https://localhost:8080/",
          "height": 1054
        }
      },
      "cell_type": "code",
      "source": [
        "print('Full AUC score %.6f' % roc_auc_score(labels, oofPreds))\n",
        "\n",
        "# Feature Importance\n",
        "displayImportances(featureImportanceDf, submissionFileName)"
      ],
      "execution_count": 0,
      "outputs": [
        {
          "output_type": "stream",
          "text": [
            "Full AUC score 0.632011\n"
          ],
          "name": "stdout"
        },
        {
          "output_type": "display_data",
          "data": {
            "image/png": "[encoded data removed]",
            "text/plain": [
              "<Figure size 1008x1008 with 1 Axes>"
            ]
          },
          "metadata": {
            "tags": []
          }
        }
      ]
    },
    {
      "metadata": {
        "id": "sG0zzG0JqQCE",
        "colab_type": "code",
        "colab": {}
      },
      "cell_type": "code",
      "source": [
        "kaggleSubmission = pd.read_csv(dataFolder + 'sample_submission.csv.zip')\n",
        "kaggleSubmission['HasDetections'] = subPreds\n",
        "kaggleSubmission.to_csv(submissionFileName + '.csv', index = False)"
      ],
      "execution_count": 0,
      "outputs": []
    },
    {
      "metadata": {
        "id": "vQcOOkZPq2rI",
        "colab_type": "code",
        "outputId": "c854cb37-e152-4147-a33e-f86193c37927",
        "colab": {
          "base_uri": "https://localhost:8080/",
          "height": 224
        }
      },
      "cell_type": "code",
      "source": [
        "!pip install pydrive\n",
        "from pydrive.auth import GoogleAuth\n",
        "from pydrive.drive import GoogleDrive\n",
        "from google.colab import auth\n",
        "from oauth2client.client import GoogleCredentials\n",
        "\n",
        "# Authenticate and create the PyDrive client.\n",
        "# This only needs to be done once in a notebook.\n",
        "auth.authenticate_user()\n",
        "gauth = GoogleAuth()\n",
        "gauth.credentials = GoogleCredentials.get_application_default()\n",
        "drive = GoogleDrive(gauth)\n",
        "\n",
        "# Create & upload a file.\n",
        "uploaded = drive.CreateFile({'title': 'submission.csv'})\n",
        "uploaded.SetContentFile('submission.csv')\n",
        "uploaded.Upload()\n",
        "print('Uploaded file with ID {}'.format(uploaded.get('id')))"
      ],
      "execution_count": 0,
      "outputs": [
        {
          "output_type": "stream",
          "text": [
            "Requirement already satisfied: pydrive in /usr/local/lib/python3.6/dist-packages (1.3.1)\n",
            "Requirement already satisfied: oauth2client>=4.0.0 in /usr/local/lib/python3.6/dist-packages (from pydrive) (4.1.3)\n",
            "Requirement already satisfied: google-api-python-client>=1.2 in /usr/local/lib/python3.6/dist-packages (from pydrive) (1.6.7)\n",
            "Requirement already satisfied: PyYAML>=3.0 in /usr/local/lib/python3.6/dist-packages (from pydrive) (3.13)\n",
            "Requirement already satisfied: rsa>=3.1.4 in /usr/local/lib/python3.6/dist-packages (from oauth2client>=4.0.0->pydrive) (4.0)\n",
            "Requirement already satisfied: six>=1.6.1 in /usr/local/lib/python3.6/dist-packages (from oauth2client>=4.0.0->pydrive) (1.11.0)\n",
            "Requirement already satisfied: httplib2>=0.9.1 in /usr/local/lib/python3.6/dist-packages (from oauth2client>=4.0.0->pydrive) (0.11.3)\n",
            "Requirement already satisfied: pyasn1-modules>=0.0.5 in /usr/local/lib/python3.6/dist-packages (from oauth2client>=4.0.0->pydrive) (0.2.4)\n",
            "Requirement already satisfied: pyasn1>=0.1.7 in /usr/local/lib/python3.6/dist-packages (from oauth2client>=4.0.0->pydrive) (0.4.5)\n",
            "Requirement already satisfied: uritemplate<4dev,>=3.0.0 in /usr/local/lib/python3.6/dist-packages (from google-api-python-client>=1.2->pydrive) (3.0.0)\n",
            "Uploaded file with ID 11uU2B6slJAjXexc03t81A-JaC2KOTC8-\n"
          ],
          "name": "stdout"
        }
      ]
    },
    {
      "metadata": {
        "id": "h1OyuKXWsKOr",
        "colab_type": "text"
      },
      "cell_type": "markdown",
      "source": [
        "Score of .604 - when considered the max was ~.7 the performance is good, considering how few features! "
      ]
    },
    {
      "metadata": {
        "id": "A3f--deMuJgv",
        "colab_type": "text"
      },
      "cell_type": "markdown",
      "source": [
        "# Now Trying with 5 features"
      ]
    },
    {
      "metadata": {
        "id": "0XulpNXJuM19",
        "colab_type": "code",
        "colab": {}
      },
      "cell_type": "code",
      "source": [
        "#vars\n",
        "dataFolder = '/content/'\n",
        "submissionFileName = 'submission1'\n",
        "trainFile='train.csv.zip'\n",
        "testFile='test.csv.zip'\n",
        "#used 4000000 nr of rows in stead of 8000000 because of Kernel memory issue\n",
        "numberOfRows = 2500000"
      ],
      "execution_count": 0,
      "outputs": []
    },
    {
      "metadata": {
        "id": "o0tsXAuyuZ54",
        "colab_type": "code",
        "colab": {}
      },
      "cell_type": "code",
      "source": [
        "seed = 6001\n",
        "np.random.seed(seed)\n",
        "random.seed(seed)"
      ],
      "execution_count": 0,
      "outputs": []
    },
    {
      "metadata": {
        "id": "581qMoo7uhEO",
        "colab_type": "code",
        "colab": {}
      },
      "cell_type": "code",
      "source": [
        "def displayImportances(featureImportanceDf, submissionFileName):\n",
        "    cols = featureImportanceDf[[\"feature\", \"importance\"]].groupby(\"feature\").mean().sort_values(by = \"importance\", ascending = False).index\n",
        "    bestFeatures = featureImportanceDf.loc[featureImportanceDf.feature.isin(cols)]\n",
        "    plot.figure(figsize = (14, 14))\n",
        "    sb.barplot(x = \"importance\", y = \"feature\", data = bestFeatures.sort_values(by = \"importance\", ascending = False))\n",
        "    plot.title('LightGBM Features')\n",
        "    plot.tight_layout()\n",
        "    plot.savefig(submissionFileName + '.png')"
      ],
      "execution_count": 0,
      "outputs": []
    },
    {
      "metadata": {
        "id": "5hmhf1qmunf1",
        "colab_type": "code",
        "colab": {}
      },
      "cell_type": "code",
      "source": [
        "dtypes = {\n",
        "        'MachineIdentifier':                                    'category',\n",
        "        'ProductName':                                          'category',\n",
        "        'EngineVersion':                                        'category',\n",
        "        'AppVersion':                                           'category',\n",
        "        'AvSigVersion':                                         'category',\n",
        "        'IsBeta':                                               'int8',\n",
        "        'RtpStateBitfield':                                     'float16',\n",
        "        'IsSxsPassiveMode':                                     'int8',\n",
        "        'DefaultBrowsersIdentifier':                            'float16',\n",
        "        'AVProductStatesIdentifier':                            'float32',\n",
        "        'AVProductsInstalled':                                  'float16',\n",
        "        'AVProductsEnabled':                                    'float16',\n",
        "        'HasTpm':                                               'int8',\n",
        "        'CountryIdentifier':                                    'int16',\n",
        "        'CityIdentifier':                                       'float32',\n",
        "        'OrganizationIdentifier':                               'float16',\n",
        "        'GeoNameIdentifier':                                    'float16',\n",
        "        'LocaleEnglishNameIdentifier':                          'int8',\n",
        "        'Platform':                                             'category',\n",
        "        'Processor':                                            'category',\n",
        "        'OsVer':                                                'category',\n",
        "        'OsBuild':                                              'int16',\n",
        "        'OsSuite':                                              'int16',\n",
        "        'OsPlatformSubRelease':                                 'category',\n",
        "        'OsBuildLab':                                           'category',\n",
        "        'SkuEdition':                                           'category',\n",
        "        'IsProtected':                                          'float16',\n",
        "        'AutoSampleOptIn':                                      'int8',\n",
        "        'PuaMode':                                              'category',\n",
        "        'SMode':                                                'float16',\n",
        "        'IeVerIdentifier':                                      'float16',\n",
        "        'SmartScreen':                                          'category',\n",
        "        'Firewall':                                             'float16',\n",
        "        'UacLuaenable':                                         'float32',\n",
        "        'Census_MDC2FormFactor':                                'category',\n",
        "        'Census_DeviceFamily':                                  'category',\n",
        "        'Census_OEMNameIdentifier':                             'float16',\n",
        "        'Census_OEMModelIdentifier':                            'float32',\n",
        "        'Census_ProcessorCoreCount':                            'float16',\n",
        "        'Census_ProcessorManufacturerIdentifier':               'float16',\n",
        "        'Census_ProcessorModelIdentifier':                      'float16',\n",
        "        'Census_ProcessorClass':                                'category',\n",
        "        'Census_PrimaryDiskTotalCapacity':                      'float32',\n",
        "        'Census_PrimaryDiskTypeName':                           'category',\n",
        "        'Census_SystemVolumeTotalCapacity':                     'float32',\n",
        "        'Census_HasOpticalDiskDrive':                           'int8',\n",
        "        'Census_TotalPhysicalRAM':                              'float32',\n",
        "        'Census_ChassisTypeName':                               'category',\n",
        "        'Census_InternalPrimaryDiagonalDisplaySizeInInches':    'float16',\n",
        "        'Census_InternalPrimaryDisplayResolutionHorizontal':    'float16',\n",
        "        'Census_InternalPrimaryDisplayResolutionVertical':      'float16',\n",
        "        'Census_PowerPlatformRoleName':                         'category',\n",
        "        'Census_InternalBatteryType':                           'category',\n",
        "        'Census_InternalBatteryNumberOfCharges':                'float32',\n",
        "        'Census_OSVersion':                                     'category',\n",
        "        'Census_OSArchitecture':                                'category',\n",
        "        'Census_OSBranch':                                      'category',\n",
        "        'Census_OSBuildNumber':                                 'int16',\n",
        "        'Census_OSBuildRevision':                               'int32',\n",
        "        'Census_OSEdition':                                     'category',\n",
        "        'Census_OSSkuName':                                     'category',\n",
        "        'Census_OSInstallTypeName':                             'category',\n",
        "        'Census_OSInstallLanguageIdentifier':                   'float16',\n",
        "        'Census_OSUILocaleIdentifier':                          'int16',\n",
        "        'Census_OSWUAutoUpdateOptionsName':                     'category',\n",
        "        'Census_IsPortableOperatingSystem':                     'int8',\n",
        "        'Census_GenuineStateName':                              'category',\n",
        "        'Census_ActivationChannel':                             'category',\n",
        "        'Census_IsFlightingInternal':                           'float16',\n",
        "        'Census_IsFlightsDisabled':                             'float16',\n",
        "        'Census_FlightRing':                                    'category',\n",
        "        'Census_ThresholdOptIn':                                'float16',\n",
        "        'Census_FirmwareManufacturerIdentifier':                'float16',\n",
        "        'Census_FirmwareVersionIdentifier':                     'float32',\n",
        "        'Census_IsSecureBootEnabled':                           'int8',\n",
        "        'Census_IsWIMBootEnabled':                              'float16',\n",
        "        'Census_IsVirtualDevice':                               'float16',\n",
        "        'Census_IsTouchEnabled':                                'int8',\n",
        "        'Census_IsPenCapable':                                  'int8',\n",
        "        'Census_IsAlwaysOnAlwaysConnectedCapable':              'float16',\n",
        "        'Wdft_IsGamer':                                         'float16',\n",
        "        'Wdft_RegionIdentifier':                                'float16',\n",
        "        'HasDetections':                                        'int8'\n",
        "        }\n",
        "\n",
        "selectedFeatures = [  \n",
        "    'CountryIdentifier',                                  \n",
        "    'CityIdentifier',                                      \n",
        "    'Census_OSVersion',                                        \n",
        "    'Census_SystemVolumeTotalCapacity', \n",
        "    'AVProductStatesIdentifier'\n",
        "    ]"
      ],
      "execution_count": 0,
      "outputs": []
    },
    {
      "metadata": {
        "id": "h45TPNVLu2Ht",
        "colab_type": "code",
        "outputId": "db5e6f5d-c980-40c3-d524-e811ecc4433d",
        "colab": {
          "base_uri": "https://localhost:8080/",
          "height": 85
        }
      },
      "cell_type": "code",
      "source": [
        "trainDf = pd.read_csv(dataFolder + trainFile, dtype=dtypes, usecols=selectedFeatures, low_memory=True, nrows = numberOfRows)\n",
        "labels = pd.read_csv(dataFolder + trainFile, usecols = ['HasDetections'], nrows = numberOfRows)\n",
        "testDf = pd.read_csv(dataFolder + testFile, dtype=dtypes, usecols=selectedFeatures, low_memory=True)\n",
        "print('== Dataset Shapes ==')\n",
        "print('Train : ' + str(trainDf.shape))\n",
        "print('Labels : ' + str(labels.shape))\n",
        "print('Test : ' + str(testDf.shape))"
      ],
      "execution_count": 0,
      "outputs": [
        {
          "output_type": "stream",
          "text": [
            "== Dataset Shapes ==\n",
            "Train : (2500000, 5)\n",
            "Labels : (2500000, 1)\n",
            "Test : (7853253, 5)\n"
          ],
          "name": "stdout"
        }
      ]
    },
    {
      "metadata": {
        "id": "Sr8pNyzDvGhc",
        "colab_type": "code",
        "outputId": "cea819fa-a9f4-42a7-fc36-7e2ce5ec6aa1",
        "colab": {
          "base_uri": "https://localhost:8080/",
          "height": 34
        }
      },
      "cell_type": "code",
      "source": [
        "# Append Datasets and Cleanup\n",
        "df = trainDf.append(testDf).reset_index()\n",
        "del trainDf, testDf\n",
        "gc.collect()"
      ],
      "execution_count": 0,
      "outputs": [
        {
          "output_type": "execute_result",
          "data": {
            "text/plain": [
              "11457"
            ]
          },
          "metadata": {
            "tags": []
          },
          "execution_count": 33
        }
      ]
    },
    {
      "metadata": {
        "id": "wZqmBHCevOca",
        "colab_type": "code",
        "outputId": "73570419-9a0d-4f9c-d8ed-fc43d10aeb38",
        "colab": {
          "base_uri": "https://localhost:8080/",
          "height": 51
        }
      },
      "cell_type": "code",
      "source": [
        "#Count Encoding (with exceptions)\n",
        "for col in [f for f in df.columns if f not in ['index','HasDetections','Census_SystemVolumeTotalCapacity']]:\n",
        "    df[col]=df[col].map(df[col].value_counts())\n",
        "\n",
        "dfDummy = pd.get_dummies(df, dummy_na=True)\n",
        "print('Dummy: ' + str(dfDummy.shape))\n",
        "\n",
        "# Cleanup\n",
        "del df\n",
        "gc.collect()"
      ],
      "execution_count": 0,
      "outputs": [
        {
          "output_type": "stream",
          "text": [
            "Dummy: (10353253, 6)\n"
          ],
          "name": "stdout"
        },
        {
          "output_type": "execute_result",
          "data": {
            "text/plain": [
              "64"
            ]
          },
          "metadata": {
            "tags": []
          },
          "execution_count": 34
        }
      ]
    },
    {
      "metadata": {
        "id": "Q4gWQ4PWvbDp",
        "colab_type": "code",
        "outputId": "b81a8764-4ee6-45ae-dc8d-d192a324ee82",
        "colab": {
          "base_uri": "https://localhost:8080/",
          "height": 170
        }
      },
      "cell_type": "code",
      "source": [
        "# Split back to train and test\n",
        "train = dfDummy[:numberOfRows]\n",
        "test = dfDummy[numberOfRows:]\n",
        "\n",
        "# Cleanup\n",
        "del dfDummy\n",
        "gc.collect()\n",
        "\n",
        "# Summary Shape\n",
        "print('== Dataset Shapes ==')\n",
        "print('Train: ' + str(train.shape))\n",
        "print('Test: ' + str(test.shape))\n",
        "\n",
        "# Summary Columns\n",
        "print('== Dataset Columns ==')\n",
        "features = [f for f in train.columns if f not in ['index']]\n",
        "for feature in features:\n",
        "    print(feature)"
      ],
      "execution_count": 0,
      "outputs": [
        {
          "output_type": "stream",
          "text": [
            "== Dataset Shapes ==\n",
            "Train: (2500000, 6)\n",
            "Test: (7853253, 6)\n",
            "== Dataset Columns ==\n",
            "AVProductStatesIdentifier\n",
            "CountryIdentifier\n",
            "CityIdentifier\n",
            "Census_SystemVolumeTotalCapacity\n",
            "Census_OSVersion\n"
          ],
          "name": "stdout"
        }
      ]
    },
    {
      "metadata": {
        "id": "wI2lNcUvvhv7",
        "colab_type": "code",
        "outputId": "6b0e99bb-8a1b-4f63-f4be-cd3d9e1e0334",
        "colab": {
          "base_uri": "https://localhost:8080/",
          "height": 1601
        }
      },
      "cell_type": "code",
      "source": [
        "# CV Folds\n",
        "folds = StratifiedKFold(n_splits = 5, shuffle = True, random_state = seed)\n",
        "\n",
        "# Create arrays and dataframes to store results\n",
        "oofPreds = np.zeros(train.shape[0])\n",
        "subPreds = np.zeros(test.shape[0])\n",
        "featureImportanceDf = pd.DataFrame()\n",
        "\n",
        "# Loop through all Folds.\n",
        "for n_fold, (trainXId, validXId) in enumerate(folds.split(train[features], labels)):\n",
        "    # Create TrainXY and ValidationXY set based on fold-indexes\n",
        "    trainX, trainY = train[features].iloc[trainXId], labels.iloc[trainXId]\n",
        "    validX, validY = train[features].iloc[validXId], labels.iloc[validXId]\n",
        "\n",
        "    print('== Fold: ' + str(n_fold))\n",
        "\n",
        "    # LightGBM parameters\n",
        "    lgbm = LGBMClassifier(\n",
        "        objective = 'binary',\n",
        "        boosting_type = 'gbdt',\n",
        "        n_estimators = 2500,\n",
        "        learning_rate = 0.1, \n",
        "        num_leaves = 200,\n",
        "        min_data_in_leaf = 125, \n",
        "        bagging_fraction = 0.901,\n",
        "        max_depth = 13, \n",
        "        reg_alpha = 2.5,\n",
        "        reg_lambda = 2.5,\n",
        "        min_split_gain = 0.0001,\n",
        "        min_child_weight = 25,\n",
        "        feature_fraction = 0.5, \n",
        "        silent = -1,\n",
        "        verbose = -1,\n",
        "        #n_jobs is set to -1 instead of 4 otherwise the kernell will time out\n",
        "        n_jobs = 4) \n",
        "\n",
        "    lgbm.fit(trainX, trainY, \n",
        "        eval_set=[(trainX, trainY), (validX, validY)], \n",
        "        eval_metric = 'auc', \n",
        "        verbose = 100, \n",
        "        early_stopping_rounds = 125)\n",
        "\n",
        "    oofPreds[validXId] = lgbm.predict_proba(validX, num_iteration = lgbm.best_iteration_)[:, 1]\n",
        "    \n",
        "    print('Fold %2d AUC : %.6f' % (n_fold + 1, roc_auc_score(validY, oofPreds[validXId])))\n",
        "    \n",
        "    # cleanup\n",
        "    print('Cleanup')\n",
        "    del trainX, trainY, validX, validY\n",
        "    gc.collect()\n",
        "\n",
        "    subPreds += lgbm.predict_proba(test[features], num_iteration = lgbm.best_iteration_)[:, 1] / folds.n_splits\n",
        "        \n",
        "    # Feature Importance\n",
        "    fold_importance_df = pd.DataFrame()\n",
        "    fold_importance_df[\"feature\"] = features\n",
        "    fold_importance_df[\"importance\"] = lgbm.feature_importances_\n",
        "    fold_importance_df[\"fold\"] = n_fold + 1\n",
        "    featureImportanceDf = pd.concat([featureImportanceDf, fold_importance_df], axis=0)\n",
        "        \n",
        "    # cleanup\n",
        "    print('Cleanup. Post-Fold')\n",
        "    del lgbm\n",
        "    gc.collect()"
      ],
      "execution_count": 0,
      "outputs": [
        {
          "output_type": "stream",
          "text": [
            "== Fold: 0\n"
          ],
          "name": "stdout"
        },
        {
          "output_type": "stream",
          "text": [
            "/usr/local/lib/python3.6/dist-packages/sklearn/preprocessing/label.py:219: DataConversionWarning: A column-vector y was passed when a 1d array was expected. Please change the shape of y to (n_samples, ), for example using ravel().\n",
            "  y = column_or_1d(y, warn=True)\n",
            "/usr/local/lib/python3.6/dist-packages/sklearn/preprocessing/label.py:252: DataConversionWarning: A column-vector y was passed when a 1d array was expected. Please change the shape of y to (n_samples, ), for example using ravel().\n",
            "  y = column_or_1d(y, warn=True)\n",
            "/usr/local/lib/python3.6/dist-packages/sklearn/preprocessing/label.py:252: DataConversionWarning: A column-vector y was passed when a 1d array was expected. Please change the shape of y to (n_samples, ), for example using ravel().\n",
            "  y = column_or_1d(y, warn=True)\n"
          ],
          "name": "stderr"
        },
        {
          "output_type": "stream",
          "text": [
            "Training until validation scores don't improve for 125 rounds.\n",
            "[100]\ttraining's binary_logloss: 0.657776\ttraining's auc: 0.649102\tvalid_1's binary_logloss: 0.659929\tvalid_1's auc: 0.644067\n",
            "[200]\ttraining's binary_logloss: 0.654321\ttraining's auc: 0.654984\tvalid_1's binary_logloss: 0.658474\tvalid_1's auc: 0.646198\n",
            "[300]\ttraining's binary_logloss: 0.652452\ttraining's auc: 0.658426\tvalid_1's binary_logloss: 0.65817\tvalid_1's auc: 0.646679\n",
            "[400]\ttraining's binary_logloss: 0.650796\ttraining's auc: 0.661458\tvalid_1's binary_logloss: 0.658034\tvalid_1's auc: 0.646838\n",
            "[500]\ttraining's binary_logloss: 0.649411\ttraining's auc: 0.663923\tvalid_1's binary_logloss: 0.658015\tvalid_1's auc: 0.646853\n",
            "Early stopping, best iteration is:\n",
            "[384]\ttraining's binary_logloss: 0.651026\ttraining's auc: 0.661028\tvalid_1's binary_logloss: 0.658017\tvalid_1's auc: 0.646903\n",
            "Fold  1 AUC : 0.646903\n",
            "Cleanup\n",
            "Cleanup. Post-Fold\n",
            "== Fold: 1\n"
          ],
          "name": "stdout"
        },
        {
          "output_type": "stream",
          "text": [
            "/usr/local/lib/python3.6/dist-packages/sklearn/preprocessing/label.py:219: DataConversionWarning: A column-vector y was passed when a 1d array was expected. Please change the shape of y to (n_samples, ), for example using ravel().\n",
            "  y = column_or_1d(y, warn=True)\n",
            "/usr/local/lib/python3.6/dist-packages/sklearn/preprocessing/label.py:252: DataConversionWarning: A column-vector y was passed when a 1d array was expected. Please change the shape of y to (n_samples, ), for example using ravel().\n",
            "  y = column_or_1d(y, warn=True)\n",
            "/usr/local/lib/python3.6/dist-packages/sklearn/preprocessing/label.py:252: DataConversionWarning: A column-vector y was passed when a 1d array was expected. Please change the shape of y to (n_samples, ), for example using ravel().\n",
            "  y = column_or_1d(y, warn=True)\n"
          ],
          "name": "stderr"
        },
        {
          "output_type": "stream",
          "text": [
            "Training until validation scores don't improve for 125 rounds.\n",
            "[100]\ttraining's binary_logloss: 0.657802\ttraining's auc: 0.649075\tvalid_1's binary_logloss: 0.660149\tvalid_1's auc: 0.643901\n",
            "[200]\ttraining's binary_logloss: 0.654419\ttraining's auc: 0.654847\tvalid_1's binary_logloss: 0.658584\tvalid_1's auc: 0.646308\n",
            "[300]\ttraining's binary_logloss: 0.652493\ttraining's auc: 0.658378\tvalid_1's binary_logloss: 0.658237\tvalid_1's auc: 0.64691\n",
            "[400]\ttraining's binary_logloss: 0.65093\ttraining's auc: 0.661246\tvalid_1's binary_logloss: 0.658053\tvalid_1's auc: 0.647237\n",
            "[500]\ttraining's binary_logloss: 0.64953\ttraining's auc: 0.663724\tvalid_1's binary_logloss: 0.658027\tvalid_1's auc: 0.647304\n",
            "Early stopping, best iteration is:\n",
            "[460]\ttraining's binary_logloss: 0.650077\ttraining's auc: 0.662718\tvalid_1's binary_logloss: 0.658003\tvalid_1's auc: 0.647329\n",
            "Fold  2 AUC : 0.647329\n",
            "Cleanup\n",
            "Cleanup. Post-Fold\n",
            "== Fold: 2\n"
          ],
          "name": "stdout"
        },
        {
          "output_type": "stream",
          "text": [
            "/usr/local/lib/python3.6/dist-packages/sklearn/preprocessing/label.py:219: DataConversionWarning: A column-vector y was passed when a 1d array was expected. Please change the shape of y to (n_samples, ), for example using ravel().\n",
            "  y = column_or_1d(y, warn=True)\n",
            "/usr/local/lib/python3.6/dist-packages/sklearn/preprocessing/label.py:252: DataConversionWarning: A column-vector y was passed when a 1d array was expected. Please change the shape of y to (n_samples, ), for example using ravel().\n",
            "  y = column_or_1d(y, warn=True)\n",
            "/usr/local/lib/python3.6/dist-packages/sklearn/preprocessing/label.py:252: DataConversionWarning: A column-vector y was passed when a 1d array was expected. Please change the shape of y to (n_samples, ), for example using ravel().\n",
            "  y = column_or_1d(y, warn=True)\n"
          ],
          "name": "stderr"
        },
        {
          "output_type": "stream",
          "text": [
            "Training until validation scores don't improve for 125 rounds.\n",
            "[100]\ttraining's binary_logloss: 0.657805\ttraining's auc: 0.649016\tvalid_1's binary_logloss: 0.660361\tvalid_1's auc: 0.643427\n",
            "[200]\ttraining's binary_logloss: 0.654476\ttraining's auc: 0.654683\tvalid_1's binary_logloss: 0.658875\tvalid_1's auc: 0.645785\n",
            "[300]\ttraining's binary_logloss: 0.652438\ttraining's auc: 0.658433\tvalid_1's binary_logloss: 0.658459\tvalid_1's auc: 0.646504\n",
            "[400]\ttraining's binary_logloss: 0.650792\ttraining's auc: 0.661425\tvalid_1's binary_logloss: 0.658266\tvalid_1's auc: 0.646831\n",
            "[500]\ttraining's binary_logloss: 0.649349\ttraining's auc: 0.664022\tvalid_1's binary_logloss: 0.658169\tvalid_1's auc: 0.647074\n",
            "[600]\ttraining's binary_logloss: 0.648158\ttraining's auc: 0.666133\tvalid_1's binary_logloss: 0.658199\tvalid_1's auc: 0.647044\n",
            "Early stopping, best iteration is:\n",
            "[535]\ttraining's binary_logloss: 0.648936\ttraining's auc: 0.664753\tvalid_1's binary_logloss: 0.65816\tvalid_1's auc: 0.647098\n",
            "Fold  3 AUC : 0.647098\n",
            "Cleanup\n",
            "Cleanup. Post-Fold\n",
            "== Fold: 3\n"
          ],
          "name": "stdout"
        },
        {
          "output_type": "stream",
          "text": [
            "/usr/local/lib/python3.6/dist-packages/sklearn/preprocessing/label.py:219: DataConversionWarning: A column-vector y was passed when a 1d array was expected. Please change the shape of y to (n_samples, ), for example using ravel().\n",
            "  y = column_or_1d(y, warn=True)\n",
            "/usr/local/lib/python3.6/dist-packages/sklearn/preprocessing/label.py:252: DataConversionWarning: A column-vector y was passed when a 1d array was expected. Please change the shape of y to (n_samples, ), for example using ravel().\n",
            "  y = column_or_1d(y, warn=True)\n",
            "/usr/local/lib/python3.6/dist-packages/sklearn/preprocessing/label.py:252: DataConversionWarning: A column-vector y was passed when a 1d array was expected. Please change the shape of y to (n_samples, ), for example using ravel().\n",
            "  y = column_or_1d(y, warn=True)\n"
          ],
          "name": "stderr"
        },
        {
          "output_type": "stream",
          "text": [
            "Training until validation scores don't improve for 125 rounds.\n",
            "[100]\ttraining's binary_logloss: 0.657581\ttraining's auc: 0.649477\tvalid_1's binary_logloss: 0.660584\tvalid_1's auc: 0.642898\n",
            "[200]\ttraining's binary_logloss: 0.654258\ttraining's auc: 0.655158\tvalid_1's binary_logloss: 0.659099\tvalid_1's auc: 0.645373\n",
            "[300]\ttraining's binary_logloss: 0.652255\ttraining's auc: 0.658782\tvalid_1's binary_logloss: 0.658734\tvalid_1's auc: 0.646015\n",
            "[400]\ttraining's binary_logloss: 0.650596\ttraining's auc: 0.661807\tvalid_1's binary_logloss: 0.65857\tvalid_1's auc: 0.646314\n",
            "[500]\ttraining's binary_logloss: 0.649191\ttraining's auc: 0.664298\tvalid_1's binary_logloss: 0.658537\tvalid_1's auc: 0.646412\n",
            "[600]\ttraining's binary_logloss: 0.648086\ttraining's auc: 0.666266\tvalid_1's binary_logloss: 0.658582\tvalid_1's auc: 0.646371\n",
            "Early stopping, best iteration is:\n",
            "[481]\ttraining's binary_logloss: 0.649444\ttraining's auc: 0.663835\tvalid_1's binary_logloss: 0.658512\tvalid_1's auc: 0.646447\n",
            "Fold  4 AUC : 0.646447\n",
            "Cleanup\n",
            "Cleanup. Post-Fold\n",
            "== Fold: 4\n"
          ],
          "name": "stdout"
        },
        {
          "output_type": "stream",
          "text": [
            "/usr/local/lib/python3.6/dist-packages/sklearn/preprocessing/label.py:219: DataConversionWarning: A column-vector y was passed when a 1d array was expected. Please change the shape of y to (n_samples, ), for example using ravel().\n",
            "  y = column_or_1d(y, warn=True)\n",
            "/usr/local/lib/python3.6/dist-packages/sklearn/preprocessing/label.py:252: DataConversionWarning: A column-vector y was passed when a 1d array was expected. Please change the shape of y to (n_samples, ), for example using ravel().\n",
            "  y = column_or_1d(y, warn=True)\n",
            "/usr/local/lib/python3.6/dist-packages/sklearn/preprocessing/label.py:252: DataConversionWarning: A column-vector y was passed when a 1d array was expected. Please change the shape of y to (n_samples, ), for example using ravel().\n",
            "  y = column_or_1d(y, warn=True)\n"
          ],
          "name": "stderr"
        },
        {
          "output_type": "stream",
          "text": [
            "Training until validation scores don't improve for 125 rounds.\n",
            "[100]\ttraining's binary_logloss: 0.657802\ttraining's auc: 0.649123\tvalid_1's binary_logloss: 0.660278\tvalid_1's auc: 0.643606\n",
            "[200]\ttraining's binary_logloss: 0.654399\ttraining's auc: 0.654903\tvalid_1's binary_logloss: 0.658804\tvalid_1's auc: 0.64588\n",
            "[300]\ttraining's binary_logloss: 0.652302\ttraining's auc: 0.658794\tvalid_1's binary_logloss: 0.658446\tvalid_1's auc: 0.646478\n",
            "[400]\ttraining's binary_logloss: 0.65065\ttraining's auc: 0.661782\tvalid_1's binary_logloss: 0.658295\tvalid_1's auc: 0.646727\n",
            "[500]\ttraining's binary_logloss: 0.649277\ttraining's auc: 0.66424\tvalid_1's binary_logloss: 0.658292\tvalid_1's auc: 0.646715\n",
            "Early stopping, best iteration is:\n",
            "[461]\ttraining's binary_logloss: 0.649792\ttraining's auc: 0.663283\tvalid_1's binary_logloss: 0.658241\tvalid_1's auc: 0.646804\n",
            "Fold  5 AUC : 0.646804\n",
            "Cleanup\n",
            "Cleanup. Post-Fold\n"
          ],
          "name": "stdout"
        }
      ]
    },
    {
      "metadata": {
        "id": "N-U20CNM5_ID",
        "colab_type": "code",
        "outputId": "00067a0c-21a4-4b1b-8023-4602568d739a",
        "colab": {
          "base_uri": "https://localhost:8080/",
          "height": 1054
        }
      },
      "cell_type": "code",
      "source": [
        "print('Full AUC score %.6f' % roc_auc_score(labels, oofPreds))\n",
        "\n",
        "# Feature Importance\n",
        "displayImportances(featureImportanceDf, submissionFileName)"
      ],
      "execution_count": 0,
      "outputs": [
        {
          "output_type": "stream",
          "text": [
            "Full AUC score 0.646915\n"
          ],
          "name": "stdout"
        },
        {
          "output_type": "display_data",
          "data": {
            "image/png": "[encoded data removed]",
            "text/plain": [
              "<Figure size 1008x1008 with 1 Axes>"
            ]
          },
          "metadata": {
            "tags": []
          }
        }
      ]
    },
    {
      "metadata": {
        "id": "JjbBBDkZ9VM7",
        "colab_type": "code",
        "colab": {}
      },
      "cell_type": "code",
      "source": [
        "kaggleSubmission = pd.read_csv(dataFolder + 'sample_submission.csv.zip')\n",
        "kaggleSubmission['HasDetections'] = subPreds\n",
        "kaggleSubmission.to_csv('ssubmission5lgbm' + '.csv', index = False)"
      ],
      "execution_count": 0,
      "outputs": []
    },
    {
      "metadata": {
        "id": "oUcGbtk29bkW",
        "colab_type": "code",
        "outputId": "79a59f5d-523e-4b97-d78b-a25e154d82dc",
        "colab": {
          "base_uri": "https://localhost:8080/",
          "height": 224
        }
      },
      "cell_type": "code",
      "source": [
        "!pip install pydrive\n",
        "from pydrive.auth import GoogleAuth\n",
        "from pydrive.drive import GoogleDrive\n",
        "from google.colab import auth\n",
        "from oauth2client.client import GoogleCredentials\n",
        "\n",
        "# Authenticate and create the PyDrive client.\n",
        "# This only needs to be done once in a notebook.\n",
        "auth.authenticate_user()\n",
        "gauth = GoogleAuth()\n",
        "gauth.credentials = GoogleCredentials.get_application_default()\n",
        "drive = GoogleDrive(gauth)\n",
        "\n",
        "# Create & upload a file.\n",
        "uploaded = drive.CreateFile({'title': 'ssubmission5lgbm.csv'})\n",
        "uploaded.SetContentFile('ssubmission5lgbm.csv')\n",
        "uploaded.Upload()\n",
        "print('Uploaded file with ID {}'.format(uploaded.get('id')))"
      ],
      "execution_count": 0,
      "outputs": [
        {
          "output_type": "stream",
          "text": [
            "Requirement already satisfied: pydrive in /usr/local/lib/python3.6/dist-packages (1.3.1)\n",
            "Requirement already satisfied: PyYAML>=3.0 in /usr/local/lib/python3.6/dist-packages (from pydrive) (3.13)\n",
            "Requirement already satisfied: google-api-python-client>=1.2 in /usr/local/lib/python3.6/dist-packages (from pydrive) (1.6.7)\n",
            "Requirement already satisfied: oauth2client>=4.0.0 in /usr/local/lib/python3.6/dist-packages (from pydrive) (4.1.3)\n",
            "Requirement already satisfied: uritemplate<4dev,>=3.0.0 in /usr/local/lib/python3.6/dist-packages (from google-api-python-client>=1.2->pydrive) (3.0.0)\n",
            "Requirement already satisfied: httplib2<1dev,>=0.9.2 in /usr/local/lib/python3.6/dist-packages (from google-api-python-client>=1.2->pydrive) (0.11.3)\n",
            "Requirement already satisfied: six<2dev,>=1.6.1 in /usr/local/lib/python3.6/dist-packages (from google-api-python-client>=1.2->pydrive) (1.11.0)\n",
            "Requirement already satisfied: pyasn1-modules>=0.0.5 in /usr/local/lib/python3.6/dist-packages (from oauth2client>=4.0.0->pydrive) (0.2.4)\n",
            "Requirement already satisfied: rsa>=3.1.4 in /usr/local/lib/python3.6/dist-packages (from oauth2client>=4.0.0->pydrive) (4.0)\n",
            "Requirement already satisfied: pyasn1>=0.1.7 in /usr/local/lib/python3.6/dist-packages (from oauth2client>=4.0.0->pydrive) (0.4.5)\n",
            "Uploaded file with ID 1fI4iGedIgYtI8gHwaiCte11sOFn4LERk\n"
          ],
          "name": "stdout"
        }
      ]
    },
    {
      "metadata": {
        "id": "_Iw9wVAdBKoq",
        "colab_type": "text"
      },
      "cell_type": "markdown",
      "source": [
        "Increasing the number of features brought the public score up to 0.61585 but also greatly increased execution time"
      ]
    }
  ]
}